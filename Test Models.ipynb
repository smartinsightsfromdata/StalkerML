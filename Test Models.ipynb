{
 "cells": [
  {
   "cell_type": "code",
   "execution_count": 24,
   "metadata": {
    "collapsed": false
   },
   "outputs": [
    {
     "name": "stderr",
     "output_type": "stream",
     "text": [
      "WARNING:gensim.similarities.docsim:scanning corpus to determine the number of features (consider setting `num_features` explicitly)\n"
     ]
    }
   ],
   "source": [
    "from gensim import corpora, models, similarities\n",
    "from lxml.etree import XMLSyntaxError, ParserError\n",
    "import os.path as path\n",
    "import sqlite3\n",
    "import justext\n",
    "import re\n",
    "\n",
    "# def clean_text(text):\n",
    "#     text = re.sub(r'[\\d\\.\\(\\)\\[\\]\\-\\'/:;,\"#&]', ' ', text)\n",
    "#     return re.sub(r' +', ' ', text)\n",
    "\n",
    "# def extract_text(html):\n",
    "#     text = []\n",
    "#     paragraphs = justext.justext(html, justext.get_stoplist('German'))\n",
    "#     for paragraph in paragraphs:\n",
    "#         if not paragraph.is_boilerplate and not paragraph.is_heading:\n",
    "#             text.append(paragraph.text)\n",
    "#     return ' '.join(text)\n",
    "\n",
    "# def gen(data):\n",
    "#     for row in data:\n",
    "#         title, summary, html = row\n",
    "#         try:\n",
    "#             text = extract_text(html)\n",
    "#             text = clean_text(text)\n",
    "#             yield (title, summary, text)\n",
    "#         except XMLSyntaxError as error:\n",
    "#             yield ('', '', '')\n",
    "#         except ParserError as error:\n",
    "#             yield ('', '', '')\n",
    "\n",
    "dictionary = corpora.Dictionary.load('corpus.dict')\n",
    "corpus = corpora.MmCorpus('corpus.mm')\n",
    "lda = models.LdaModel.load('model.lda')\n",
    "\n",
    "# sql_query = 'SELECT title, summary, html FROM Sources LEFT JOIN Articles ON Sources.id = Articles.source LIMIT 10'\n",
    "\n",
    "# db_file = path.join('..', 'Crawler', 'Data', 'GermanNews.sqlite')\n",
    "# conn = sqlite3.connect(db_file)\n",
    "# cursor = conn.cursor()\n",
    "\n",
    "# cursor.execute(sql_query)\n",
    "# data = cursor.fetchmany(10)\n",
    "        \n",
    "# for title, summary, text in gen(data):\n",
    "#     bow = dictionary.doc2bow(text.lower().split())\n",
    "#     inf = lda[bow]\n",
    "#     topics = []\n",
    "#     for i, p in inf:\n",
    "#         topics.append(dictionary.get(i, 'EMPTY'))\n",
    "#     print('\\n Title: {}\\n Summary: {}\\n Topics: {}'.format(title, summary, ', '.join(topics)))\n",
    "\n",
    "# conn.close()\n",
    "\n",
    "\n",
    "search = 'Flüchtling Syrien'\n",
    "bow = dictionary.doc2bow(search.lower().split())\n",
    "search_lda = lda[bow]\n",
    "index = similarities.MatrixSimilarity(lda[corpus])\n",
    "found = index[search_lda]"
   ]
  },
  {
   "cell_type": "code",
   "execution_count": 32,
   "metadata": {
    "collapsed": false
   },
   "outputs": [
    {
     "name": "stdout",
     "output_type": "stream",
     "text": [
      "staatsgebiet offiziellen daraufhin internationale drei christliche gestellt angeklagt könne scharon begründung augen brüssel gibt richter angaben libanon aufhalte milizen mittwoch flüchtlingslager hamburg gericht palästinensischen gesetz überlebende sabra zurücktreten belgien berufungsgericht klage amt israels belgischen palästinenser abweisung israelis kriegsverbrechen geklagt menschen verteidigungsministers entschied ariel gelegenen wegen führten getötet ministerpräsident massakers\n",
      "#########################\n",
      "syrischen lebten neuen syrischer allerdings soldaten plant zurückziehen meinte warum usa offenbar formell grund großer krieg sprecherin israel sollen israelische berichte gehen premier räumung lage woche scharon wisse vergangenen vertragsentwurf gebiet bestehen wies begrüßte golanhöhen zurück oppositionsführer streitkräfte idee raffinierten tage referendum haaretz kriegszustand lassen preis vollständigen bestätigen besetzten sagte siedler bereits rückgabe erhalten besteht neu widerstand diktatur leben strategischen unterstützen mittwoch friedensverhandlungen zeit friedensvertrag neben bedingung büro höhen jossi reuters zufolge sprach fordert veröffentlichte friedensvertrags verbleib sei verhandlungen ehud regierungschef entwurf wasserversorgung ministerpräsidenten demokratie mehrere abzuziehen justizminister israels anmerkungen umfragen rundfunk israelischen hinnehmen grenze souveränität zündstoff blatt israelis ermöglichen jemand möglichkeit vollständige sechs begonnen likud genau stehen abmildern rund syrien jüdischen ariel seit ersten sehen geben wolle rechtsgerichteten tür barak drusen baraks trick abzug bedeutung donnerstag gehörten jerusalem prozent siedlungen gebe eingereicht jedoch regelung etwa partei aufgenommen\n",
      "#########################\n",
      "syrischen baschar hand setzen al friedensgespräche sprechen krieg israel gegeben präsident regierung vorbedingungen terje damaskus vier golan beauftragte verlangt sagte larsen syrische rückgabe führen sicherheitsaspekte jahren teilte nahen höhen journalisten gesprochen heute zuvor israelischen präsidenten besetzt reicht israelis verhandlungstisch bislang assad zunächst syrien seit immer osten bestätigt hauptstadt bereit uno erklärt\n",
      "#########################\n",
      "syrischen kriminelle freischärler bewohner schutt deshalb soldaten verletzt us daraufhin unterbrochen schon drei überfällen müsse asche abgefeuert nordisrael israel machte streitpunkt galt israelische verbrannten regierung außenministerin sitzung kraftwerke woche zugebracht aufgehoben kämpft damaskus eskalierende vergangenen botschafter wurde sollten wies erneut vorräten amerikanische golanhöhen vier dar ross januar nächsten früher raketenangriffen unterhält el einzudecken wochen besetzten verhängte sicherheitsgarantien verlangt martin palästinensern gelegt löscharbeiten nutzen ums syrische raketen kommenden bereits beirut handele stellt verübten organisation libanon insgesamt verhältnis teilte leben einrichtung mittwoch vermittler mindestens dienstag hisbollah angeblichen wurden überfälle spirale kampfflugzeuge faruk tausende reuters telefoniert dabei belasten zwei angedroht dennis mitverantwortlich ehud eröffnete ziele luftangriffe hafenstadt ministerpräsidenten forderung politik gelegenheit verantwortlich monaten strom israels versteht minister kette bunker iranischen unterstützung stunden außerdem erde zunehmend israelischen sprecher dreistündigen zwangspause katjuscha pro albright zivilisten angst dialog tötung erklärte gewalt sechs reisen einfluss bestritt rund menschen verteidigungsministers warnte madeleine levy begangen region ordnungsmacht syrien norden täter gekommen mehrfach seit libanesische tyrus geben übergehen akte leitung nacht selbsternannten südlichen barak sicherheitskabinetts waffen offiziell abzug jerusalem ausgehverbot gebeten angriff jedoch erhielten außenminister legen droht handelte\n",
      "#########################\n",
      "guy solle jahr angestrengt israel israelische premier premierminister eu dürfte scharon läuft botschafter massakern belgiens brüssel soir vorladung massaker jahren belgische gericht militäreinsatzes le zufolge überlebende beeindruckt sabra zeitung belgien ministerpräsidenten botschaft termin november ermittlungsverfahren vorwürfen afp rolle israelischen derzeit befragt liegt überreichen fraglich verantworten berichtete staatsbesuchs ariel erscheint wegen wenig verhofstadt ratsvorsitzender papier jedoch montag fast amtierender zeigen\n",
      "#########################\n",
      "schritt fraktion entstanden gemachten einheit trat israel israelische camp regierung verschieben ab persönliche friedensprozess woche scharon angesichts neuwahlen zurück schreibtisch entscheidung palästinensern bevorstehenden sagte geführten besteht verliert rücktritt dienstag rücktrittsschreiben lehnte scheidet pressekonferenz koalition zog zwei situation führer konsequenz verhandlungen ehud ministerpräsidenten weit david bilden ultimativ minister künftigen ap status protest nationalen liegt zugeständnisse likud friedensgesprächen gemacht entschieden levy entscheidungen ariel angeblich rechtsgerichteten wegen barak schwierigen baraks lehnt jerusalem brücke gebeten ministerpräsident jedoch stimmen große gingen aufgefordert außenminister partei\n"
     ]
    }
   ],
   "source": [
    "# readable = sorted(enumerate(found), key=lambda item: -item[1])\n",
    "\n",
    "# search = 'Flüchtling Syrien'\n",
    "# bow = dictionary.doc2bow(search.lower().split())\n",
    "# search_lda = lda[bow]\n",
    "# found = index[search_lda]\n",
    "\n",
    "# sims = sorted(enumerate(found), key=lambda item: -item[1])\n",
    "# print(sims)\n",
    "\n",
    "# def read_corpus(data):\n",
    "#     acc = []\n",
    "#     for i, p in data:\n",
    "#         acc.append(dictionary.get(i))\n",
    "#     print(' '.join(acc))\n",
    "\n",
    "read_corpus(corpus[61030])\n",
    "print('#########################')\n",
    "read_corpus(corpus[755])\n",
    "print('#########################')\n",
    "read_corpus(corpus[117510])\n",
    "print('#########################')\n",
    "read_corpus(corpus[2549])\n",
    "print('#########################')\n",
    "read_corpus(corpus[45798])\n",
    "print('#########################')\n",
    "read_corpus(corpus[13291])"
   ]
  }
 ],
 "metadata": {
  "kernelspec": {
   "display_name": "Python 3",
   "language": "python",
   "name": "python3"
  },
  "language_info": {
   "codemirror_mode": {
    "name": "ipython",
    "version": 3
   },
   "file_extension": ".py",
   "mimetype": "text/x-python",
   "name": "python",
   "nbconvert_exporter": "python",
   "pygments_lexer": "ipython3",
   "version": "3.4.3"
  }
 },
 "nbformat": 4,
 "nbformat_minor": 0
}
