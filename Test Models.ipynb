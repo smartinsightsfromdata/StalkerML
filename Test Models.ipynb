{
 "cells": [
  {
   "cell_type": "code",
   "execution_count": 10,
   "metadata": {
    "collapsed": false
   },
   "outputs": [],
   "source": [
    "from gensim import corpora, models, similarities\n",
    "from lxml.etree import XMLSyntaxError, ParserError\n",
    "import os.path as path\n",
    "import sqlite3\n",
    "import justext\n",
    "import re\n",
    "\n",
    "def clean_text(text):\n",
    "    text = re.sub(r'[\\d\\.\\(\\)\\[\\]\\-\\'/:;,\"#&!§]', ' ', text)\n",
    "    return re.sub(r' +', ' ', text)\n",
    "\n",
    "# def extract_text(html):\n",
    "#     text = []\n",
    "#     paragraphs = justext.justext(html, justext.get_stoplist('German'))\n",
    "#     for paragraph in paragraphs:\n",
    "#         if not paragraph.is_boilerplate and not paragraph.is_heading:\n",
    "#             text.append(paragraph.text)\n",
    "#     return ' '.join(text)\n",
    "\n",
    "# def gen(data):\n",
    "#     for row in data:\n",
    "#         title, summary, html = row\n",
    "#         try:\n",
    "#             text = extract_text(html)\n",
    "#             text = clean_text(text)\n",
    "#             yield (title, summary, text)\n",
    "#         except XMLSyntaxError as error:\n",
    "#             yield ('', '', '')\n",
    "#         except ParserError as error:\n",
    "#             yield ('', '', '')\n",
    "\n",
    "def read_corpus(data):\n",
    "    acc = []\n",
    "    for i, p in data:\n",
    "        acc.append(dictionary.get(i))\n",
    "    print(' '.join(acc))\n",
    "\n",
    "def read_results(data, n):\n",
    "    sims = sorted(enumerate(data), key=lambda item: -item[1])\n",
    "    for i, p in sims[:n]:\n",
    "        read_corpus(corpus[i])\n",
    "        print('#####################')\n",
    "\n",
    "dict_file = path.join('Models', 'corpus.dict')\n",
    "corpus_file = path.join('Models', 'corpus.mm')\n",
    "\n",
    "dictionary = corpora.Dictionary.load(dict_file)\n",
    "corpus = corpora.MmCorpus(corpus_file)\n",
    "\n",
    "lsi = models.LsiModel.load('model.lsi')\n",
    "lda = models.LdaModel.load('model.lda')\n",
    "lda_tfidf = models.LdaModel.load('model_tfidf.lda')\n",
    "\n",
    "# sql_query = 'SELECT title, summary, html FROM Sources LEFT JOIN Articles ON Sources.id = Articles.source LIMIT 10'\n",
    "\n",
    "# db_file = path.join('..', 'Crawler', 'Data', 'GermanNews.sqlite')\n",
    "# conn = sqlite3.connect(db_file)\n",
    "# cursor = conn.cursor()\n",
    "\n",
    "# cursor.execute(sql_query)\n",
    "# data = cursor.fetchmany(10)\n",
    "        \n",
    "# for title, summary, text in gen(data):\n",
    "#     bow = dictionary.doc2bow(text.lower().split())\n",
    "#     inf = lda[bow]\n",
    "#     topics = []\n",
    "#     for i, p in inf:\n",
    "#         topics.append(dictionary.get(i, 'EMPTY'))\n",
    "#     print('\\n Title: {}\\n Summary: {}\\n Topics: {}'.format(title, summary, ', '.join(topics)))\n",
    "\n",
    "# conn.close()"
   ]
  },
  {
   "cell_type": "code",
   "execution_count": 16,
   "metadata": {
    "collapsed": false
   },
   "outputs": [
    {
     "name": "stdout",
     "output_type": "stream",
     "text": [
      "namen ungebrochen bevölkerung mehrmals zerstörungen heftigen offiziellen unbezahlbare erstmals güter bgs fliegen ernten erkrankungen wiederaufbau deutschen plünderungen boden sonniges blieben bundeswehr außenminister freitag angaben erreichen erklärte überschwemmte gebiete diebe höhen überschwemmt davies erleichtert ladung entwicklungshilfeministerin gebe erreichten helfern transportieren wieczorek hubschrauber ausgeliefert einwohner aktuelle seuchen besuch werkzeugen bauern tierkadaver katastrophengebiet menschen füßen regenfälle abklingen lebensmittel hingegen samen ausreichend lindsey tagen krisengebieten motivation million stabil leichen tatendrang überschwemmungen luft festzustellen mosambik hilfen regierung wochen stellen piloten verheerenden vergangenen flog sprecherin befahrbar spd süden informierte planen welternährungsprogramms hauptstadt ernte fluss trockenen zeul polizei beidseitig un vereinzelt preise bundesgrenzschutz internationalen heidemarie berichte eingesetzten land folge samstag traf straßen deutlich prozent ernsthaftes nahrungsmittel landes organisationen zweitägigen menschlichen kilometer medikamente leonardo plant seien wetter lage ausmaß problem weichen hochwasser politikerin zerstörte hochwassers stellungnahme schwerwiegenden überflutungen regionen monaten region ausgemacht obdachlos\n",
      "#####################\n",
      "bevölkerung märz ap zunehme indianer politik entdeckt wachstum gingen groß mitarbeiter bedroht erfolge stämme einzige bevölkerungsanteil indigenen sprecher international schließen bessere ansprüche bundesstaat verschiedenen millionen angefochten treten roque drohten behörde angedroht historischen festival erreicht abgeschlossen meinte kraft brasilien bevölkerungswachstum stand amnesty präsidialen quadratkilometern schutzgebiete stiftung beispiel lebensbedingungen schulen fläche territoriums soldaten regierung zuständig hinaus vergangenen umsetzung staatlichen führt jahren morddrohungen deutschland höchststand schätzungen brasiliens walter töten anteil indios bevölkerungsgruppen höchsten tiefststand gouverneur ureinwohner grundbesitzer ratifizierung gunsten gestiegen land zahl prozent erlasses heftig mitglieder april dezimiert heutigen untertauchen lebten eingeborenen stammes legalisierung brasilianischen indio informanten welt jahr verkündet gebiet vertreter\n",
      "#####################\n",
      "arbeite milliyet änderungen eu versammlungsfreiheit partei helsinki kürzlich meinungs union änderung spätestens verbotenen menschenrechten gipfel pkk separatistischen treten istanbul müsse europäische chef verbesserungen mhp menschenrechtsfragen kraft hingerichtet bericht ankara öcalan ministerpräsident annäherung angesichts hochverrats presse nationalistischen vergangenen tode abschaffen bewegung morde abschaffung verurteilte jahres türkische verurteilt ministerpräsidentenamt kurdistans gehörten zeitung gesetze arbeiterpartei beitrittskandidaten angeblich türkei worden zahlreicher stellvertretende abteilung jahr todesstrafe donnerstag erklärt akzeptiert abdullah pressebericht nachdenken\n",
      "#####################\n",
      "vertrauter getroffen farmer mugabe delegation kommenden aufgenommen zurückkehren kriegsveteranen tagen ernte enger leitung weißen land robert präsident gespräche siedler gilt geflüchtete einzufahren\n",
      "#####################\n",
      "lawinengefahr sicherheit kamen bergwacht stunden helfer patrouille abgebrochen dienstag trainieren gerettet dichter montagmorgen hütte gefunden nachmittag col starben dichtem helikopter geflogen mitternacht gruppe suchaktion leichen tal wind starkem anvisierten schweiz trafen aufgebrochen entdeckte verlor skifahrern sonntag gletscher fanden mitglieder verhängnis passieren sitten teil nebel zermatt wettkampf verletzt teilnehmer retter region\n",
      "#####################\n",
      "groß lahm millionen ostküste menschen usa betroffen fläche leben städte liste deutschland insgesamt strom öffentliche kanadas zig\n",
      "#####################\n",
      "aufgefordert indische unterstützen beschuldigt woche indien diplomatische umstrittenen delhi pakistans kaschmir verlassen anschlag regierung abberufen wachleute zusammengearbeitet gesandten parlament ashraf staaten landes terroristen getötet dezember worden pakistan islamische vertreter monaten region ohnehin\n",
      "#####################\n",
      "wirft überwachen beteiligung indische unterstützen indisch unterwegs gespräch umstritten konstruktiv pakistanischen vorwurf kritik atal gelobt überflugrechte krieges zurückbeordert jahrzehnten dritter nachbarn gesprochen spannungen zugesagt extremisten bezeichnete gerechnet müsse indien demarkationslinie erörtert experten einsickern sachen musharraf unzureichend pakistanische zurückgewiesen verüben kritisiert hingegen kontrolle unterhändler patrouillen million pervez eingeräumt kaschmir soldaten medien gemeinsame wochen entgegenkommen vergangenen donald grenze verteidigungsminister überprüfen kaschmirs möglichkeiten indischen vorgeschlagen separatisten abgelehnt sensoren verschärft gefordert treffen traf anschläge muslimischer vajpayee us länder präsident zusammengezogen schritte militante eindringen elektronischen subkontinent maßnahmen teil pakistan rumsfeld entspannung kriegsschiffe monaten rand islamabad verhindern\n",
      "#####################\n",
      "friedliche plan sonia freund regierungschef ap indische amerikanischen interessen antwort mahal indisch clintons pakistanischen geführt sprechen amerikanische atal oppositionsführerin dienstag lösung gewaltlos unlösbar entscheiden präsidenten unerträglich wassers warb gebe indien mittwoch beruhende erreicht abschreckung delhi sache musharraf gewalt besuch informationstechnologie meinte indiens verzicht reich anwenden parlaments rede respekt unterstützt pervez reiste ministerpräsident blick tag beunruhigen kaschmir bestand besuches regierung gemeinsame interview versicherte atommächte bisweilen gegensatz plädierte hinzu stufe dortigen wiederherstellung verbündeter existiert indischen sauberen zeitalter beilegen partnerschaft land pakistaner kritisierte parlament treffen samstag umweltschützern vajpayee us fügte bill arm präsident zweiten kriege unterstützten mitgliedern atomwaffen militärmachthaber beendeten zunehmend besichtigen nuklearen teil pakistan demokratie guter elemente welt clinton unterzeichnet differenzen gandhi dynamische offenbar islamabad\n",
      "#####################\n",
      "vergangenheit verantwortlich massakern zivilisten gesteigert spannungen indien umstrittenen delhi gruppe terrorattacke anschlag zerschlagung verboten hauptquartier indischen kriegsgefahr atommächten gefordert parlament i dezember teil toiba pakistan region\n",
      "#####################\n"
     ]
    }
   ],
   "source": [
    "index = similarities.MatrixSimilarity.load('model_lda_tfidf.index')\n",
    "\n",
    "search = 'Flüchtlinge'\n",
    "# search = clean_text(search)\n",
    "bow = dictionary.doc2bow(search.lower().split())\n",
    "search_lda = lda_tfidf[bow]\n",
    "found = index[search_lda]\n",
    "read_results(found, 10)"
   ]
  }
 ],
 "metadata": {
  "kernelspec": {
   "display_name": "Python 3",
   "language": "python",
   "name": "python3"
  },
  "language_info": {
   "codemirror_mode": {
    "name": "ipython",
    "version": 3
   },
   "file_extension": ".py",
   "mimetype": "text/x-python",
   "name": "python",
   "nbconvert_exporter": "python",
   "pygments_lexer": "ipython3",
   "version": "3.4.3"
  }
 },
 "nbformat": 4,
 "nbformat_minor": 0
}
