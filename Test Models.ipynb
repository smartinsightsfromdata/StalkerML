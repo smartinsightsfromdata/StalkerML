{
 "cells": [
  {
   "cell_type": "code",
   "execution_count": 11,
   "metadata": {
    "collapsed": false
   },
   "outputs": [
    {
     "name": "stdout",
     "output_type": "stream",
     "text": [
      "['0.006*Stadt + 0.005*Stärke + 0.005*Beben + 0.004*Erdbeben + 0.004*Kind + '\n",
      " '0.004*Leben + 0.004*Flüchtling + 0.004*Angabe + 0.004*Region + '\n",
      " '0.004*Präsident',\n",
      " '0.018*Flüchtling + 0.009*Fleisch + 0.009*Polizei + 0.007*Grenze + '\n",
      " '0.007*Morales + 0.006*Euro + 0.005*Staat + 0.004*Asylbewerber + 0.004*Zahl '\n",
      " '+ 0.004*Partei',\n",
      " '0.008*Flüchtling + 0.006*Fleisch + 0.005*Unternehmen + 0.004*Bond + '\n",
      " '0.003*Auto + 0.003*Stadt + 0.003*Zahl + 0.003*Problem + 0.003*Euro + '\n",
      " '0.003*Partei',\n",
      " '0.013*Flüchtling + 0.005*Hoffenheim + 0.004*Polizei + 0.004*Punkt + '\n",
      " '0.004*Trainer + 0.004*Frage + 0.004*Schalk + 0.004*Film + 0.004*Staat + '\n",
      " '0.004*Euro',\n",
      " '0.038*Flüchtling + 0.008*Grenze + 0.007*Flüchtlingskrise + 0.006*Euro + '\n",
      " '0.006*Stegner + 0.004*Zahl + 0.004*Balkanroute + 0.004*Lage + '\n",
      " '0.004*Problem + 0.004*Bus',\n",
      " '0.010*Flüchtling + 0.007*Polizei + 0.006*Anschlag + 0.006*Bank + '\n",
      " '0.005*Staat + 0.005*Polizist + 0.004*Mitarbeiter + 0.004*Trainer + '\n",
      " '0.004*Unternehmen + 0.004*Euro',\n",
      " '0.010*Polizei + 0.006*Flüchtling + 0.005*Fleisch + 0.005*Leben + '\n",
      " '0.005*Bank + 0.005*Euro + 0.004*Bürger + 0.004*Stadt + 0.004*Beben + '\n",
      " '0.004*Stärke',\n",
      " '0.015*Flüchtling + 0.006*Leben + 0.005*Platz + 0.005*Partei + 0.005*Grenze '\n",
      " '+ 0.005*Flüchtlingskrise + 0.004*Image + 0.004*Ai + 0.004*Politik + '\n",
      " '0.004*Problem',\n",
      " '0.015*Flüchtling + 0.009*Euro + 0.007*Fleisch + 0.007*Polizei + '\n",
      " '0.006*Partei + 0.004*PiS + 0.004*Bank + 0.004*Kaczynski + 0.004*Grenze + '\n",
      " '0.004*Zahl',\n",
      " '0.012*Auto + 0.006*Erdbeben + 0.006*Polizei + 0.006*Kaserne + 0.004*Beben '\n",
      " '+ 0.004*Flüchtling + 0.004*Euro + 0.004*Unternehmen + 0.004*Stärke + '\n",
      " '0.004*Frage']\n"
     ]
    }
   ],
   "source": [
    "import os.path as path\n",
    "from gensim import corpora, models, similarities\n",
    "from readability.readability import Document\n",
    "import requests\n",
    "from bs4 import BeautifulSoup\n",
    "import re\n",
    "import treetaggerwrapper\n",
    "from pprint import pprint\n",
    "\n",
    "tagger = treetaggerwrapper.TreeTagger(TAGLANG='de')\n",
    "\n",
    "label = 'Day1'\n",
    "source = path.join('..', 'Container', 'Models', label, 'Corpus_{}.txt'.format(label))\n",
    "s_corpus = path.join('..', 'Container', 'Models', label, '{}.mm'.format(label))\n",
    "s_dict = path.join('..', 'Container', 'Models', label, '{}.dict'.format(label))\n",
    "s_lsi = path.join('..', 'Container', 'Models', label, '{}.lsi'.format(label))\n",
    "s_lda = path.join('..', 'Container', 'Models', label, '{}.lda'.format(label))\n",
    "s_index = path.join('..', 'Container', 'Models', label, '{}.index'.format(label))\n",
    "\n",
    "corpus = [document for document in open(source, encoding='UTF-8')]\n",
    "dictionary = corpora.Dictionary.load(s_dict)\n",
    "mmCorpus = corpora.MmCorpus(s_corpus)\n",
    "lsi = models.LsiModel.load(s_lsi)\n",
    "lda = models.LdaModel.load(s_lda)\n",
    "index = similarities.MatrixSimilarity.load(s_index)\n",
    "\n",
    "# query = ['pegida']\n",
    "# search = dictionary.doc2bow(query)\n",
    "# vec_lda = lsi[search]\n",
    "# for i, sim in enumerate(index[vec_lda]):\n",
    "#     if sim > 0.9:\n",
    "#         print(corpus[i], sim)\n",
    "#         print('################################')\n",
    "\n",
    "# for i, count in sorted(dictionary.dfs.items(), key=lambda t:-t[1])[:10]:\n",
    "#     print('{} - {}'.format(dictionary.get(i), count))\n",
    "\n",
    "# doc_lda = lda[mmCorpus]\n",
    "pprint(lda.print_topics(10))\n",
    "\n",
    "# for doc in doc_lda[:10]:\n",
    "#     print(doc)\n",
    "    \n",
    "# print(corpus[5])\n",
    "# print(lda.print_topic(3))\n",
    "# print(lda.print_topic(6))\n",
    "# print(lda.print_topic(5))"
   ]
  },
  {
   "cell_type": "code",
   "execution_count": null,
   "metadata": {
    "collapsed": true
   },
   "outputs": [],
   "source": []
  }
 ],
 "metadata": {
  "kernelspec": {
   "display_name": "Python 3",
   "language": "python",
   "name": "python3"
  },
  "language_info": {
   "codemirror_mode": {
    "name": "ipython",
    "version": 3
   },
   "file_extension": ".py",
   "mimetype": "text/x-python",
   "name": "python",
   "nbconvert_exporter": "python",
   "pygments_lexer": "ipython3",
   "version": "3.4.3"
  }
 },
 "nbformat": 4,
 "nbformat_minor": 0
}
