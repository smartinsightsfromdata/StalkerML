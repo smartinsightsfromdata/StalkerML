{
 "cells": [
  {
   "cell_type": "code",
   "execution_count": 7,
   "metadata": {
    "collapsed": false
   },
   "outputs": [],
   "source": [
    "from gensim import corpora, models, similarities"
   ]
  },
  {
   "cell_type": "code",
   "execution_count": 15,
   "metadata": {
    "collapsed": false
   },
   "outputs": [
    {
     "name": "stderr",
     "output_type": "stream",
     "text": [
      "WARNING:gensim.models.ldamodel:too few updates, training might not converge; consider increasing the number of passes or iterations to improve accuracy\n"
     ]
    },
    {
     "data": {
      "text/plain": [
       "['0.005*ötv + 0.004*schlichterspruch + 0.004*barak + 0.003*israelischen + 0.003*israelische + 0.003*priggen + 0.002*lizenzen + 0.002*westniveau + 0.002*israel + 0.002*abzug',\n",
       " '0.003*fischer + 0.003*streik + 0.002*joschka + 0.002*card + 0.001*stadtverwaltung + 0.001*scott + 0.001*freeserve + 0.001*vergangener + 0.001*attraktiv + 0.001*auflagen',\n",
       " '0.004*schäuble + 0.003*cdu + 0.003*kohl + 0.003*rehhagel + 0.002*papst + 0.002*essen + 0.002*partei + 0.002*merkel + 0.002*amt + 0.002*spd',\n",
       " '0.004*braun + 0.003*lieferung + 0.002*cannes + 0.002*korb + 0.002*abwehrspieler + 0.002*egidius + 0.001*tarifkommission + 0.001*p + 0.001*dfbpräsident + 0.001*geyer',\n",
       " '0.003*mitsubishi + 0.002*liam + 0.002*tui + 0.002*gallagher + 0.002*noel + 0.002*batterien + 0.002*reisebüros + 0.002*bode + 0.002*iraner + 0.002*militärs',\n",
       " '0.006*neumann + 0.005*merz + 0.004*tankstellen + 0.003*benzinpreise + 0.003*friedrich + 0.002*steuerreform + 0.002*dea + 0.002*bnd + 0.002*stasiakten + 0.002*eintrittskarten',\n",
       " '0.020*geiseln + 0.006*geiselnehmer + 0.003*geisel + 0.002*umweltministerium + 0.002*langer + 0.002*geiseldrama + 0.002*schlägen + 0.002*cn + 0.002*rebellengruppe + 0.002*entführern',\n",
       " '0.007*roboter + 0.003*green + 0.002*you + 0.002*robot + 0.002*mans + 0.002*ken + 0.002*passagieren + 0.001*tätern + 0.001*seifert + 0.001*julia',\n",
       " '0.005*kohl + 0.004*em + 0.004*cdu + 0.003*koch + 0.003*lafontaine + 0.002*helmut + 0.002*kanther + 0.002*mallorca + 0.002*roland + 0.002*akten',\n",
       " '0.004*weltausstellung + 0.004*jeremies + 0.003*woods + 0.003*jens + 0.003*häkkinen + 0.003*bmw + 0.003*tiger + 0.002*coulthard + 0.002*schumacher + 0.002*madrid']"
      ]
     },
     "execution_count": 15,
     "metadata": {},
     "output_type": "execute_result"
    }
   ],
   "source": [
    "dictionary = corpora.Dictionary.load('corpus.dict')\n",
    "corpus = corpora.MmCorpus('corpus.mm')\n",
    "\n",
    "tfidf = models.TfidfModel(corpus)\n",
    "tfidf_corpus = tfidf[corpus]\n",
    "\n",
    "# lsi = models.LsiModel(tfidf_corpus, id2word=dictionary, num_topics=200)\n",
    "# lsi.print_topics(50)\n",
    "\n",
    "# lda = models.LdaModel(tfidf_corpus, id2word=dictionary, num_topics = 50)\n",
    "# lda.print_topics()"
   ]
  }
 ],
 "metadata": {
  "kernelspec": {
   "display_name": "Python 3",
   "language": "python",
   "name": "python3"
  },
  "language_info": {
   "codemirror_mode": {
    "name": "ipython",
    "version": 3
   },
   "file_extension": ".py",
   "mimetype": "text/x-python",
   "name": "python",
   "nbconvert_exporter": "python",
   "pygments_lexer": "ipython3",
   "version": "3.4.3"
  }
 },
 "nbformat": 4,
 "nbformat_minor": 0
}
