{
 "cells": [
  {
   "cell_type": "code",
   "execution_count": 1,
   "metadata": {
    "collapsed": false
   },
   "outputs": [],
   "source": [
    "from gensim import corpora, models, similarities\n",
    "import logging\n",
    "\n",
    "logging.basicConfig(format='%(asctime)s : %(levelname)s : %(message)s', level=logging.INFO)"
   ]
  },
  {
   "cell_type": "code",
   "execution_count": 2,
   "metadata": {
    "collapsed": false
   },
   "outputs": [],
   "source": [
    "dictionary = corpora.Dictionary.load('corpus.dict')\n",
    "corpus = corpora.MmCorpus('corpus.mm')\n",
    "\n",
    "# tfidf = models.TfidfModel(corpus)\n",
    "# tfidf_corpus = tfidf[corpus]\n",
    "\n",
    "# lsi = models.LsiModel(tfidf_corpus, id2word=dictionary, num_topics=200)\n",
    "# lsi.print_topics(50)\n",
    "\n",
    "lda = models.LdaMulticore(corpus, id2word=dictionary, num_topics = 400, workers = 2)\n",
    "lda.save('model.lda')"
   ]
  }
 ],
 "metadata": {
  "kernelspec": {
   "display_name": "Python 3",
   "language": "python",
   "name": "python3"
  },
  "language_info": {
   "codemirror_mode": {
    "name": "ipython",
    "version": 3
   },
   "file_extension": ".py",
   "mimetype": "text/x-python",
   "name": "python",
   "nbconvert_exporter": "python",
   "pygments_lexer": "ipython3",
   "version": "3.4.3"
  }
 },
 "nbformat": 4,
 "nbformat_minor": 0
}
