{
 "cells": [
  {
   "cell_type": "code",
   "execution_count": null,
   "metadata": {
    "collapsed": false
   },
   "outputs": [],
   "source": [
    "from gensim import corpora, models, similarities\n",
    "import os.path as path\n",
    "import logging\n",
    "\n",
    "logging.basicConfig(format='%(asctime)s : %(levelname)s : %(message)s', level=logging.INFO)"
   ]
  },
  {
   "cell_type": "code",
   "execution_count": null,
   "metadata": {
    "collapsed": false
   },
   "outputs": [],
   "source": [
    "dict_file = path.join('Models', 'corpus.dict')\n",
    "corpus_file = path.join('Models', 'corpus.mm')\n",
    "\n",
    "dictionary = corpora.Dictionary.load(dict_file)\n",
    "corpus = corpora.MmCorpus(corpus_file)"
   ]
  },
  {
   "cell_type": "markdown",
   "metadata": {},
   "source": [
    "Build LDA models with multiple number of topics."
   ]
  },
  {
   "cell_type": "code",
   "execution_count": null,
   "metadata": {
    "collapsed": false
   },
   "outputs": [],
   "source": [
    "logging.warning('Start training LDA model.')\n",
    "lda = models.LdaMulticore(corpus, id2word=dictionary, num_topics = 500, workers = 2)\n",
    "lda.save('model_500.lda')\n",
    "logging.warning('Finished training LDA model.')"
   ]
  },
  {
   "cell_type": "markdown",
   "metadata": {},
   "source": [
    "Build indexes for all generated LDA models."
   ]
  },
  {
   "cell_type": "code",
   "execution_count": null,
   "metadata": {
    "collapsed": false
   },
   "outputs": [],
   "source": [
    "logging.warning('Start indexing.')\n",
    "index = similarities.MatrixSimilarity(lda[corpus])\n",
    "index.save('model_500.index')\n",
    "logging.warning('Finished indexing.')\n",
    "lda = None\n",
    "index = None"
   ]
  }
 ],
 "metadata": {
  "kernelspec": {
   "display_name": "Python 3",
   "language": "python",
   "name": "python3"
  },
  "language_info": {
   "codemirror_mode": {
    "name": "ipython",
    "version": 3
   },
   "file_extension": ".py",
   "mimetype": "text/x-python",
   "name": "python",
   "nbconvert_exporter": "python",
   "pygments_lexer": "ipython3",
   "version": "3.4.3"
  }
 },
 "nbformat": 4,
 "nbformat_minor": 0
}
