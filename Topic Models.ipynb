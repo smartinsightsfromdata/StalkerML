{
 "cells": [
  {
   "cell_type": "code",
   "execution_count": 1,
   "metadata": {
    "collapsed": false
   },
   "outputs": [],
   "source": [
    "from gensim import corpora, models, similarities\n",
    "import os.path as path\n",
    "import logging\n",
    "\n",
    "logging.basicConfig(format='%(asctime)s : %(levelname)s : %(message)s', level=logging.INFO)"
   ]
  },
  {
   "cell_type": "code",
   "execution_count": null,
   "metadata": {
    "collapsed": false
   },
   "outputs": [],
   "source": [
    "dict_file = path.join('Models', 'corpus.dict')\n",
    "corpus_file = path.join('Models', 'corpus.mm')\n",
    "\n",
    "dictionary = corpora.Dictionary.load(dict_file)\n",
    "corpus = corpora.MmCorpus(corpus_file)\n",
    "\n",
    "lsi = models.LsiModel.load('model.lsi')\n",
    "lda = models.LdaModel.load('model.lda')\n",
    "lda_tfidf = models.LdaModel.load('model_tfidf.lda')\n",
    "\n",
    "# tfidf = models.TfidfModel(corpus)\n",
    "# tfidf_corpus = tfidf[corpus]\n",
    "\n",
    "# lsi = models.LsiModel(tfidf_corpus, id2word=dictionary, num_topics=100)\n",
    "# lsi.save('model.lsi')\n",
    "# lsi = None\n",
    "\n",
    "# lda = models.LdaMulticore(corpus, id2word=dictionary, num_topics = 100, workers = 2)\n",
    "# lda.save('model.lda')\n",
    "# lda = None\n",
    "\n",
    "# lda = models.LdaMulticore(tfidf_corpus, id2word=dictionary, num_topics = 100, workers = 2)\n",
    "# lda.save('model_tfidf.lda')\n",
    "# lda = None\n",
    "\n",
    "# index = similarities.MatrixSimilarity(lsi[corpus])\n",
    "# index.save('model_lsi.index')\n",
    "# index = None\n",
    "\n",
    "index = similarities.MatrixSimilarity(lda[corpus])\n",
    "index.save('model_lda.index')\n",
    "index = None\n",
    "\n",
    "index = similarities.MatrixSimilarity(lda_tfidf[corpus])\n",
    "index.save('model_lda_tfidf.index')\n",
    "index = None"
   ]
  }
 ],
 "metadata": {
  "kernelspec": {
   "display_name": "Python 3",
   "language": "python",
   "name": "python3"
  },
  "language_info": {
   "codemirror_mode": {
    "name": "ipython",
    "version": 3
   },
   "file_extension": ".py",
   "mimetype": "text/x-python",
   "name": "python",
   "nbconvert_exporter": "python",
   "pygments_lexer": "ipython3",
   "version": "3.4.3"
  }
 },
 "nbformat": 4,
 "nbformat_minor": 0
}
