{
 "cells": [
  {
   "cell_type": "code",
   "execution_count": 22,
   "metadata": {
    "collapsed": false
   },
   "outputs": [],
   "source": [
    "import re\n",
    "import os.path as path\n",
    "from gensim.models.phrases import Phrases\n",
    "from textblob_de import TextBlobDE as TextBlob\n",
    "\n",
    "wanted_tags = {'NN', 'NNS', 'NNP', 'JJ'}\n",
    "stopwords = {'ihr', 'euch'}\n",
    "pattern = re.compile(r'\\W')"
   ]
  },
  {
   "cell_type": "code",
   "execution_count": 23,
   "metadata": {
    "collapsed": false
   },
   "outputs": [],
   "source": [
    "def to_keywords(doc):\n",
    "    letters_only = pattern.sub(' ', doc)\n",
    "    blob = TextBlob(letters_only)\n",
    "    keywords = [word.lower() for word, tag in blob.tags\n",
    "                if word.lower() not in stopwords and tag in wanted_tags]\n",
    "    return keywords"
   ]
  },
  {
   "cell_type": "code",
   "execution_count": 24,
   "metadata": {
    "collapsed": false
   },
   "outputs": [
    {
     "name": "stdout",
     "output_type": "stream",
     "text": [
      "['halle', 'schnarchnasen', 'sag', 'apple', 'google', 'bosch', 'seid', 'dreck', 'mugel', 'huren', 'dreckige', 'fotzen', 'angela', 'merkel', 'islamische', 'staat']\n"
     ]
    }
   ],
   "source": [
    "print(to_keywords('Halle ihr ##Schnarchnasen, ich sag euch jetzt mal was: Apple Google Bosch Ihr seid dreck-mugel alls Huren, ja, dreckige Fotzen. Angela Merkel. Der Islamische Staat.'))"
   ]
  }
 ],
 "metadata": {
  "kernelspec": {
   "display_name": "Python 3",
   "language": "python",
   "name": "python3"
  },
  "language_info": {
   "codemirror_mode": {
    "name": "ipython",
    "version": 3
   },
   "file_extension": ".py",
   "mimetype": "text/x-python",
   "name": "python",
   "nbconvert_exporter": "python",
   "pygments_lexer": "ipython3",
   "version": "3.4.3"
  }
 },
 "nbformat": 4,
 "nbformat_minor": 0
}
