{
 "cells": [
  {
   "cell_type": "code",
   "execution_count": null,
   "metadata": {
    "collapsed": true
   },
   "outputs": [],
   "source": [
    "from os import path\n",
    "from corputil import FileCorpus\n",
    "from gensim.corpora import Dictionary\n",
    "from sklearn.feature_extraction.text import TfidfVectorizer"
   ]
  },
  {
   "cell_type": "code",
   "execution_count": null,
   "metadata": {
    "collapsed": true
   },
   "outputs": [],
   "source": [
    "files = [\n",
    "    path.join('data', 'Archive', 'Spiegel_Politik.txt'),\n",
    "    path.join('data', 'Archive', 'Spiegel_Wirtschaft.txt'),\n",
    "    path.join('data', 'Archive', 'Spiegel_Wissenschaft.txt'),\n",
    "    path.join('data', 'Archive', 'Spiegel_Auto.txt'),\n",
    "    path.join('data', 'Archive', 'Spiegel_Bildung.txt'),\n",
    "    path.join('data', 'Archive', 'Spiegel_Geschichte.txt'),\n",
    "    path.join('data', 'Archive', 'Spiegel_Kultur.txt'),\n",
    "    path.join('data', 'Archive', 'Spiegel_Panorama.txt'),\n",
    "    path.join('data', 'Archive', 'Spiegel_Reise.txt'),\n",
    "    path.join('data', 'Archive', 'Spiegel_Sport.txt'),\n",
    "    path.join('data', 'Archive', 'Spiegel_Technik.txt')]\n",
    "tags = [\n",
    "    'Politik', 'Wirtschaft', 'Wissenschaft', 'Auto', 'Bildung',\n",
    "    'Geschichte', 'Kultur', 'Panorama', 'Reise', 'Sport', 'Technik'\n",
    "]"
   ]
  },
  {
   "cell_type": "code",
   "execution_count": null,
   "metadata": {
    "collapsed": false
   },
   "outputs": [],
   "source": [
    "training = dict()\n",
    "training['documents'] = []\n",
    "training['tags'] = []\n",
    "for file, tag in zip(files, tags):\n",
    "    for doc in FileCorpus(file).doc_token(stopwords='german'):\n",
    "        training['documents'].append(' '.join(doc))\n",
    "        training['tags'].append(tag)\n",
    "\n",
    "vectorizer = TfidfVectorizer(min_df=20, max_df=0.5)\n",
    "tfidf = vectorizer.fit_transform(training['documents'])"
   ]
  },
  {
   "cell_type": "code",
   "execution_count": null,
   "metadata": {
    "collapsed": false
   },
   "outputs": [],
   "source": [
    "from sklearn.cluster import KMeans\n",
    "\n",
    "km = KMeans(n_clusters=11, n_jobs=4)\n",
    "km.fit(tfidf)"
   ]
  },
  {
   "cell_type": "code",
   "execution_count": null,
   "metadata": {
    "collapsed": false
   },
   "outputs": [],
   "source": [
    "points = km.transform(tfidf)\n",
    "labels = km.labels_"
   ]
  },
  {
   "cell_type": "code",
   "execution_count": null,
   "metadata": {
    "collapsed": false
   },
   "outputs": [],
   "source": [
    "from sklearn.decomposition import PCA\n",
    "\n",
    "pca = PCA(n_components=2)\n",
    "reduced = pca.fit(points).transform(points)"
   ]
  },
  {
   "cell_type": "code",
   "execution_count": null,
   "metadata": {
    "collapsed": false
   },
   "outputs": [],
   "source": [
    "import pandas as pd\n",
    "import matplotlib.pyplot as plt\n",
    "df = pd.DataFrame(reduced)\n",
    "df['tags'] = training['tags']\n",
    "plt.scatter(df[0], df[1], c=labels)\n",
    "plt.show()"
   ]
  }
 ],
 "metadata": {
  "kernelspec": {
   "display_name": "Python 3",
   "language": "python",
   "name": "python3"
  },
  "language_info": {
   "codemirror_mode": {
    "name": "ipython",
    "version": 3
   },
   "file_extension": ".py",
   "mimetype": "text/x-python",
   "name": "python",
   "nbconvert_exporter": "python",
   "pygments_lexer": "ipython3",
   "version": "3.4.3"
  }
 },
 "nbformat": 4,
 "nbformat_minor": 0
}
