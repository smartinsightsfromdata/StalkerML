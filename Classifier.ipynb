{
 "cells": [
  {
   "cell_type": "code",
   "execution_count": null,
   "metadata": {
    "collapsed": true
   },
   "outputs": [],
   "source": [
    "%matplotlib inline\n",
    "import matplotlib\n",
    "import matplotlib.pyplot as plt\n",
    "matplotlib.rcParams['figure.figsize'] = (35.0, 15.0)\n",
    "matplotlib.rcParams['axes.titlesize'] = 30\n",
    "\n",
    "\n",
    "from os import path\n",
    "import pandas as pd\n",
    "import numpy as np\n",
    "from corputil import FileCorpus, ListCorpus\n",
    "from corputil.utils import load_stopwords\n",
    "from sklearn.manifold import TSNE\n",
    "from gensim.corpora import Dictionary\n",
    "from sklearn.decomposition import TruncatedSVD\n",
    "from sklearn.feature_extraction.text import TfidfVectorizer\n",
    "from sklearn.svm import LinearSVC\n",
    "from sklearn.externals import joblib\n",
    "\n",
    "\n",
    "stopwords = load_stopwords(path.join('data', 'german.txt'))"
   ]
  },
  {
   "cell_type": "code",
   "execution_count": null,
   "metadata": {
    "collapsed": true
   },
   "outputs": [],
   "source": [
    "files = [\n",
    "    path.join('data', 'Archive', 'Spiegel_Politik.txt'),\n",
    "    path.join('data', 'Archive', 'Spiegel_Wirtschaft.txt'),\n",
    "    path.join('data', 'Archive', 'Spiegel_Wissenschaft.txt'),\n",
    "    path.join('data', 'Archive', 'Spiegel_Auto.txt'),\n",
    "    path.join('data', 'Archive', 'Spiegel_Bildung.txt'),\n",
    "    path.join('data', 'Archive', 'Spiegel_Kultur.txt'),\n",
    "    path.join('data', 'Archive', 'Spiegel_Panorama.txt'),\n",
    "    path.join('data', 'Archive', 'Spiegel_Reise.txt'),\n",
    "    path.join('data', 'Archive', 'Spiegel_Sport.txt'),\n",
    "    path.join('data', 'Archive', 'Spiegel_Technik.txt'),\n",
    "    path.join('data', 'Archive', 'Stern_Politik.txt'),\n",
    "    path.join('data', 'Archive', 'Stern_Panorama.txt'),\n",
    "    path.join('data', 'Archive', 'Stern_Wirtschaft.txt')]\n",
    "tags = ['Politics', 'Economy', 'Science', 'Car', 'Education', 'Culture', 'Society', \n",
    "        'Travel', 'Sport', 'Technology', 'Politics', 'Society', 'Economy']\n",
    "colors = {'Politics': 'red', \n",
    "          'Economy': 'blue', \n",
    "          'Science': 'green', \n",
    "          'Car': 'teal', \n",
    "          'Education': 'lime',  \n",
    "          'Culture': 'purple', \n",
    "          'Society': 'orange', \n",
    "          'Travel': 'magenta', \n",
    "          'Sport': 'brown', \n",
    "          'Technology': 'cyan'}"
   ]
  },
  {
   "cell_type": "code",
   "execution_count": null,
   "metadata": {
    "collapsed": false
   },
   "outputs": [],
   "source": [
    "X, y = [], []\n",
    "for file, tag in zip(files, tags):\n",
    "    for doc in FileCorpus([file]).doc_token():\n",
    "        X.append(' '.join(doc))\n",
    "        y.append(tag)\n",
    "\n",
    "df = pd.DataFrame()\n",
    "df['doc'] = X\n",
    "df['tag'] = y"
   ]
  },
  {
   "cell_type": "code",
   "execution_count": null,
   "metadata": {
    "collapsed": false
   },
   "outputs": [],
   "source": [
    "df = df.iloc[np.random.permutation(len(df))]"
   ]
  },
  {
   "cell_type": "code",
   "execution_count": null,
   "metadata": {
    "collapsed": false
   },
   "outputs": [],
   "source": [
    "vectorizer = TfidfVectorizer(min_df=5, max_df=0.5, max_features=100000)\n",
    "vectorizer.fit(df['doc'])"
   ]
  },
  {
   "cell_type": "code",
   "execution_count": null,
   "metadata": {
    "collapsed": false
   },
   "outputs": [],
   "source": [
    "training = df[:600000]\n",
    "test = df[600000:]\n",
    "train_tfidf = vectorizer.transform(training['doc'])\n",
    "test_tfidf = vectorizer.transform(test['doc'])"
   ]
  },
  {
   "cell_type": "code",
   "execution_count": null,
   "metadata": {
    "collapsed": false
   },
   "outputs": [],
   "source": [
    "classifier = LinearSVC()\n",
    "classifier.fit(train_tfidf, training['tag'])"
   ]
  },
  {
   "cell_type": "code",
   "execution_count": null,
   "metadata": {
    "collapsed": false
   },
   "outputs": [],
   "source": [
    "classifier.score(test_tfidf, test['tag'])"
   ]
  },
  {
   "cell_type": "code",
   "execution_count": null,
   "metadata": {
    "collapsed": false
   },
   "outputs": [],
   "source": [
    "# joblib.dump(vectorizer, path.join('models', 'classifier', 'Vectorizer.pkl'))\n",
    "# joblib.dump(classifier, path.join('models', 'classifier', 'Classifier.pkl'))"
   ]
  },
  {
   "cell_type": "code",
   "execution_count": null,
   "metadata": {
    "collapsed": false
   },
   "outputs": [],
   "source": [
    "def process_data(file):\n",
    "    load = pd.read_csv(file, sep='|', encoding='utf-8')\n",
    "    texts = list(ListCorpus(list(load.loc[:, 'text'])).doc_token())\n",
    "    texts = [' '.join(doc) for doc in texts]\n",
    "    tfidf = vectorizer.transform(texts)\n",
    "    labels = list(classifier.predict(tfidf))\n",
    "    prep = TruncatedSVD(n_components=50, random_state=0).fit_transform(tfidf)\n",
    "    reduced = TSNE(n_components=2, perplexity=40, verbose=2).fit_transform(prep)\n",
    "    df = pd.DataFrame(reduced)\n",
    "    df['tag'] = labels\n",
    "    return df\n",
    "\n",
    "def label_list(df):\n",
    "    return [\n",
    "        df.loc[df['tag'] == 'Politics'],\n",
    "        df.loc[df['tag'] == 'Economy'],\n",
    "        df.loc[df['tag'] == 'Science'],\n",
    "        df.loc[df['tag'] == 'Car'],\n",
    "        df.loc[df['tag'] == 'Education'],\n",
    "        df.loc[df['tag'] == 'Travel'],\n",
    "        df.loc[df['tag'] == 'Sport'],\n",
    "        df.loc[df['tag'] == 'Technology'],\n",
    "        df.loc[df['tag'] == 'Society'],\n",
    "        df.loc[df['tag'] == 'Culture']\n",
    "    ]"
   ]
  },
  {
   "cell_type": "code",
   "execution_count": null,
   "metadata": {
    "collapsed": false,
    "scrolled": true
   },
   "outputs": [],
   "source": [
    "KW44 = path.join('data', 'CurrentNews', 'RAW_2015KW44.csv')\n",
    "KW45 = path.join('data', 'CurrentNews', 'RAW_2015KW45.csv')\n",
    "\n",
    "df_kw44 = label_list(process_data(KW44))\n",
    "df_kw45 = label_list(process_data(KW45))"
   ]
  },
  {
   "cell_type": "code",
   "execution_count": null,
   "metadata": {
    "collapsed": false
   },
   "outputs": [],
   "source": [
    "f = plt.figure()\n",
    "plt.axis('off')\n",
    "ax_kw44 = f.add_subplot(121)\n",
    "ax_kw45 = f.add_subplot(122)\n",
    "ax_kw44.set_title('Calender Week 44\\n26.10.2015 - 01.11.2015')\n",
    "ax_kw45.set_title('Calender Week 45\\n02.11.2015 - 08.11.2015')\n",
    "ax_kw44.tick_params(labelbottom='off', labelleft='off')\n",
    "ax_kw45.tick_params(labelbottom='off', labelleft='off')\n",
    "hx = []\n",
    "lx = []\n",
    "for points in df_kw44:\n",
    "    tag = points['tag'].iloc[0]\n",
    "    handle = ax_kw44.scatter(points[0], points[1], c=colors[tag], label=tag, marker='x')\n",
    "    lx.append(tag)\n",
    "    hx.append(handle)\n",
    "for points in df_kw45:\n",
    "    tag = points['tag'].iloc[0]\n",
    "    ax_kw45.scatter(points[0], points[1], c=colors[tag], label=tag, marker='x')\n",
    "f.legend(hx, lx, loc='center', fontsize=24)\n",
    "plt.show()"
   ]
  },
  {
   "cell_type": "code",
   "execution_count": null,
   "metadata": {
    "collapsed": false,
    "scrolled": true
   },
   "outputs": [],
   "source": [
    "KW46 = path.join('data', 'CurrentNews', 'RAW_2015KW46.csv')\n",
    "KW47 = path.join('data', 'CurrentNews', 'RAW_2015KW47.csv')\n",
    "\n",
    "df_kw46 = label_list(process_data(KW46))\n",
    "df_kw47 = label_list(process_data(KW47))"
   ]
  },
  {
   "cell_type": "code",
   "execution_count": null,
   "metadata": {
    "collapsed": false
   },
   "outputs": [],
   "source": [
    "f = plt.figure()\n",
    "plt.axis('off')\n",
    "ax_kw46 = f.add_subplot(121)\n",
    "ax_kw47 = f.add_subplot(122)\n",
    "ax_kw46.set_title('Calender Week 46\\n09.11.2015 - 15.11.2015')\n",
    "ax_kw47.set_title('Calender Week 47\\n16.11.2015 - 22.11.2015')\n",
    "ax_kw46.tick_params(labelbottom='off', labelleft='off')\n",
    "ax_kw47.tick_params(labelbottom='off', labelleft='off')\n",
    "hx = []\n",
    "lx = []\n",
    "for points in df_kw46:\n",
    "    tag = points['tag'].iloc[0]\n",
    "    handle = ax_kw46.scatter(points[0], points[1], c=colors[tag], label=tag, marker='x')\n",
    "    lx.append(tag)\n",
    "    hx.append(handle)\n",
    "for points in df_kw47:\n",
    "    tag = points['tag'].iloc[0]\n",
    "    ax_kw47.scatter(points[0], points[1], c=colors[tag], label=tag, marker='x')\n",
    "f.legend(hx, lx, loc='center', fontsize=24)\n",
    "plt.show()"
   ]
  }
 ],
 "metadata": {
  "kernelspec": {
   "display_name": "Python 3",
   "language": "python",
   "name": "python3"
  },
  "language_info": {
   "codemirror_mode": {
    "name": "ipython",
    "version": 3
   },
   "file_extension": ".py",
   "mimetype": "text/x-python",
   "name": "python",
   "nbconvert_exporter": "python",
   "pygments_lexer": "ipython3",
   "version": "3.5.1"
  }
 },
 "nbformat": 4,
 "nbformat_minor": 0
}
