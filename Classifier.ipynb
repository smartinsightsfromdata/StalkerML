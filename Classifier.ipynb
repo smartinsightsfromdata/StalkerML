{
 "cells": [
  {
   "cell_type": "code",
   "execution_count": 4,
   "metadata": {
    "collapsed": true
   },
   "outputs": [],
   "source": [
    "from os import path\n",
    "import pandas as pd\n",
    "import numpy as np\n",
    "from corputil import FileCorpus\n",
    "from corputil.utils import load_stopwords\n",
    "from sklearn.manifold import TSNE\n",
    "from gensim.corpora import Dictionary\n",
    "from sklearn.decomposition import TruncatedSVD\n",
    "from sklearn.feature_extraction.text import TfidfVectorizer\n",
    "from sklearn.svm import LinearSVC\n",
    "from sklearn.externals import joblib\n",
    "import matplotlib.pyplot as plt\n",
    "\n",
    "stopwords = load_stopwords(path.join('data', 'german.txt'))"
   ]
  },
  {
   "cell_type": "code",
   "execution_count": 5,
   "metadata": {
    "collapsed": true
   },
   "outputs": [],
   "source": [
    "files = [\n",
    "    path.join('data', 'Archive', 'Spiegel_Politik.txt'),\n",
    "    path.join('data', 'Archive', 'Spiegel_Wirtschaft.txt'),\n",
    "    path.join('data', 'Archive', 'Spiegel_Wissenschaft.txt'),\n",
    "    path.join('data', 'Archive', 'Spiegel_Auto.txt'),\n",
    "    path.join('data', 'Archive', 'Spiegel_Bildung.txt'),\n",
    "    path.join('data', 'Archive', 'Spiegel_Geschichte.txt'),\n",
    "    path.join('data', 'Archive', 'Spiegel_Kultur.txt'),\n",
    "    path.join('data', 'Archive', 'Spiegel_Panorama.txt'),\n",
    "    path.join('data', 'Archive', 'Spiegel_Reise.txt'),\n",
    "    path.join('data', 'Archive', 'Spiegel_Sport.txt'),\n",
    "    path.join('data', 'Archive', 'Spiegel_Technik.txt'),\n",
    "    path.join('data', 'Archive', 'Stern_Politik.txt'),\n",
    "    path.join('data', 'Archive', 'Stern_Panorama.txt'),\n",
    "    path.join('data', 'Archive', 'Stern_Wirtschaft.txt')]\n",
    "tags = ['Politik', 'Wirtschaft', 'Wissenschaft', 'Auto', 'Bildung', 'Geschichte', \n",
    "        'Kultur', 'Panorama', 'Reise', 'Sport', 'Technik', 'Politik', 'Panorama', 'Wirtschaft']\n",
    "colors = {'Politik': 'red', \n",
    "          'Wirtschaft': 'blue', \n",
    "          'Wissenschaft': 'cyan', \n",
    "          'Auto': 'yellow', \n",
    "          'Bildung': 'green', \n",
    "          'Geschichte': 'grey', \n",
    "          'Kultur': 'purple', \n",
    "          'Panorama': 'orange', \n",
    "          'Reise': 'lime', \n",
    "          'Sport': 'brown', \n",
    "          'Technik': 'black'}"
   ]
  },
  {
   "cell_type": "code",
   "execution_count": 6,
   "metadata": {
    "collapsed": false
   },
   "outputs": [],
   "source": [
    "X, y = [], []\n",
    "for file, tag in zip(files, tags):\n",
    "    for doc in FileCorpus([file]).doc_token(stopwords=stopwords):\n",
    "        X.append(' '.join(doc))\n",
    "        y.append(tag)\n",
    "\n",
    "df = pd.DataFrame()\n",
    "df['doc'] = X\n",
    "df['tag'] = y"
   ]
  },
  {
   "cell_type": "code",
   "execution_count": 7,
   "metadata": {
    "collapsed": false
   },
   "outputs": [],
   "source": [
    "df = df.iloc[np.random.permutation(len(df))]"
   ]
  },
  {
   "cell_type": "code",
   "execution_count": 8,
   "metadata": {
    "collapsed": false
   },
   "outputs": [
    {
     "data": {
      "text/plain": [
       "TfidfVectorizer(analyzer='word', binary=False, decode_error='strict',\n",
       "        dtype=<class 'numpy.int64'>, encoding='utf-8', input='content',\n",
       "        lowercase=True, max_df=0.5, max_features=None, min_df=20,\n",
       "        ngram_range=(1, 1), norm='l2', preprocessor=None, smooth_idf=True,\n",
       "        stop_words=None, strip_accents=None, sublinear_tf=False,\n",
       "        token_pattern='(?u)\\\\b\\\\w\\\\w+\\\\b', tokenizer=None, use_idf=True,\n",
       "        vocabulary=None)"
      ]
     },
     "execution_count": 8,
     "metadata": {},
     "output_type": "execute_result"
    }
   ],
   "source": [
    "vectorizer = TfidfVectorizer(min_df=20, max_df=0.5)\n",
    "vectorizer.fit(df['doc'])"
   ]
  },
  {
   "cell_type": "code",
   "execution_count": 9,
   "metadata": {
    "collapsed": false
   },
   "outputs": [],
   "source": [
    "training = df[:550000]\n",
    "test = df[550000:]\n",
    "train_tfidf = vectorizer.transform(training['doc'])\n",
    "test_tfidf = vectorizer.transform(test['doc'])"
   ]
  },
  {
   "cell_type": "code",
   "execution_count": 10,
   "metadata": {
    "collapsed": false
   },
   "outputs": [
    {
     "data": {
      "text/plain": [
       "LinearSVC(C=1.0, class_weight=None, dual=True, fit_intercept=True,\n",
       "     intercept_scaling=1, loss='squared_hinge', max_iter=1000,\n",
       "     multi_class='ovr', penalty='l2', random_state=None, tol=0.0001,\n",
       "     verbose=0)"
      ]
     },
     "execution_count": 10,
     "metadata": {},
     "output_type": "execute_result"
    }
   ],
   "source": [
    "classifier = LinearSVC()\n",
    "classifier.fit(train_tfidf, training['tag'])"
   ]
  },
  {
   "cell_type": "code",
   "execution_count": 11,
   "metadata": {
    "collapsed": false
   },
   "outputs": [
    {
     "data": {
      "text/plain": [
       "0.86440653420610558"
      ]
     },
     "execution_count": 11,
     "metadata": {},
     "output_type": "execute_result"
    }
   ],
   "source": [
    "classifier.score(test_tfidf, test['tag'])"
   ]
  },
  {
   "cell_type": "code",
   "execution_count": 12,
   "metadata": {
    "collapsed": false
   },
   "outputs": [],
   "source": [
    "# joblib.dump(vectorizer, path.join('models', 'classifier', 'Vectorizer.pkl'))\n",
    "# joblib.dump(classifier, path.join('models', 'classifier', 'Classifier.pkl'))"
   ]
  },
  {
   "cell_type": "code",
   "execution_count": 15,
   "metadata": {
    "collapsed": false
   },
   "outputs": [],
   "source": [
    "from corputil import ListCorpus\n",
    "\n",
    "load = pd.read_csv(path.join('data', 'CurrentNews', '2015KW44.csv'), sep='|', encoding='utf-8')\n",
    "KW44 = list(ListCorpus(list(load.loc[:, 'text'])).doc_token(stopwords=stopwords))"
   ]
  },
  {
   "cell_type": "code",
   "execution_count": 16,
   "metadata": {
    "collapsed": false
   },
   "outputs": [],
   "source": [
    "nX = []\n",
    "for doc in KW44:\n",
    "    nX.append(' '.join(doc))\n",
    "\n",
    "KW44 = None\n",
    "\n",
    "tfidf = vectorizer.transform(nX)\n",
    "labels = list(classifier.predict(tfidf))"
   ]
  },
  {
   "cell_type": "code",
   "execution_count": 17,
   "metadata": {
    "collapsed": false
   },
   "outputs": [],
   "source": [
    "prep = TruncatedSVD(n_components=50, random_state=0).fit_transform(tfidf)\n",
    "#reduced = TSNE(n_components=2, perplexity=40, verbose=2).fit_transform(prep)"
   ]
  },
  {
   "cell_type": "code",
   "execution_count": 20,
   "metadata": {
    "collapsed": false
   },
   "outputs": [
    {
     "data": {
      "text/plain": [
       "array([  4.75329662e-01,  -9.33169483e-02,   2.14258408e-02,\n",
       "        -1.18644436e-01,   7.82301730e-02,   1.86708974e-01,\n",
       "         1.15395966e-02,   1.99937221e-01,  -1.26114966e-01,\n",
       "        -4.54818739e-03,  -8.27293248e-02,  -5.03009822e-02,\n",
       "         3.08224021e-03,   1.93017621e-03,  -7.08446166e-02,\n",
       "        -1.05548332e-02,  -5.22478803e-02,  -6.98948640e-02,\n",
       "        -1.36784691e-01,   1.11767380e-01,   5.25786045e-03,\n",
       "        -1.40401192e-01,  -7.56539773e-02,  -4.32296892e-02,\n",
       "        -2.46994906e-02,  -7.07501085e-02,  -1.46495009e-02,\n",
       "        -1.08252763e-02,  -4.89016499e-02,   2.69399827e-02,\n",
       "         4.82372527e-03,  -7.29107125e-03,   2.91763695e-02,\n",
       "         3.56682440e-02,  -7.43758433e-03,   1.36151983e-02,\n",
       "        -3.28462466e-02,   1.20567469e-02,  -3.41455614e-02,\n",
       "        -1.34318310e-02,   2.11979299e-02,  -6.10165442e-02,\n",
       "        -1.26459380e-02,   8.11566900e-03,   1.00700285e-02,\n",
       "        -3.85349196e-02,  -7.27082171e-02,  -3.67246859e-04,\n",
       "         1.69218576e-02,   7.03489362e-03])"
      ]
     },
     "execution_count": 20,
     "metadata": {},
     "output_type": "execute_result"
    }
   ],
   "source": [
    "prep[0]"
   ]
  },
  {
   "cell_type": "code",
   "execution_count": 13,
   "metadata": {
    "collapsed": false
   },
   "outputs": [],
   "source": [
    "ndf = pd.DataFrame(reduced)\n",
    "ndf['tag'] = labels"
   ]
  },
  {
   "cell_type": "code",
   "execution_count": 14,
   "metadata": {
    "collapsed": false
   },
   "outputs": [],
   "source": [
    "stuff = [\n",
    "    ndf.loc[ndf['tag'] == 'Politik'],\n",
    "    ndf.loc[ndf['tag'] == 'Wirtschaft'],\n",
    "    ndf.loc[ndf['tag'] == 'Wissenschaft'],\n",
    "    ndf.loc[ndf['tag'] == 'Auto'],\n",
    "    ndf.loc[ndf['tag'] == 'Bildung'],\n",
    "    ndf.loc[ndf['tag'] == 'Geschichte'],\n",
    "    ndf.loc[ndf['tag'] == 'Reise'],\n",
    "    ndf.loc[ndf['tag'] == 'Sport'],\n",
    "    ndf.loc[ndf['tag'] == 'Technik'],\n",
    "    ndf.loc[ndf['tag'] == 'Panorama'],\n",
    "    ndf.loc[ndf['tag'] == 'Kultur']\n",
    "]"
   ]
  },
  {
   "cell_type": "code",
   "execution_count": 15,
   "metadata": {
    "collapsed": false
   },
   "outputs": [],
   "source": [
    "plt.title('KW 50')\n",
    "plt.axis('off')\n",
    "for l in stuff:\n",
    "    tag = l['tag'].iloc[0]\n",
    "    plt.scatter(l[0], l[1], c=colors[tag], label=tag, marker='x')\n",
    "plt.legend()\n",
    "plt.show()"
   ]
  }
 ],
 "metadata": {
  "kernelspec": {
   "display_name": "Python 3",
   "language": "python",
   "name": "python3"
  },
  "language_info": {
   "codemirror_mode": {
    "name": "ipython",
    "version": 3
   },
   "file_extension": ".py",
   "mimetype": "text/x-python",
   "name": "python",
   "nbconvert_exporter": "python",
   "pygments_lexer": "ipython3",
   "version": "3.5.1"
  }
 },
 "nbformat": 4,
 "nbformat_minor": 0
}
