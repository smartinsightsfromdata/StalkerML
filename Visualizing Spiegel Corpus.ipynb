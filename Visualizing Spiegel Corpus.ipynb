{
 "cells": [
  {
   "cell_type": "code",
   "execution_count": null,
   "metadata": {
    "collapsed": false
   },
   "outputs": [],
   "source": [
    "%pylab inline"
   ]
  },
  {
   "cell_type": "code",
   "execution_count": null,
   "metadata": {
    "collapsed": true
   },
   "outputs": [],
   "source": [
    "from os import path\n",
    "import pandas as pd\n",
    "import numpy as np\n",
    "from corputil import FileCorpus\n",
    "from sklearn.manifold import TSNE\n",
    "from sklearn.decomposition import TruncatedSVD\n",
    "from sklearn.feature_extraction.text import TfidfVectorizer"
   ]
  },
  {
   "cell_type": "code",
   "execution_count": null,
   "metadata": {
    "collapsed": true
   },
   "outputs": [],
   "source": [
    "files = [\n",
    "    path.join('data', 'Archive', 'Spiegel_Politik.txt'),\n",
    "    path.join('data', 'Archive', 'Spiegel_Wirtschaft.txt'),\n",
    "    path.join('data', 'Archive', 'Spiegel_Wissenschaft.txt'),\n",
    "    path.join('data', 'Archive', 'Spiegel_Auto.txt'),\n",
    "    path.join('data', 'Archive', 'Spiegel_Bildung.txt'),\n",
    "    path.join('data', 'Archive', 'Spiegel_Geschichte.txt'),\n",
    "    path.join('data', 'Archive', 'Spiegel_Kultur.txt'),\n",
    "    path.join('data', 'Archive', 'Spiegel_Panorama.txt'),\n",
    "    path.join('data', 'Archive', 'Spiegel_Reise.txt'),\n",
    "    path.join('data', 'Archive', 'Spiegel_Sport.txt'),\n",
    "    path.join('data', 'Archive', 'Spiegel_Technik.txt')]\n",
    "tags = ['red', 'blue', 'cyan', 'yellow', 'orange', 'green', 'brown', 'purple', 'pink', 'lime', 'crimson']\n",
    "\n",
    "def gen_chunks(l, n):\n",
    "    return [l[i:i+n] for i in range(0, l.shape[0], n)\n",
    "            if i+n < l.shape[0]]"
   ]
  },
  {
   "cell_type": "code",
   "execution_count": null,
   "metadata": {
    "collapsed": true
   },
   "outputs": [],
   "source": [
    "X, y = [], []\n",
    "for file, tag in zip(files, tags):\n",
    "    for doc in FileCorpus(file).doc_token(stopwords='german'):\n",
    "        X.append(' '.join(doc))\n",
    "        y.append(tag)\n",
    "\n",
    "df = pd.DataFrame()\n",
    "df['doc'] = X\n",
    "df['tag'] = y\n",
    "\n",
    "df = df.iloc[np.random.permutation(len(df))]"
   ]
  },
  {
   "cell_type": "code",
   "execution_count": null,
   "metadata": {
    "collapsed": true
   },
   "outputs": [],
   "source": [
    "vectorizer = TfidfVectorizer(min_df=20, max_df=0.5)\n",
    "vectorizer.fit(df['doc'])\n",
    "tfidf = vectorizer.transform(df['doc'])"
   ]
  },
  {
   "cell_type": "code",
   "execution_count": null,
   "metadata": {
    "collapsed": false
   },
   "outputs": [],
   "source": [
    "prep = TruncatedSVD(n_components=50, random_state=0).fit_transform(tfidf)\n",
    "chunks = gen_chunks(prep, 10000)\n",
    "\n",
    "reduced = np.ndarray(shape=(0,2))\n",
    "for chunk in chunks:\n",
    "    temp = TSNE(n_components=2, perplexity=40, verbose=2).fit_transform(chunk)\n",
    "    reduced = np.concatenate([reduced, temp])\n",
    "    print('Processed 10000 articles...')"
   ]
  },
  {
   "cell_type": "code",
   "execution_count": null,
   "metadata": {
    "collapsed": true
   },
   "outputs": [],
   "source": [
    "ndf = pd.DataFrame(reduced)"
   ]
  },
  {
   "cell_type": "code",
   "execution_count": null,
   "metadata": {
    "collapsed": true
   },
   "outputs": [],
   "source": [
    "fig = figure(figsize=(10, 10))\n",
    "ax = axes(frameon=False)\n",
    "setp(ax, xticks=(), yticks=())\n",
    "subplots_adjust(left=0.0, bottom=0.0, right=1.0, top=0.9,\n",
    "                wspace=0.0, hspace=0.0)\n",
    "scatter(ndf[0], ndf[1], c=df['tag'], marker=\"x\")"
   ]
  }
 ],
 "metadata": {
  "kernelspec": {
   "display_name": "Python 3",
   "language": "python",
   "name": "python3"
  },
  "language_info": {
   "codemirror_mode": {
    "name": "ipython",
    "version": 3
   },
   "file_extension": ".py",
   "mimetype": "text/x-python",
   "name": "python",
   "nbconvert_exporter": "python",
   "pygments_lexer": "ipython3",
   "version": "3.5.1"
  }
 },
 "nbformat": 4,
 "nbformat_minor": 0
}
