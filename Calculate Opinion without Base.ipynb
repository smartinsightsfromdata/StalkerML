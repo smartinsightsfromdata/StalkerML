{
 "cells": [
  {
   "cell_type": "markdown",
   "metadata": {},
   "source": [
    "# Calculate Political Opinion Models"
   ]
  },
  {
   "cell_type": "code",
   "execution_count": 1,
   "metadata": {
    "collapsed": true
   },
   "outputs": [],
   "source": [
    "# import logging\n",
    "# logging.basicConfig(format='%(asctime)s : %(levelname)s : %(message)s')\n",
    "# logging.root.level = logging.INFO\n",
    "\n",
    "from os import path\n",
    "from random import shuffle\n",
    "from corputil import FileCorpus, ListCorpus\n",
    "from corputil.utils import load_stopwords\n",
    "from gensim.models.word2vec import LineSentence, Word2Vec\n",
    "\n",
    "stopwords = load_stopwords(path.join('data', 'german.txt'))"
   ]
  },
  {
   "cell_type": "markdown",
   "metadata": {},
   "source": [
    "## Training the Base Model\n",
    "\n",
    "Calculate the base model (empty), that is later used as a base for training the classification models."
   ]
  },
  {
   "cell_type": "code",
   "execution_count": 2,
   "metadata": {
    "collapsed": true
   },
   "outputs": [],
   "source": [
    "spd = [\n",
    "    path.join('data', 'Politics', 'SPD_EU.txt'),\n",
    "    path.join('data', 'Politics', 'SPD_Fraktion.txt'),\n",
    "#     path.join('data', 'Politics', 'SPD_Vorwärts_Inland.txt'),\n",
    "#     path.join('data', 'Politics', 'SPD_Vorwärts_International.txt'),\n",
    "    path.join('data', 'Politics', 'SPD_Vorwärts_Parteileben.txt')\n",
    "]\n",
    "\n",
    "linke = [\n",
    "    path.join('data', 'Politics', 'Linke.txt'),\n",
    "    path.join('data', 'Politics', 'Linke_PR.txt')\n",
    "#     path.join('data', 'Politics', 'Linke_Fraktion.txt')\n",
    "]\n",
    "\n",
    "gruene = [\n",
    "#     path.join('data', 'Politics', 'Grüne.txt')\n",
    "   path.join('data', 'Politics', 'Grüne_Fraktion.txt')\n",
    "]\n",
    "\n",
    "fdp = [\n",
    "#     path.join('data', 'Politics', 'FDP.txt'),\n",
    "    path.join('data', 'Politics', 'FDP_Fraktion.txt')\n",
    "]\n",
    "\n",
    "cdu = [\n",
    "    path.join('data', 'Politics', 'CDU.txt')\n",
    "#     path.join('data', 'Politics', 'CDU_EU.txt')\n",
    "#     path.join('data', 'Politics', 'CDU_Fraktion.txt'),\n",
    "]\n",
    "\n",
    "npd = [\n",
    "    path.join('data', 'Politics', 'NPD_MV.txt'),\n",
    "    path.join('data', 'Politics', 'NPD_Sachsen.txt')\n",
    "#     path.join('data', 'Politics', 'NPD_Jung.txt')\n",
    "]\n",
    "\n",
    "files = [file for fp in [spd, linke, gruene, fdp, cdu, npd] for file in fp]\n",
    "\n",
    "base_corpus = list(FileCorpus(files).sentences_token(stopwords=stopwords))\n",
    "base = Word2Vec(workers=4, iter=6, size=100, window=3)\n",
    "base.build_vocab(base_corpus)"
   ]
  },
  {
   "cell_type": "markdown",
   "metadata": {},
   "source": [
    "Save model to disk. Don't finalize the model because we need to train it with new data later!"
   ]
  },
  {
   "cell_type": "code",
   "execution_count": 3,
   "metadata": {
    "collapsed": true
   },
   "outputs": [],
   "source": [
    "# base.save(path.join('models', 'base.w2v'))"
   ]
  },
  {
   "cell_type": "markdown",
   "metadata": {},
   "source": [
    "## Training"
   ]
  },
  {
   "cell_type": "code",
   "execution_count": 4,
   "metadata": {
    "collapsed": false
   },
   "outputs": [
    {
     "name": "stdout",
     "output_type": "stream",
     "text": [
      "Loaded corpus with 69350 sentences.\n",
      "Loaded corpus with 148844 sentences.\n",
      "Loaded corpus with 119226 sentences.\n",
      "Loaded corpus with 314955 sentences.\n",
      "Loaded corpus with 2790 sentences.\n",
      "Loaded corpus with 50114 sentences.\n"
     ]
    }
   ],
   "source": [
    "from copy import deepcopy\n",
    "\n",
    "corpora = [\n",
    "    FileCorpus(linke),\n",
    "    FileCorpus(spd),\n",
    "    FileCorpus(gruene), \n",
    "    FileCorpus(fdp), \n",
    "    FileCorpus(cdu), \n",
    "    FileCorpus(npd)\n",
    "]\n",
    "models = [deepcopy(base) for i in range(len(corpora))]\n",
    "\n",
    "for i in range(len(corpora)):\n",
    "    sentences = list(corpora[i].sentences_token(stopwords=stopwords))\n",
    "    shuffle(sentences)\n",
    "    models[i].train(sentences, total_examples=len(sentences))\n",
    "    print('Loaded corpus with {} sentences.'.format(len(sentences)))"
   ]
  },
  {
   "cell_type": "markdown",
   "metadata": {},
   "source": [
    "## Classification"
   ]
  },
  {
   "cell_type": "code",
   "execution_count": 5,
   "metadata": {
    "collapsed": true
   },
   "outputs": [],
   "source": [
    "labels = ['2015-44', '2015-45', '2015-46', '2015-47', '2015-48', '2015-49', '2015-50', '2015-51', \n",
    "          '2015-52', '2015-53', '2016-01', '2016-02', '2016-03', '2016-04']\n",
    "files = [path.join('data', 'CurrentNews', '{}.csv').format(label) for label in labels]"
   ]
  },
  {
   "cell_type": "code",
   "execution_count": 11,
   "metadata": {
    "collapsed": false
   },
   "outputs": [
    {
     "name": "stdout",
     "output_type": "stream",
     "text": [
      "[-542.8927002   -23.33567047 -243.40457153 ..., -478.42745972 -548.00463867\n",
      "  -62.51273346]\n",
      "990267\n",
      "990267\n",
      "###############\n",
      "[  1.01652554e-10   5.14200449e-01   6.43656300e-17 ...,   1.00000000e+00\n",
      "   2.00483640e-11   5.56589924e-02]\n"
     ]
    }
   ],
   "source": [
    "import pandas as pd\n",
    "import numpy as np\n",
    "\n",
    "\n",
    "def calc_score(doc, mod):\n",
    "    model = Word2Vec.load(mod)\n",
    "    score = model.score(doc, len(doc))\n",
    "    return score\n",
    "\n",
    "def calc_probability(df, mods):\n",
    "    docs = list(ListCorpus(list(df.loc[:, 'text'])).doc_sentences_token(stopwords=stopwords))\n",
    "    sentlist = [s for d in docs for s in d]\n",
    "    llhd = np.array( [ m.score(sentlist, len(sentlist)) for m in mods ] )\n",
    "    print(llhd[0])\n",
    "    print(len(llhd[0]))\n",
    "    print(len(sentlist))\n",
    "    print('###############')\n",
    "    lhd = np.exp(llhd - llhd.max(axis=0))\n",
    "    print(lhd[0])\n",
    "    prob = pd.DataFrame( (lhd/lhd.sum(axis=0)).transpose() )\n",
    "    prob[\"doc\"] = [i for i,d in enumerate(docs) for s in d]\n",
    "    prob = prob.groupby(\"doc\").mean()\n",
    "    return prob\n",
    "\n",
    "raw = pd.concat([pd.read_csv(file, sep='|', encoding='utf-8') for file in files], ignore_index=True)\n",
    "prob = calc_probability(raw, models)\n",
    "data = pd.concat([raw, prob], axis=1)\n",
    "\n",
    "# for file in files:\n",
    "#     data = pd.read_csv(file, sep='|', encoding='utf-8')\n",
    "#     sentiment = process(data)\n",
    "#     csv = pd.concat([data, sentiment], axis=1)\n",
    "#     csv.rename(columns={ 0: 'Linke', 1: 'SPD', 2: 'Gruene', 3: 'FDP', 4: 'CDU', 5: 'NPD'  }, inplace=True)\n",
    "#     csv.to_csv(file, index=False, encoding='utf-8', sep='|')"
   ]
  },
  {
   "cell_type": "code",
   "execution_count": 7,
   "metadata": {
    "collapsed": false
   },
   "outputs": [],
   "source": [
    "# data.groupby('site').mean()"
   ]
  },
  {
   "cell_type": "code",
   "execution_count": 8,
   "metadata": {
    "collapsed": false
   },
   "outputs": [],
   "source": [
    "# data.groupby('site').median()"
   ]
  },
  {
   "cell_type": "code",
   "execution_count": 114,
   "metadata": {
    "collapsed": true
   },
   "outputs": [],
   "source": [
    "def get_score(df, index):\n",
    "    df['max'] = df.max(axis=1)\n",
    "    return (len(df[df['max'] == df[index]])) / (len(df) / 100)\n",
    "\n",
    "def calc_probability_list(corp, mods):\n",
    "    docs = list(FileCorpus(corp).doc_sentences_token(stopwords=stopwords))\n",
    "    sentlist = [s for d in docs for s in d]\n",
    "    llhd = np.array( [ m.score(sentlist, len(sentlist)) for m in mods ] )\n",
    "    lhd = np.exp(llhd - llhd.max(axis=0))\n",
    "    prob = pd.DataFrame( (lhd/lhd.sum(axis=0)).transpose() )\n",
    "    prob[\"doc\"] = [i for i,d in enumerate(docs) for s in d]\n",
    "    prob = prob.groupby(\"doc\").mean()\n",
    "    return prob"
   ]
  },
  {
   "cell_type": "code",
   "execution_count": 115,
   "metadata": {
    "collapsed": false
   },
   "outputs": [
    {
     "name": "stdout",
     "output_type": "stream",
     "text": [
      "Linke: 38.40846366145354\n",
      "SPD: 41.78999295278365\n",
      "Gruene: 44.36826640548482\n",
      "FDP: 99.92962702322308\n",
      "CDU: 11.213626685592619\n",
      "NPD: 72.88135593220339\n"
     ]
    }
   ],
   "source": [
    "linke_test = [\n",
    "    path.join('data', 'Politics', 'Linke_Fraktion.txt')\n",
    "]\n",
    "prob = calc_probability_list(linke_test, models)\n",
    "print('Linke: {}'.format(get_score(prob, 0)))\n",
    "\n",
    "spd_test = [\n",
    "    path.join('data', 'Politics', 'SPD_Vorwärts_Inland.txt'),\n",
    "    path.join('data', 'Politics', 'SPD_Vorwärts_International.txt'),\n",
    "    path.join('data', 'Politics', 'SPD_Vorwärts_Parteileben.txt')\n",
    "]\n",
    "prob = calc_probability_list(spd_test, models)\n",
    "print('SPD: {}'.format(get_score(prob, 1)))\n",
    "\n",
    "gruene_test = [\n",
    "    path.join('data', 'Politics', 'Grüne.txt')\n",
    "]\n",
    "prob = calc_probability_list(gruene_test, models)\n",
    "print('Gruene: {}'.format(get_score(prob, 2)))\n",
    "\n",
    "fdp_test = [\n",
    "    path.join('data', 'Politics', 'FDP.txt')\n",
    "]\n",
    "prob = calc_probability_list(fdp_test, models)\n",
    "print('FDP: {}'.format(get_score(prob, 3)))\n",
    "\n",
    "cdu_test = [\n",
    "    path.join('data', 'Politics', 'CDU_EU.txt')\n",
    "]\n",
    "prob = calc_probability_list(cdu_test, models)\n",
    "print('CDU: {}'.format(get_score(prob, 4)))\n",
    "\n",
    "prob = calc_probability(raw[raw['site'] == 'Deutsche Stimme'], models)\n",
    "print('NPD: {}'.format(get_score(prob, 5)))"
   ]
  },
  {
   "cell_type": "code",
   "execution_count": null,
   "metadata": {
    "collapsed": true
   },
   "outputs": [],
   "source": [
    "Linke: 39.46642134314627\n",
    "SPD: 39.93422598073761\n",
    "Gruene: 46.5230166503428\n",
    "FDP: 99.92962702322308\n",
    "CDU: 16.25266146202981\n",
    "NPD: 74.57627118644068"
   ]
  }
 ],
 "metadata": {
  "kernelspec": {
   "display_name": "Python 3",
   "language": "python",
   "name": "python3"
  },
  "language_info": {
   "codemirror_mode": {
    "name": "ipython",
    "version": 3
   },
   "file_extension": ".py",
   "mimetype": "text/x-python",
   "name": "python",
   "nbconvert_exporter": "python",
   "pygments_lexer": "ipython3",
   "version": "3.5.1"
  }
 },
 "nbformat": 4,
 "nbformat_minor": 0
}
