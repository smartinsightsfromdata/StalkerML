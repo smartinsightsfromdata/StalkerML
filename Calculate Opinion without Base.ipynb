{
 "cells": [
  {
   "cell_type": "markdown",
   "metadata": {},
   "source": [
    "# Calculate Political Opinion Models"
   ]
  },
  {
   "cell_type": "code",
   "execution_count": null,
   "metadata": {
    "collapsed": false
   },
   "outputs": [],
   "source": [
    "import logging\n",
    "logging.basicConfig(format='%(asctime)s : %(levelname)s : %(message)s')\n",
    "logging.root.level = logging.INFO\n",
    "\n",
    "from os import path\n",
    "from random import shuffle\n",
    "from corputil import FileCorpus, ListCorpus\n",
    "from corputil.utils import load_stopwords\n",
    "from gensim.models.word2vec import LineSentence, Word2Vec\n",
    "\n",
    "stopwords = load_stopwords(path.join('data', 'german.txt'))"
   ]
  },
  {
   "cell_type": "markdown",
   "metadata": {},
   "source": [
    "## Training the Base Model\n",
    "\n",
    "Calculate the base model (empty), that is later used as a base for training the classification models."
   ]
  },
  {
   "cell_type": "code",
   "execution_count": null,
   "metadata": {
    "collapsed": false,
    "scrolled": true
   },
   "outputs": [],
   "source": [
    "spd = [\n",
    "    path.join('data', 'Politics', 'SPD_EU.txt'),\n",
    "    path.join('data', 'Politics', 'SPD_Fraktion.txt'),\n",
    "#     path.join('data', 'Politics', 'SPD_Vorwärts_Inland.txt'),\n",
    "#     path.join('data', 'Politics', 'SPD_Vorwärts_International.txt'),\n",
    "    path.join('data', 'Politics', 'SPD_Vorwärts_Parteileben.txt')\n",
    "]\n",
    "\n",
    "linke = [\n",
    "    path.join('data', 'Politics', 'Linke.txt'),\n",
    "    path.join('data', 'Politics', 'Linke_PR.txt'),\n",
    "    path.join('data', 'Politics', 'Linke_Fraktion.txt')\n",
    "]\n",
    "\n",
    "gruene = [\n",
    "    path.join('data', 'Politics', 'Grüne.txt'),\n",
    "    path.join('data', 'Politics', 'Grüne_Fraktion.txt')\n",
    "]\n",
    "\n",
    "fdp = [\n",
    "    path.join('data', 'Politics', 'FDP.txt'),\n",
    "    path.join('data', 'Politics', 'FDP_Fraktion.txt')\n",
    "]\n",
    "\n",
    "cdu = [\n",
    "    path.join('data', 'Politics', 'CDU.txt'),\n",
    "    path.join('data', 'Politics', 'CDU_Fraktion.txt')\n",
    "]\n",
    "\n",
    "npd = [\n",
    "    path.join('data', 'Politics', 'NPD_MV.txt'),\n",
    "    path.join('data', 'Politics', 'NPD_Sachsen.txt')\n",
    "#     path.join('data', 'Politics', 'NPD_Jung.txt')\n",
    "]\n",
    "\n",
    "files = [file for fp in [spd, linke, gruene, fdp, cdu, npd] for file in fp]\n",
    "\n",
    "base_corpus = list(FileCorpus(files).sentences_token())\n",
    "base = Word2Vec(workers=4, iter=4, size=200, window=10)\n",
    "base.build_vocab(base_corpus)"
   ]
  },
  {
   "cell_type": "markdown",
   "metadata": {},
   "source": [
    "Save model to disk. Don't finalize the model because we need to train it with new data later!"
   ]
  },
  {
   "cell_type": "code",
   "execution_count": null,
   "metadata": {
    "collapsed": true
   },
   "outputs": [],
   "source": [
    "# base.save(path.join('models', 'base.w2v'))"
   ]
  },
  {
   "cell_type": "markdown",
   "metadata": {},
   "source": [
    "## Training"
   ]
  },
  {
   "cell_type": "code",
   "execution_count": null,
   "metadata": {
    "collapsed": false
   },
   "outputs": [],
   "source": [
    "from copy import deepcopy\n",
    "\n",
    "corpora = [\n",
    "    FileCorpus(spd), \n",
    "    FileCorpus(linke), \n",
    "    FileCorpus(gruene), \n",
    "    FileCorpus(fdp), \n",
    "    FileCorpus(cdu), \n",
    "    FileCorpus(npd)\n",
    "]\n",
    "models = [deepcopy(base) for i in range(len(corpora))]\n",
    "\n",
    "for i in range(len(corpora)):\n",
    "    sentences = list(corpora[i].sentences_token())\n",
    "    shuffle(sentences)\n",
    "    models[i].train(sentences, total_examples=len(sentences))\n",
    "    print('Loaded corpus with {} sentences.'.format(len(sentences)))"
   ]
  },
  {
   "cell_type": "markdown",
   "metadata": {},
   "source": [
    "## Classification"
   ]
  },
  {
   "cell_type": "code",
   "execution_count": null,
   "metadata": {
    "collapsed": false
   },
   "outputs": [],
   "source": [
    "import pandas as pd\n",
    "import numpy as np\n",
    "\n",
    "\n",
    "def calc_score(doc, mod):\n",
    "    model = Word2Vec.load(mod)\n",
    "    score = model.score(doc, len(doc))\n",
    "    return score\n",
    "\n",
    "def calc_probability(df, mods):\n",
    "    docs = list(ListCorpus(list(df.loc[:, 'text'])).doc_sentences_token())\n",
    "    sentlist = [s for d in docs for s in d]\n",
    "    llhd = np.array( [ m.score(sentlist, len(sentlist)) for m in mods ] )\n",
    "    lhd = np.exp(llhd - llhd.max(axis=0))\n",
    "    prob = pd.DataFrame( (lhd/lhd.sum(axis=0)).transpose() )\n",
    "    prob[\"doc\"] = [i for i,d in enumerate(docs) for s in d]\n",
    "    prob = prob.groupby(\"doc\").mean()\n",
    "    return prob\n",
    "\n",
    "KW = pd.read_csv(path.join('data', 'CurrentNews', 'All.csv'), sep='|', encoding='utf-8')\n",
    "prob = calc_probability(KW, models)\n",
    "prob = prob.div(prob.sum(axis=1), axis=0)\n",
    "KW = pd.concat([KW, prob], axis=1)"
   ]
  },
  {
   "cell_type": "code",
   "execution_count": null,
   "metadata": {
    "collapsed": false
   },
   "outputs": [],
   "source": [
    "KW.groupby('site').mean()"
   ]
  }
 ],
 "metadata": {
  "kernelspec": {
   "display_name": "Python 3",
   "language": "python",
   "name": "python3"
  },
  "language_info": {
   "codemirror_mode": {
    "name": "ipython",
    "version": 3
   },
   "file_extension": ".py",
   "mimetype": "text/x-python",
   "name": "python",
   "nbconvert_exporter": "python",
   "pygments_lexer": "ipython3",
   "version": "3.5.1"
  }
 },
 "nbformat": 4,
 "nbformat_minor": 0
}
