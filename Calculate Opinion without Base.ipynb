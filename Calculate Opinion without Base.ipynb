{
 "cells": [
  {
   "cell_type": "markdown",
   "metadata": {},
   "source": [
    "# Calculate Political Opinion Models"
   ]
  },
  {
   "cell_type": "code",
   "execution_count": 9,
   "metadata": {
    "collapsed": true
   },
   "outputs": [],
   "source": [
    "import logging\n",
    "from os import path"
   ]
  },
  {
   "cell_type": "markdown",
   "metadata": {},
   "source": [
    "## Training the Base Model\n",
    "\n",
    "Calculate the base model (empty), that is later used as a base for training the classification models."
   ]
  },
  {
   "cell_type": "code",
   "execution_count": 10,
   "metadata": {
    "collapsed": false
   },
   "outputs": [],
   "source": [
    "from corputil import FileCorpus\n",
    "from gensim.models.word2vec import Word2Vec\n",
    "\n",
    "file1 = path.join('data', 'Corpus_SPD_Fraktion.txt')\n",
    "file2 = path.join('data', 'Corpus_Grüne_Fraktion.txt')\n",
    "file3 = path.join('data', 'Corpus_Linke_Fraktion.txt')\n",
    "\n",
    "base_corpus = FileCorpus(file1, file2, file3)\n",
    "\n",
    "base = Word2Vec(workers=4, iter=4)\n",
    "base.build_vocab(base_corpus.sentences_token())"
   ]
  },
  {
   "cell_type": "markdown",
   "metadata": {},
   "source": [
    "Save model to disk. Don't finalize the model because we need to train it with new data later!"
   ]
  },
  {
   "cell_type": "code",
   "execution_count": 11,
   "metadata": {
    "collapsed": true
   },
   "outputs": [],
   "source": [
    "# base.save(path.join('models', 'base.w2v'))"
   ]
  },
  {
   "cell_type": "markdown",
   "metadata": {},
   "source": [
    "## Training"
   ]
  },
  {
   "cell_type": "code",
   "execution_count": 12,
   "metadata": {
    "collapsed": false
   },
   "outputs": [
    {
     "name": "stdout",
     "output_type": "stream",
     "text": [
      "Loaded corpus with 98697 sentences.\n",
      "Loaded corpus with 119226 sentences.\n",
      "Loaded corpus with 139882 sentences.\n"
     ]
    }
   ],
   "source": [
    "from copy import deepcopy\n",
    "\n",
    "corpora = [FileCorpus(file1), FileCorpus(file2), FileCorpus(file3)]\n",
    "models = [deepcopy(base) for i in range(len(corpora))]\n",
    "\n",
    "for i in range(len(corpora)):\n",
    "    sentences = list(corpora[i].sentences_token())\n",
    "    models[i].train(sentences, total_examples=len(sentences))\n",
    "    print('Loaded corpus with {} sentences.'.format(len(sentences)))"
   ]
  },
  {
   "cell_type": "markdown",
   "metadata": {},
   "source": [
    "## Classification"
   ]
  },
  {
   "cell_type": "code",
   "execution_count": 13,
   "metadata": {
    "collapsed": false
   },
   "outputs": [
    {
     "name": "stdout",
     "output_type": "stream",
     "text": [
      "                0         1         2\n",
      "doc                                  \n",
      "0    1.642097e-01  0.210489  0.625301\n",
      "1    2.542731e-02  0.352747  0.621826\n",
      "2    2.591371e-09  0.497494  0.502506\n",
      "3    1.551192e-06  0.411207  0.588791\n",
      "4    7.153789e-03  0.003400  0.989446\n"
     ]
    }
   ],
   "source": [
    "import pandas as pd\n",
    "import numpy as np\n",
    "\n",
    "def calc_probability(docs, mods):\n",
    "    sentlist = [s for d in docs for s in d]\n",
    "    llhd = np.array( [ m.score(sentlist, len(sentlist)) for m in mods ] )\n",
    "    lhd = np.exp(llhd - llhd.max(axis=0))\n",
    "    prob = pd.DataFrame( (lhd/lhd.sum(axis=0)).transpose() )\n",
    "    prob[\"doc\"] = [i for i,d in enumerate(docs) for s in d]\n",
    "    prob = prob.groupby(\"doc\").mean()\n",
    "    return prob\n",
    "\n",
    "test_corpus = list(FileCorpus(path.join('data', 'Test.txt')).doc_sentences_token())\n",
    "prob = calc_probability(test_corpus, models)\n",
    "print(prob)"
   ]
  },
  {
   "cell_type": "code",
   "execution_count": 14,
   "metadata": {
    "collapsed": false
   },
   "outputs": [
    {
     "name": "stdout",
     "output_type": "stream",
     "text": [
      "Brüssel kommt nicht zur Ruhe: Bei einer Anti-Terror-Razzia am späten Sonntagabend hat die Polizei 16 Personen festgenommen. Der mutmaßliche Komplize der Attentäter von Paris, Abdeslam, ist nach Angaben der Staatsanwaltschaft nicht darunter.   Die belgische Polizei hat bei Razzien in Brüssel und Umgebung am späten Sonntagabend 16 Personen festgenommen. Das teilte die Staatsanwaltschaft bei einer nächtlichen Pressekonferenz mit. 19 Häuser seien durchsucht worden, Waffen oder Sprengstoff seien nicht sichergestellt worden. Der mit internationalem Haftbefehl gesuchte Salah Abdeslam sei nicht unter den Festgenommenen. Vermutlich war er an den Pariser Attentaten mit insgesamt 130 Toten beteiligt. Er ist der Bruder eines der Selbstmordattentäter. Zur Identität der Festgenommenen wurden keine Angaben gemacht.  In der Gemeinde Molenbeek, wo bereits kurz nach den Anschlägen von Paris Razzien durchgeführt worden waren, feuerten Polizisten den Angaben zufolge auf ein Fahrzeug, das auf sie zuraste. Das Fahrzeug sei wenig später gestoppt worden, der Fahrer sei verletzt.  Statement Staatsanwaltschaft in 3 Sprachen: Salah Abdeslam nicht gefasst, 16 festgenommen, keine Waffen oder Sprengstoff gefunden  Vor allem in der Brüsseler Innenstadt hatte die Polizeiaktion am Sonntagabend Aufregung ausgelöst. Im bei Touristen beliebten Viertel um den Grand Place waren viele Sicherheitsbeamte zu sehen. Sicherheitskräfte sperrten Straßen und forderten Passanten lautstark auf, sich zu entfernen. Hubschrauber kreisten über den Häusern. Zahlreiche schwer bewaffnete Soldaten und Polizisten seien im Einsatz, hatte die Lage beschrieben.  Zuvor hatte Premierminister Charles Michel nach einer Sitzung des nationalen Sicherheitsrates mitgeteilt, dass die höchste Terrorwarnstufe für die belgische Hauptstadt auch am heutigen Montag gilt. Er begründete dies mit einer \"ernsthaften und unmittelbaren Bedrohung\". Für den Rest des Landes gilt demnach weiter die zweithöchste Warnstufe drei, die bereits vor knapp einer Woche in Folge der Terroranschläge von Paris ausgerufen wurde.  Die Schulen und Universitäten in der belgischen Hauptstadt und die U-Bahn bleiben nach Angaben des Regierungschefs geschlossen. Michel sprach von konkreten Hinweise auf ein geplantes Attentat von Terroristen in Brüssel. \"Wir fürchten einen Angriff wie in Paris\", sagte er. Mögliche Ziele seien Geschäftsviertel, Einkaufszentren und der öffentliche Nahverkehr. Die Präsenz von Polizei und Armee werde verstärkt.  Das Treffen der Finanzminister der Eurogruppe soll stattfinden. Allerdings seien weniger wichtigere Treffen von EU-Vertretern abgesagt worden, so ARD-Korrespondentin Scharkus.  In der Nacht zum Samstag hatte das nationale Krisenzentrum die Terrorwarnstufe für die Hauptstadtregion . Viele Veranstaltungen wurden abgesagt und der Betrieb der U-Bahn eingestellt. Museen, Einkaufszentren, Kinos sowie viele Geschäfte und Cafés in der Innenstadt blieben geschlossen - ebenso zahlreiche Sehenswürdigkeiten. Das öffentliche Leben der Stadt steht teilweise still. Das Krisenzentrum empfiehlt den Bürgern weiter, belebte Orte wie Bahnhöfe und Flughäfen zu meiden sowie Konzerte und Großereignisse abzusagen. In Belgien übernimmt ein Krisenzentrum im Auftrag des Innenministers die Beobachtung der Bedrohungslage durch Ereignisse im In- und Ausland. Auf Basis eines Gesetzes von 2006 erhält das Krisenzentrum Bewertungen der terroristischen Bedrohungen vom sogenannten Koordinierungsorgan für die Bedrohungsanalyse (OCAM). Dabei gibt es vier mögliche Bedrohungsstufen:Stufe 1 (\"gering\") bedeutet, dass Personen, Gruppen oder Ereignisse, auf die sich die Analyse bezieht, \"nicht bedroht\" sind.Stufe 2 (\"mäßig\") bedeutet, dass die Bedrohung der Person(en), Gruppe(n) oder Ereignisse, auf die sich die Analyse bezieht, \"wenig wahrscheinlich\" ist.Stufe 3 (\"ernst\") bedeutet, dass die Bedrohung der Person(en), Gruppe(n) oder Ereignisse, auf die sich die Analyse bezieht, \"möglich und wahrscheinlich\" ist.Stufe 4 (\"sehr ernst\") bedeutet, dass die Bedrohung der Person(en), Gruppe(n) oder Ereignisse, auf die sich die Analyse bezieht, \"ernst zu nehmen ist und nahe bevorsteht\".\n",
      "\n",
      "Aus Angst vor einer ist die belgische Polizei bei zahlreichen Razzien gegen Terrorverdächtige vorgegangen. Die fanden unter anderem in der Hauptstadt Brüssel statt, die Staatsanwaltschaft hat noch in der Nacht zum Montag erste Details bekanntgegeben. Demnach sind 19 Häuser in der Hauptstadtregion durchsucht und 16 Menschen vorläufig festgenommen worden. Es seien dabei weder Waffen noch Explosivstoffe gefunden worden. Es habe jedoch einen Verletzten gegeben. Nähere Details dazu wurden nicht bekannt. Im Brüsseler Stadtteil Molenbeek seien mindestens zwei Schüsse auf ein Fahrzeug abgegeben worden, hieß es von der Staatsanwaltschaft. Zuvor hatte bereits die Bürgermeisterin des Stadtteils von einem Schusswechsel in ihrer Gemeinde gesprochen. Das Viertel gilt als Islamistenhochburg: Einer der Selbstmordattentäter von Paris lebte dort mit seinen Brüdern. Nach einem von ihnen, Salah Abdeslam, wir mit internationalem Haftbefehl gefahndet, der 26-Jährige soll an den Pariser Attentaten mit insgesamt 130 Toten beteiligt gewesen sein. Bei den aktuellen Einsätzen wurde Abdeslam nicht gefunden. Die Attentäter von Paris hatten enge Verbindungen nach Brüssel. Neben den lebte auch der mutmaßliche Drahtzieher Abdelhamid Abaaoud früher in Molenbeek, er soll in Belgien Verwandte haben (lesen Sie hier eine ). Die belgische Regierung hatte am Sonntag . Grund sei eine \"ernsthafte und unmittelbare Bedrohung\", sagte Regierungschef Charles Michel. Die Schulen in der belgischen Hauptstadt bleiben somit am Montag geschlossen, auch die U-Bahnen werden zu Wochenbeginn noch nicht fahren.\n",
      "\n",
      " Bei dem Großeinsatz in der belgischen Hauptstadt sind 16 Personen vorläufig festgenommen worden. Der wegen der Anschläge in Paris gesuchte Salah Abdeslam ist nicht dabei.\n",
      "\n",
      " Der Zentralrat der Juden in Deutschland fordert ein Limit für den Zuzug von Flüchtlingen. Sie entstammten Kulturen, in denen Hass und Intoleranz fester Bestandteil seien. Zentralratspräsident Josef Schuster plädiert für Obergrenzen und kontrollierte Zugänge in die Bundesrepublik\n",
      "\n",
      " Der Chef der prokurdischen HDP hat offenbar einen Anschlag im südosttürkischen Diyarbakir unverletzt überstanden. Wer hinter dem Angriff steckt, ist noch unklar.  Selahattin Demirtas, Parteichef, der prokurdischen HDP, hatte mit seiner Partei in diesem Jahr den Einzug ins Parlament geschafft.\n",
      "\n"
     ]
    }
   ],
   "source": [
    "documents = FileCorpus(path.join('data', 'Test.txt'))\n",
    "for doc in documents:\n",
    "    print(doc)"
   ]
  }
 ],
 "metadata": {
  "kernelspec": {
   "display_name": "Python 3",
   "language": "python",
   "name": "python3"
  },
  "language_info": {
   "codemirror_mode": {
    "name": "ipython",
    "version": 3
   },
   "file_extension": ".py",
   "mimetype": "text/x-python",
   "name": "python",
   "nbconvert_exporter": "python",
   "pygments_lexer": "ipython3",
   "version": "3.5.0"
  }
 },
 "nbformat": 4,
 "nbformat_minor": 0
}
