{
 "cells": [
  {
   "cell_type": "code",
   "execution_count": null,
   "metadata": {
    "collapsed": false
   },
   "outputs": [],
   "source": [
    "from time import time\n",
    "from os import path\n",
    "from gensim import corpora, models\n",
    "from gensim.models.phrases import Phrases\n",
    "from html2corpus import HTML2Corpus\n",
    "from corputil import FileCorpus, MultiFileCorpus\n",
    "from corputil.modifiers import to_words_sl, sentence_to_words\n",
    "from pprint import pprint\n",
    "from collections import defaultdict"
   ]
  },
  {
   "cell_type": "code",
   "execution_count": null,
   "metadata": {
    "collapsed": false
   },
   "outputs": [],
   "source": [
    "file = path.join('data', 'Corpus_KW45.txt')\n",
    "start = time()\n",
    "feature_corpus = FileCorpus(file, modifier=sentence_to_words)\n",
    "train_corpus = FileCorpus(file, modifier=to_words_sl)"
   ]
  },
  {
   "cell_type": "code",
   "execution_count": null,
   "metadata": {
    "collapsed": false
   },
   "outputs": [],
   "source": [
    "bigram = Phrases(feature_corpus)\n",
    "corpus = [bigram[doc] for doc in train_corpus]\n",
    "\n",
    "dictionary = corpora.Dictionary(corpus)\n",
    "dictionary.filter_extremes()\n",
    "dictionary.compactify()\n",
    "\n",
    "mmCorpus = [dictionary.doc2bow(doc) for doc in corpus]\n",
    "lda = models.LdaMulticore(mmCorpus, id2word=dictionary, chunksize=500, batch=True, \n",
    "                          num_topics=40, workers=2, passes=10, iterations=500)\n",
    "\n",
    "elapsed = time() - start\n",
    "print(elapsed)"
   ]
  },
  {
   "cell_type": "code",
   "execution_count": null,
   "metadata": {
    "collapsed": false
   },
   "outputs": [],
   "source": [
    "clean_topics = []\n",
    "for topic_id, topics in lda.print_topics():\n",
    "    topic_list = []\n",
    "    for topic in topics.split('+'):\n",
    "        topic_list.append(tuple(topic.strip().split('*')))\n",
    "    clean_topics.append(topic_list)\n",
    "\n",
    "flat = [l for inner in clean_topics for l in inner]\n",
    "trends = defaultdict(float)\n",
    "for p, trend in flat:\n",
    "    trends[trend] += float(p)\n",
    "top_trends = sorted(trends.items(), key=lambda item: -item[1])\n",
    "pprint(top_trends)"
   ]
  }
 ],
 "metadata": {
  "kernelspec": {
   "display_name": "Python 3",
   "language": "python",
   "name": "python3"
  },
  "language_info": {
   "codemirror_mode": {
    "name": "ipython",
    "version": 3
   },
   "file_extension": ".py",
   "mimetype": "text/x-python",
   "name": "python",
   "nbconvert_exporter": "python",
   "pygments_lexer": "ipython3",
   "version": "3.4.3"
  }
 },
 "nbformat": 4,
 "nbformat_minor": 0
}
