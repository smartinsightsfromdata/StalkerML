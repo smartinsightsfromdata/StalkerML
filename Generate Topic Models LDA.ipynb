{
 "cells": [
  {
   "cell_type": "code",
   "execution_count": null,
   "metadata": {
    "collapsed": false
   },
   "outputs": [],
   "source": [
    "from os import path\n",
    "from pprint import pprint\n",
    "from corputil import FileCorpus\n",
    "from corputil.utils import load_stopwords\n",
    "from gensim.models import LdaMulticore\n",
    "from gensim.models.phrases import Phrases\n",
    "from gensim.corpora import Dictionary, MmCorpus\n",
    "\n",
    "stopwords = load_stopwords(path.join('data', 'german.txt'))"
   ]
  },
  {
   "cell_type": "code",
   "execution_count": null,
   "metadata": {
    "collapsed": false
   },
   "outputs": [],
   "source": [
    "num_topics = 40\n",
    "chunksize, iterations, passes = 100, 500, 20\n",
    "labels = ['2015KW44', '2015KW45', '2015KW46', '2015KW47', '2015KW48', '2015KW49', '2015KW50']\n",
    "files = [path.join('data', 'CurrentNews', 'Corpus_{}.txt').format(label) for label in labels]\n",
    "output_model = [path.join('models', 'lda', '{}.lda').format(label) for label in labels]\n",
    "output_dict = [path.join('models', 'lda', '{}.dict').format(label) for label in labels]\n",
    "output_mm = [path.join('models', 'lda', '{}.mm').format(label) for label in labels]\n",
    "corpora = [FileCorpus(file) for file in files]\n",
    "\n",
    "def train_lda(train):\n",
    "#     corpus = [trigram[bigram[doc]] for doc in train]\n",
    "    corpus = [doc for doc in train]\n",
    "    dictionary = Dictionary(corpus)\n",
    "    dictionary.filter_extremes()\n",
    "    dictionary.compactify()\n",
    "\n",
    "    mmCorpus = [dictionary.doc2bow(doc) for doc in corpus]\n",
    "    lda = LdaMulticore(mmCorpus, id2word=dictionary, chunksize=chunksize, batch=True,\n",
    "                       num_topics=num_topics, workers=2, passes=passes, iterations=iterations)\n",
    "    return (dictionary, mmCorpus, lda)"
   ]
  },
  {
   "cell_type": "code",
   "execution_count": null,
   "metadata": {
    "collapsed": false
   },
   "outputs": [],
   "source": [
    "# bigram = Phrases.load(path.join('models', 'phrase', 'Bigram.phrase'))\n",
    "# trigram = Phrases.load(path.join('models', 'phrase', 'Trigram.phrase'))\n",
    "\n",
    "for i, corpus in enumerate(corpora):\n",
    "    dictionary, mmCorpus, model = train_lda(corpus.doc_token(stopwords=stopwords))\n",
    "    model.save(output_model[i])\n",
    "    dictionary.save(output_dict[i])\n",
    "    MmCorpus.serialize(output_mm[i], mmCorpus)"
   ]
  }
 ],
 "metadata": {
  "kernelspec": {
   "display_name": "Python 3",
   "language": "python",
   "name": "python3"
  },
  "language_info": {
   "codemirror_mode": {
    "name": "ipython",
    "version": 3
   },
   "file_extension": ".py",
   "mimetype": "text/x-python",
   "name": "python",
   "nbconvert_exporter": "python",
   "pygments_lexer": "ipython3",
   "version": "3.5.1"
  }
 },
 "nbformat": 4,
 "nbformat_minor": 0
}
