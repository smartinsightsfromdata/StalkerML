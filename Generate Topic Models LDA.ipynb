{
 "cells": [
  {
   "cell_type": "code",
   "execution_count": null,
   "metadata": {
    "collapsed": true
   },
   "outputs": [],
   "source": [
    "from os import path\n",
    "import pandas as pd\n",
    "from pprint import pprint\n",
    "from corputil import ListCorpus\n",
    "from corputil.utils import load_stopwords\n",
    "import gensim.matutils as matutils\n",
    "from gensim.models import LdaMulticore\n",
    "from gensim.models.phrases import Phrases\n",
    "from gensim.corpora import Dictionary\n",
    "\n",
    "stopwords = load_stopwords(path.join('data', 'german.txt'))"
   ]
  },
  {
   "cell_type": "code",
   "execution_count": null,
   "metadata": {
    "collapsed": true
   },
   "outputs": [],
   "source": [
    "num_topics = 30\n",
    "chunksize, iterations, passes = 200, 500, 20\n",
    "labels = ['2015KW44', '2015KW45', '2015KW46', '2015KW47', '2015KW48', '2015KW49', '2015KW50', '2015KW51']\n",
    "files = [path.join('data', 'CurrentNews', '{}.csv').format(label) for label in labels]\n",
    "output_model = [path.join('models', 'lda', '{}.lda').format(label) for label in labels]\n",
    "output_dict = path.join('models', 'lda', 'Words.dict')\n",
    "output_bigram = path.join('models', 'lda', 'Bigram.phrase')"
   ]
  },
  {
   "cell_type": "code",
   "execution_count": null,
   "metadata": {
    "collapsed": true
   },
   "outputs": [],
   "source": [
    "dfs = [pd.read_csv(file, sep='|', encoding='utf-8') for file in files]"
   ]
  },
  {
   "cell_type": "code",
   "execution_count": null,
   "metadata": {
    "collapsed": true
   },
   "outputs": [],
   "source": [
    "corpora = [ListCorpus(list(df.loc[:, 'text'])) for df in dfs]"
   ]
  },
  {
   "cell_type": "code",
   "execution_count": null,
   "metadata": {
    "collapsed": true
   },
   "outputs": [],
   "source": [
    "def create_phrase():\n",
    "    sentences = [sentence for corpus in corpora for sentence in corpus.sentences_token(stopwords=stopwords)]\n",
    "    bigram = Phrases(sentences)\n",
    "    return bigram\n",
    "\n",
    "\n",
    "def create_dict():\n",
    "    docs = [bigram[doc] for corpus in corpora for doc in corpus.doc_token(stopwords)]\n",
    "    dictionary = Dictionary(docs)\n",
    "    dictionary.filter_extremes()\n",
    "    dictionary.compactify()\n",
    "    return dictionary\n",
    "\n",
    "\n",
    "def train_lda(corpus):\n",
    "    bow = [dictionary.doc2bow(bigram[doc]) for doc in corpus]\n",
    "    lda = LdaMulticore(bow, id2word=dictionary, chunksize=chunksize, batch=True,\n",
    "                       num_topics=num_topics, workers=2, passes=passes, iterations=iterations)\n",
    "    return bow, lda"
   ]
  },
  {
   "cell_type": "code",
   "execution_count": null,
   "metadata": {
    "collapsed": true
   },
   "outputs": [],
   "source": [
    "bigram = create_phrase()\n",
    "dictionary = create_dict()\n",
    "\n",
    "models = []\n",
    "docs = []\n",
    "\n",
    "for i, corpus in enumerate(corpora):\n",
    "    mmCorpus, model = train_lda(corpus.doc_token(stopwords=stopwords))\n",
    "    models.append(model)\n",
    "    docs.append(mmCorpus)\n",
    "    model.save(output_model[i])\n",
    "\n",
    "bigram.save(output_bigram)\n",
    "dictionary.save(output_dict)"
   ]
  },
  {
   "cell_type": "markdown",
   "metadata": {},
   "source": [
    "## TESTING"
   ]
  },
  {
   "cell_type": "code",
   "execution_count": null,
   "metadata": {
    "collapsed": true
   },
   "outputs": [],
   "source": [
    "from sklearn.manifold import TSNE\n",
    "\n",
    "i = 0\n",
    "model = models[i]\n",
    "doc = docs[i]\n",
    "bow = [matutils.sparse2full(d, model.num_topics) for d in model[doc]]\n",
    "reduced = TSNE(n_components=2, perplexity=40, verbose=2).fit_transform(bow)\n",
    "df = pd.DataFrame(reduced)"
   ]
  },
  {
   "cell_type": "code",
   "execution_count": null,
   "metadata": {
    "collapsed": true
   },
   "outputs": [],
   "source": [
    "from sklearn.manifold import TSNE\n",
    "\n",
    "model = models[i]\n",
    "bow = [matutils.sparse2full(topic, model.num_topics) for t in model.show_topics(-1, formatted=False)]\n",
    "bow"
   ]
  },
  {
   "cell_type": "code",
   "execution_count": null,
   "metadata": {
    "collapsed": true
   },
   "outputs": [],
   "source": [
    "import matplotlib.pyplot as plt\n",
    "\n",
    "plt.title('Topic Model Visualization')\n",
    "plt.axis('off')\n",
    "plt.scatter(df[0], df[1], marker='x')\n",
    "plt.show()"
   ]
  }
 ],
 "metadata": {
  "kernelspec": {
   "display_name": "Python 3",
   "language": "python",
   "name": "python3"
  },
  "language_info": {
   "codemirror_mode": {
    "name": "ipython",
    "version": 3
   },
   "file_extension": ".py",
   "mimetype": "text/x-python",
   "name": "python",
   "nbconvert_exporter": "python",
   "pygments_lexer": "ipython3",
   "version": "3.5.1"
  }
 },
 "nbformat": 4,
 "nbformat_minor": 0
}
