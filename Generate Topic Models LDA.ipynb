{
 "cells": [
  {
   "cell_type": "code",
   "execution_count": null,
   "metadata": {
    "collapsed": true
   },
   "outputs": [],
   "source": [
    "from os import path\n",
    "from pprint import pprint\n",
    "import pandas as pd\n",
    "from corputil import ListCorpus\n",
    "from corputil.utils import load_stopwords\n",
    "from gensim.models import LdaMulticore\n",
    "from gensim.models.phrases import Phrases\n",
    "from gensim.corpora import Dictionary\n",
    "\n",
    "stopwords = load_stopwords(path.join('data', 'german.txt'))"
   ]
  },
  {
   "cell_type": "code",
   "execution_count": null,
   "metadata": {
    "collapsed": true
   },
   "outputs": [],
   "source": [
    "num_topics = 15\n",
    "chunksize, iterations, passes = 200, 500, 20\n",
    "labels = ['2015KW44', '2015KW45', '2015KW46', '2015KW47', '2015KW48', '2015KW49', '2015KW50',\n",
    "          '2015KW51', '2015KW52', '2015KW53', '2016KW01']\n",
    "files = [path.join('data', 'CurrentNews', 'Sentiment_{}.csv').format(label) for label in labels]\n",
    "output_model = [path.join('models', 'lda', '{}.lda').format(label) for label in labels]\n",
    "output_dict = path.join('models', 'lda', 'Words.dict')\n",
    "output_bigram = path.join('models', 'lda', 'Bigram.phrase')"
   ]
  },
  {
   "cell_type": "code",
   "execution_count": null,
   "metadata": {
    "collapsed": true
   },
   "outputs": [],
   "source": [
    "dfs = [pd.read_csv(file, sep='|', encoding='utf-8') for file in files]"
   ]
  },
  {
   "cell_type": "code",
   "execution_count": null,
   "metadata": {
    "collapsed": true
   },
   "outputs": [],
   "source": [
    "corpora = [ListCorpus(list(df.loc[:, 'text'])) for df in dfs]"
   ]
  },
  {
   "cell_type": "code",
   "execution_count": null,
   "metadata": {
    "collapsed": true
   },
   "outputs": [],
   "source": [
    "def create_phrase():\n",
    "    sentences = [sentence for corpus in corpora for sentence in corpus.sentences_token(stopwords=stopwords)]\n",
    "    bigram = Phrases(sentences)\n",
    "    return bigram\n",
    "\n",
    "\n",
    "def create_dict():\n",
    "    docs = [bigram[doc] for corpus in corpora for doc in corpus.doc_token(stopwords)]\n",
    "    dictionary = Dictionary(docs)\n",
    "    dictionary.filter_extremes()\n",
    "    dictionary.compactify()\n",
    "    return dictionary\n",
    "\n",
    "\n",
    "def train_lda(corpus):\n",
    "    bow = [dictionary.doc2bow(bigram[doc]) for doc in corpus]\n",
    "    lda = LdaMulticore(bow, id2word=dictionary, chunksize=chunksize, #batch=True,\n",
    "                       num_topics=num_topics, workers=2, passes=passes, iterations=iterations)\n",
    "    return bow, lda"
   ]
  },
  {
   "cell_type": "code",
   "execution_count": null,
   "metadata": {
    "collapsed": true
   },
   "outputs": [],
   "source": [
    "bigram = create_phrase()\n",
    "dictionary = create_dict()\n",
    "\n",
    "models = []\n",
    "docs = []\n",
    "\n",
    "for i, corpus in enumerate(corpora):\n",
    "    mmCorpus, model = train_lda(corpus.doc_token(stopwords=stopwords))\n",
    "    models.append(model)\n",
    "    docs.append(mmCorpus)\n",
    "    model.save(output_model[i])\n",
    "\n",
    "bigram.save(output_bigram)\n",
    "dictionary.save(output_dict)"
   ]
  },
  {
   "cell_type": "markdown",
   "metadata": {},
   "source": [
    "## Topic Chains"
   ]
  },
  {
   "cell_type": "code",
   "execution_count": null,
   "metadata": {
    "collapsed": true
   },
   "outputs": [],
   "source": [
    "import numpy as np\n",
    "from gensim.matutils import sparse2full, cossim"
   ]
  },
  {
   "cell_type": "code",
   "execution_count": null,
   "metadata": {
    "collapsed": false
   },
   "outputs": [],
   "source": [
    "def hellinger(vec1, vec2):\n",
    "    dense1 = sparse2full(vec1, len(dictionary))\n",
    "    dense2 = sparse2full(vec2, len(dictionary))\n",
    "    return np.sqrt(0.5 * ((np.sqrt(dense1) - np.sqrt(dense2))**2).sum())\n",
    "\n",
    "def permutations(coll, window):\n",
    "    perms =[]\n",
    "    for frame in range(len(coll) - (window - 1)):\n",
    "        perm = [coll[frame + i] for i in range(window)]\n",
    "        perms.append(perm)\n",
    "    return perms"
   ]
  },
  {
   "cell_type": "code",
   "execution_count": null,
   "metadata": {
    "collapsed": false
   },
   "outputs": [],
   "source": [
    "for first, second in permutations(models, 2):\n",
    "    for i1 in range(first.num_topics):\n",
    "        for i2 in range(second.num_topics):\n",
    "            similarity = cossim(first.show_topic(i1), second.show_topic(i2))\n",
    "            if(similarity > 0.5):\n",
    "                print(similarity)"
   ]
  },
  {
   "cell_type": "markdown",
   "metadata": {},
   "source": [
    "## Finalize Pipeline"
   ]
  },
  {
   "cell_type": "code",
   "execution_count": null,
   "metadata": {
    "collapsed": true
   },
   "outputs": [],
   "source": [
    "from pprint import pprint\n",
    "import json"
   ]
  },
  {
   "cell_type": "code",
   "execution_count": null,
   "metadata": {
    "collapsed": true
   },
   "outputs": [],
   "source": [
    "def order_data(d):\n",
    "    return [\n",
    "        d['Linke'],\n",
    "        d['SPD'],\n",
    "        d['Gruene'],\n",
    "        d['FDP'],\n",
    "        d['CDU'],\n",
    "        d['NPD']\n",
    "    ]\n",
    "\n",
    "def get_sentiment(df):\n",
    "    group = df.groupby('site').mean()\n",
    "    temp = group.loc[:, ['Linke', 'SPD', 'Gruene', 'FDP', 'CDU', 'NPD']].to_dict('index')\n",
    "    for key in temp.keys():\n",
    "        temp[key] = order_data(temp[key])\n",
    "    temp['All'] = list(group.loc[:, ['Linke', 'SPD', 'Gruene', 'FDP', 'CDU', 'NPD']].mean())\n",
    "    return temp\n",
    "\n",
    "def get_topic_sentiment(i, df):\n",
    "    topic = df[df['topic'] == i]\n",
    "    group = topic.groupby('site').mean()\n",
    "    temp = group.loc[:, ['Linke', 'SPD', 'Gruene', 'FDP', 'CDU', 'NPD']].to_dict('index')\n",
    "    for key in temp.keys():\n",
    "        temp[key] = order_data(temp[key])\n",
    "    temp['All'] = list(group.loc[:, ['Linke', 'SPD', 'Gruene', 'FDP', 'CDU', 'NPD']].mean())\n",
    "    return temp\n",
    "\n",
    "def topic_words(model):\n",
    "    data = model.show_topics(-1, formatted=False)\n",
    "    topics = []\n",
    "    for i, c in data:\n",
    "        words = []\n",
    "        for word, prob in c:\n",
    "            words.append(word)\n",
    "        topics.append(words)\n",
    "    return topics\n",
    "\n",
    "# Simply takes the topic with the highest prob, probably a bad idea... need to fix this.\n",
    "def topic_allocation(corpus):\n",
    "    acc = []\n",
    "    for vec in corpus:\n",
    "        t_id = -1\n",
    "        t_prob = -1\n",
    "        for topic, prob in vec:\n",
    "            if prob > t_prob:\n",
    "                t_id = topic\n",
    "        acc.append(t_id)\n",
    "    return acc\n",
    "\n",
    "def get_topics(df, model, doc):\n",
    "    transform = model[doc]\n",
    "    topics = topic_words(model)\n",
    "    df['topic'] = topic_allocation(transform)\n",
    "    d = []\n",
    "    for i, topic in enumerate(topics):\n",
    "        dc = dict()\n",
    "        dc['id'] = i\n",
    "        dc['words'] = topic\n",
    "        dc['articles'] = df[df['topic'] == i].count()['topic'].item() # Just pick a column... here topic\n",
    "        dc['sentiment'] = get_topic_sentiment(i, df)\n",
    "        if dc['articles'] > 0:\n",
    "            d.append(dc)\n",
    "    return d"
   ]
  },
  {
   "cell_type": "code",
   "execution_count": null,
   "metadata": {
    "collapsed": false
   },
   "outputs": [],
   "source": [
    "for i, (model, doc) in enumerate(zip(models, docs)):\n",
    "    d = dict()\n",
    "    df = dfs[i]\n",
    "    d['tag'] = labels[i]\n",
    "    d['sentiment'] = get_sentiment(df)\n",
    "    d['topics'] = get_topics(df, model, doc)\n",
    "    with open(path.join('data', 'Web', '{}.json'.format(labels[i])), 'w', encoding='utf-8') as f:\n",
    "        json.dump(d, f, indent=4)"
   ]
  },
  {
   "cell_type": "markdown",
   "metadata": {},
   "source": [
    "## Visualization"
   ]
  },
  {
   "cell_type": "code",
   "execution_count": null,
   "metadata": {
    "collapsed": true
   },
   "outputs": [],
   "source": [
    "%matplotlib inline\n",
    "import matplotlib\n",
    "import matplotlib.pyplot as plt\n",
    "matplotlib.rcParams['figure.figsize'] = (15.0, 15.0)\n",
    "matplotlib.rcParams['axes.titlesize'] = 24\n",
    "\n",
    "from sklearn.manifold import TSNE\n",
    "from sklearn.externals import joblib\n",
    "from gensim.matutils import sparse2full\n",
    "\n",
    "vectorizer = joblib.load(path.join('models', 'classifier', 'RAW_Vectorizer.pkl'))\n",
    "classifier = joblib.load(path.join('models', 'classifier', 'RAW_Classifier.pkl'))\n",
    "\n",
    "colors = {'Politics': 'red', \n",
    "          'Economy': 'blue', \n",
    "          'Science': 'green', \n",
    "          'Car': 'teal', \n",
    "          'Education': 'lime',  \n",
    "          'Culture': 'purple', \n",
    "          'Society': 'orange', \n",
    "          'Travel': 'magenta', \n",
    "          'Sport': 'brown', \n",
    "          'Technology': 'cyan'}"
   ]
  },
  {
   "cell_type": "code",
   "execution_count": null,
   "metadata": {
    "collapsed": false
   },
   "outputs": [],
   "source": [
    "model = models[0]\n",
    "doc = docs[0]\n",
    "\n",
    "tfidf = vectorizer.transform(dfs[0]['text'])\n",
    "bow = [sparse2full(d, model.num_topics) for d in model[doc]]\n",
    "tags = classifier.predict(tfidf)\n",
    "labels = [colors[tag] for tag in tags]\n",
    "reduced = TSNE(n_components=2, perplexity=40, verbose=2).fit_transform(bow)\n",
    "df = pd.DataFrame(reduced)"
   ]
  },
  {
   "cell_type": "code",
   "execution_count": null,
   "metadata": {
    "collapsed": false
   },
   "outputs": [],
   "source": [
    "plt.scatter(df[0], df[1], c=labels, marker='x')"
   ]
  }
 ],
 "metadata": {
  "kernelspec": {
   "display_name": "Python 3",
   "language": "python",
   "name": "python3"
  },
  "language_info": {
   "codemirror_mode": {
    "name": "ipython",
    "version": 3
   },
   "file_extension": ".py",
   "mimetype": "text/x-python",
   "name": "python",
   "nbconvert_exporter": "python",
   "pygments_lexer": "ipython3",
   "version": "3.5.1"
  }
 },
 "nbformat": 4,
 "nbformat_minor": 0
}
