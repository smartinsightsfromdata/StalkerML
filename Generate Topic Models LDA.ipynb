{
 "cells": [
  {
   "cell_type": "code",
   "execution_count": 20,
   "metadata": {
    "collapsed": true
   },
   "outputs": [],
   "source": [
    "from os import path\n",
    "from pprint import pprint\n",
    "import pandas as pd\n",
    "from corputil import ListCorpus\n",
    "from corputil.utils import load_stopwords\n",
    "from gensim.models import LdaMulticore, TfidfModel\n",
    "from gensim.models.phrases import Phrases\n",
    "from gensim.corpora import Dictionary\n",
    "\n",
    "stopwords = load_stopwords(path.join('data', 'german.txt'))"
   ]
  },
  {
   "cell_type": "code",
   "execution_count": 21,
   "metadata": {
    "collapsed": true
   },
   "outputs": [],
   "source": [
    "num_topics = 45\n",
    "chunksize, iterations, passes = 200, 500, 20\n",
    "labels = ['2015-44', '2015-45', '2015-46', '2015-47', '2015-48', '2015-49', '2015-50', '2015-51', \n",
    "          '2015-52', '2015-53', '2016-01', '2016-02', '2016-03', '2016-04']\n",
    "files = [path.join('data', 'CurrentNews', 's_{}.csv').format(label) for label in labels]\n",
    "output_model = [path.join('models', 'lda', '{}.lda').format(label) for label in labels]\n",
    "output_dict = path.join('models', 'lda', 'Words.dict')\n",
    "output_bigram = path.join('models', 'lda', 'Bigram.phrase')"
   ]
  },
  {
   "cell_type": "code",
   "execution_count": 22,
   "metadata": {
    "collapsed": true
   },
   "outputs": [],
   "source": [
    "dfs = [pd.read_csv(file, sep='|', encoding='utf-8') for file in files]"
   ]
  },
  {
   "cell_type": "code",
   "execution_count": 23,
   "metadata": {
    "collapsed": true
   },
   "outputs": [],
   "source": [
    "corpora = [ListCorpus(list(df.loc[:, 'text'])) for df in dfs]"
   ]
  },
  {
   "cell_type": "code",
   "execution_count": 24,
   "metadata": {
    "collapsed": true
   },
   "outputs": [],
   "source": [
    "def create_phrase():\n",
    "    sentences = [sentence for corpus in corpora for sentence in corpus.sentences_token(stopwords=stopwords)]\n",
    "    bigram = Phrases(sentences)\n",
    "    return bigram\n",
    "\n",
    "\n",
    "def create_dict():\n",
    "    docs = [bigram[doc] for corpus in corpora for doc in corpus.doc_token(stopwords)]\n",
    "    dictionary = Dictionary(docs)\n",
    "    dictionary.filter_extremes()\n",
    "    dictionary.compactify()\n",
    "    return dictionary\n",
    "\n",
    "\n",
    "def train_lda(corpus):\n",
    "    bow = [dictionary.doc2bow(bigram[doc]) for doc in corpus]\n",
    "    lda = LdaMulticore(bow, id2word=dictionary, chunksize=chunksize, #batch=True,\n",
    "                       num_topics=num_topics, workers=2, passes=passes, iterations=iterations)\n",
    "    return bow, lda"
   ]
  },
  {
   "cell_type": "code",
   "execution_count": 25,
   "metadata": {
    "collapsed": false
   },
   "outputs": [],
   "source": [
    "bigram = create_phrase()\n",
    "dictionary = create_dict()\n",
    "\n",
    "models = []\n",
    "docs = []\n",
    "\n",
    "for i, corpus in enumerate(corpora):\n",
    "    mmCorpus, model = train_lda(corpus.doc_token(stopwords=stopwords))\n",
    "    models.append(model)\n",
    "    docs.append(mmCorpus)\n",
    "    model.save(output_model[i])\n",
    "\n",
    "bigram.save(output_bigram)\n",
    "dictionary.save(output_dict)"
   ]
  },
  {
   "cell_type": "markdown",
   "metadata": {},
   "source": [
    "## Topic Chains"
   ]
  },
  {
   "cell_type": "code",
   "execution_count": null,
   "metadata": {
    "collapsed": true
   },
   "outputs": [],
   "source": [
    "import numpy as np\n",
    "from gensim.matutils import sparse2full, cossim"
   ]
  },
  {
   "cell_type": "code",
   "execution_count": null,
   "metadata": {
    "collapsed": false
   },
   "outputs": [],
   "source": [
    "def hellinger(vec1, vec2):\n",
    "    dense1 = sparse2full(vec1, len(dictionary))\n",
    "    dense2 = sparse2full(vec2, len(dictionary))\n",
    "    return np.sqrt(0.5 * ((np.sqrt(dense1) - np.sqrt(dense2))**2).sum())\n",
    "\n",
    "def permutations(coll, window):\n",
    "    perms =[]\n",
    "    for frame in range(len(coll) - (window - 1)):\n",
    "        perm = [coll[frame + i] for i in range(window)]\n",
    "        perms.append(tuple(perm))\n",
    "    return perms\n",
    "\n",
    "def topics(models):\n",
    "    pass\n",
    "\n",
    "def topic_cluster(model, label, threshold):\n",
    "    data = []\n",
    "    for i1 in range(model.num_topics):\n",
    "        for i2 in range(model.num_topics):\n",
    "            if i1 != i2:\n",
    "                similarity = cossim(model.show_topic(i1), model-show_topic(i2))\n",
    "                if similarity >= threshold:\n",
    "                    entry = {\n",
    "                        'week': label,\n",
    "                        's-topic': i1,\n",
    "                        'e-topic': i2,\n",
    "                        'sim': similarity\n",
    "                    }\n",
    "    return data\n",
    "\n",
    "def topic_chains(models, threshold):\n",
    "    data = []\n",
    "    for i, (first, second) in enumerate(permutations(models, 2)):\n",
    "        for i1 in range(first.num_topics):\n",
    "            for i2 in range(second.num_topics):\n",
    "                similarity = cossim(first.show_topic(i1), second.show_topic(i2))\n",
    "                if similarity >= threshold:\n",
    "                    entry = {\n",
    "                        's-week': labels[i],\n",
    "                        's-topic': i1,\n",
    "                        'e-week': labels[i + 1],\n",
    "                        'e-topic': i2,\n",
    "                        'sim': similarity\n",
    "                    }\n",
    "                    data.append(entry)\n",
    "    return data\n",
    "\n",
    "get_chain_for_topic(week, i):\n",
    "    position = labels.index(week)"
   ]
  },
  {
   "cell_type": "code",
   "execution_count": null,
   "metadata": {
    "collapsed": false
   },
   "outputs": [],
   "source": [
    "chains = topic_chains(models, 0.6)\n",
    "chains = pd.DataFrame(chains)"
   ]
  },
  {
   "cell_type": "code",
   "execution_count": null,
   "metadata": {
    "collapsed": false
   },
   "outputs": [],
   "source": [
    "chains[chains['s-week'] == '2015-44'][chains['s-topic'] == 2]"
   ]
  },
  {
   "cell_type": "markdown",
   "metadata": {},
   "source": [
    "## Finalize Pipeline"
   ]
  },
  {
   "cell_type": "code",
   "execution_count": 13,
   "metadata": {
    "collapsed": true
   },
   "outputs": [],
   "source": [
    "from pprint import pprint\n",
    "import json"
   ]
  },
  {
   "cell_type": "markdown",
   "metadata": {},
   "source": [
    "## Topic Data"
   ]
  },
  {
   "cell_type": "code",
   "execution_count": 26,
   "metadata": {
    "collapsed": true
   },
   "outputs": [],
   "source": [
    "def topic_words(model):\n",
    "    data = model.show_topics(-1, formatted=False)\n",
    "    topics = []\n",
    "    for i, c in data:\n",
    "        words = []\n",
    "        probs = []\n",
    "        for word, prob in c:\n",
    "            words.append(word)\n",
    "            probs.append(prob)\n",
    "        topics.append([words, probs])\n",
    "    return topics\n",
    "\n",
    "def topic_allocation(corpus):\n",
    "    acc = []\n",
    "    for vec in corpus:\n",
    "        t_id = -1\n",
    "        t_prob = -1\n",
    "        for topic, prob in vec:\n",
    "            if prob > t_prob:\n",
    "                t_id = topic\n",
    "        acc.append(t_id)\n",
    "    return acc\n",
    "\n",
    "def get_topics(df, model, doc):\n",
    "    transform = model[doc]\n",
    "    topics = topic_words(model)\n",
    "    df['topic'] = topic_allocation(transform)\n",
    "    d = []\n",
    "    for i, (topic, prob) in enumerate(topics):\n",
    "        dc = dict()\n",
    "        dc['id'] = i\n",
    "        dc['words'] = topic\n",
    "        dc['probs'] = prob\n",
    "        dc['articles'] = df[df['topic'] == i].count()['topic'].item() # Just pick a column... here topic\n",
    "        if dc['articles'] > 0:\n",
    "            d.append(dc)\n",
    "    return d\n",
    "\n",
    "topicData = dict()\n",
    "for i, (model, doc) in enumerate(zip(models, docs)):\n",
    "    df = dfs[i]\n",
    "    topicData[labels[i]] = get_topics(df, model, doc)\n",
    "with open(path.join('data', 'Web', 'Topics.json'), 'w', encoding='utf-8') as f:\n",
    "    json.dump(topicData, f, indent=4)"
   ]
  },
  {
   "cell_type": "markdown",
   "metadata": {},
   "source": [
    "## Site Political Opinions + Over time"
   ]
  },
  {
   "cell_type": "code",
   "execution_count": null,
   "metadata": {
    "collapsed": false
   },
   "outputs": [],
   "source": [
    "def order_data(d):\n",
    "    return [\n",
    "        d['LINKE'],\n",
    "        d['SPD'],\n",
    "        d['GRÜNE'],\n",
    "        d['FDP'],\n",
    "        d['CDU'],\n",
    "        d['NPD']\n",
    "    ]\n",
    "\n",
    "def to_array(df):\n",
    "    for key in df.keys():\n",
    "        df[key] = order_data(df[key])\n",
    "    return df\n",
    "\n",
    "complete = pd.concat(dfs)\n",
    "complete = complete.loc[:, ['site', 'LINKE', 'SPD', 'GRÜNE', 'FDP', 'CDU', 'NPD']]\n",
    "grouped = complete.groupby('site').mean()\n",
    "json_data = to_array(grouped.to_dict('index'))\n",
    "json_data['All'] = order_data(grouped.mean())\n",
    "\n",
    "with open(path.join('data', 'Web', 'SiteSentiment.json'), 'w', encoding='utf-8') as f:\n",
    "        json.dump(json_data, f, indent=4)\n",
    "        \n",
    "time_data = dict()\n",
    "for i, (label, df) in enumerate(zip(labels, dfs)):\n",
    "    sentiment = df.loc[:, ['site', 'LINKE', 'SPD', 'GRÜNE', 'FDP', 'CDU', 'NPD']]\n",
    "    sentiment = sentiment.groupby('site').mean()\n",
    "    json_data = to_array(sentiment.to_dict('index'))\n",
    "    json_data['All'] = order_data(sentiment.mean())\n",
    "    time_data[label] = json_data\n",
    "    \n",
    "with open(path.join('data', 'Web', 'SiteSentimentTime.json'), 'w', encoding='utf-8') as f:\n",
    "        json.dump(time_data, f, indent=4)"
   ]
  }
 ],
 "metadata": {
  "kernelspec": {
   "display_name": "Python 3",
   "language": "python",
   "name": "python3"
  },
  "language_info": {
   "codemirror_mode": {
    "name": "ipython",
    "version": 3
   },
   "file_extension": ".py",
   "mimetype": "text/x-python",
   "name": "python",
   "nbconvert_exporter": "python",
   "pygments_lexer": "ipython3",
   "version": "3.5.1"
  }
 },
 "nbformat": 4,
 "nbformat_minor": 0
}
