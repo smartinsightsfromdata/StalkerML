{
 "cells": [
  {
   "cell_type": "code",
   "execution_count": 1,
   "metadata": {
    "collapsed": false
   },
   "outputs": [],
   "source": [
    "from os import path\n",
    "import pandas as pd\n",
    "from pprint import pprint\n",
    "from corputil import ListCorpus\n",
    "from corputil.utils import load_stopwords\n",
    "import gensim.matutils as matutils\n",
    "from gensim.models import LdaMulticore\n",
    "from gensim.models.phrases import Phrases\n",
    "from gensim.corpora import Dictionary, MmCorpus\n",
    "\n",
    "stopwords = load_stopwords(path.join('data', 'german.txt'))"
   ]
  },
  {
   "cell_type": "code",
   "execution_count": 2,
   "metadata": {
    "collapsed": true
   },
   "outputs": [],
   "source": [
    "num_topics = 30\n",
    "chunksize, iterations, passes = 300, 500, 20\n",
    "labels = ['2015KW44', '2015KW45']#, '2015KW46', '2015KW47', '2015KW48', '2015KW49', '2015KW50', '2015KW51']\n",
    "files = [path.join('data', 'CurrentNews', '{}.csv').format(label) for label in labels]\n",
    "output_model = [path.join('models', 'lda', '{}.lda').format(label) for label in labels]\n",
    "output_mm = [path.join('models', 'lda', '{}.mm').format(label) for label in labels]\n",
    "output_dict = path.join('models', 'lda', 'KW.dict')"
   ]
  },
  {
   "cell_type": "code",
   "execution_count": 3,
   "metadata": {
    "collapsed": false
   },
   "outputs": [],
   "source": [
    "dfs = [pd.read_csv(file, sep='|', encoding='utf-8') for file in files]"
   ]
  },
  {
   "cell_type": "code",
   "execution_count": 4,
   "metadata": {
    "collapsed": false
   },
   "outputs": [],
   "source": [
    "corpora = [ListCorpus(list(df.loc[:, 'text'])) for df in dfs]"
   ]
  },
  {
   "cell_type": "code",
   "execution_count": 5,
   "metadata": {
    "collapsed": false
   },
   "outputs": [],
   "source": [
    "def create_dict():\n",
    "    docs = [doc for corpus in corpora for doc in corpus.doc_token(stopwords)]\n",
    "    dictionary = Dictionary(docs)\n",
    "    dictionary.filter_extremes()\n",
    "    dictionary.compactify()\n",
    "    return dictionary\n",
    "\n",
    "def train_lda(corpus):\n",
    "    mmCorpus = [dictionary.doc2bow(doc) for doc in corpus]\n",
    "    lda = LdaMulticore(mmCorpus, id2word=dictionary, chunksize=chunksize, batch=True,\n",
    "                       num_topics=num_topics, workers=2, passes=passes, iterations=iterations)\n",
    "    return (mmCorpus, lda)"
   ]
  },
  {
   "cell_type": "code",
   "execution_count": 6,
   "metadata": {
    "collapsed": false
   },
   "outputs": [],
   "source": [
    "dictionary = create_dict()\n",
    "\n",
    "models = []\n",
    "docs = []\n",
    "\n",
    "for i, corpus in enumerate(corpora):\n",
    "    mmCorpus, model = train_lda(corpus.doc_token(stopwords=stopwords))\n",
    "    models.append(model)\n",
    "    docs.append(mmCorpus)\n",
    "#     model.save(output_model[i])\n",
    "#     MmCorpus.serialize(output_mm[i], mmCorpus)\n",
    "    \n",
    "# dictionary.save(output_dict)"
   ]
  },
  {
   "cell_type": "code",
   "execution_count": 8,
   "metadata": {
    "collapsed": true
   },
   "outputs": [],
   "source": [
    "model1 = models[0]\n",
    "model2 = models[1]\n",
    "\n",
    "docs1 = docs[0]\n",
    "docs2 = docs[1]"
   ]
  },
  {
   "cell_type": "code",
   "execution_count": null,
   "metadata": {
    "collapsed": false
   },
   "outputs": [],
   "source": [
    "model1.show_topics(20)\n",
    "# model2.show_topics(20)"
   ]
  },
  {
   "cell_type": "code",
   "execution_count": null,
   "metadata": {
    "collapsed": false,
    "scrolled": false
   },
   "outputs": [],
   "source": [
    "t = 544\n",
    "matutils.cossim(model1[docs1[t]], model2[docs1[t]])"
   ]
  },
  {
   "cell_type": "code",
   "execution_count": null,
   "metadata": {
    "collapsed": false
   },
   "outputs": [],
   "source": [
    "model1.get_document_topics(docs1[t])"
   ]
  },
  {
   "cell_type": "code",
   "execution_count": 13,
   "metadata": {
    "collapsed": false
   },
   "outputs": [
    {
     "data": {
      "text/plain": [
       "[('syrien', 0.022034317225854538),\n",
       " ('us', 0.018981312022546534),\n",
       " ('usa', 0.011871303370045149),\n",
       " ('iran', 0.01047379234250705),\n",
       " ('is', 0.010131056074599073),\n",
       " ('assad', 0.0097936443123707879),\n",
       " ('russland', 0.0091287457245521446),\n",
       " ('wien', 0.0089044267173654899),\n",
       " ('außenminister', 0.0082893655099760787),\n",
       " ('irak', 0.0066244534386278101)]"
      ]
     },
     "execution_count": 13,
     "metadata": {},
     "output_type": "execute_result"
    }
   ],
   "source": [
    "model1.show_topic(23)"
   ]
  },
  {
   "cell_type": "code",
   "execution_count": null,
   "metadata": {
    "collapsed": false
   },
   "outputs": [],
   "source": [
    "model2.get_document_topics(docs1[t])"
   ]
  },
  {
   "cell_type": "code",
   "execution_count": 12,
   "metadata": {
    "collapsed": false
   },
   "outputs": [
    {
     "data": {
      "text/plain": [
       "[('is', 0.02691812266633041),\n",
       " ('syrien', 0.026510604041244543),\n",
       " ('russland', 0.011456098885933576),\n",
       " ('irak', 0.011024665609019109),\n",
       " ('russische', 0.0092358127275147112),\n",
       " ('syrischen', 0.0090960182346914772),\n",
       " ('luftangriffe', 0.0087610671884399503),\n",
       " ('al', 0.0085283674809775844),\n",
       " ('assad', 0.0079705363394327912),\n",
       " ('staat', 0.0077530258824603186)]"
      ]
     },
     "execution_count": 12,
     "metadata": {},
     "output_type": "execute_result"
    }
   ],
   "source": [
    "model2.show_topic(23)"
   ]
  },
  {
   "cell_type": "code",
   "execution_count": 14,
   "metadata": {
    "collapsed": false
   },
   "outputs": [
    {
     "data": {
      "text/plain": [
       "0.60957306038720294"
      ]
     },
     "execution_count": 14,
     "metadata": {},
     "output_type": "execute_result"
    }
   ],
   "source": [
    "matutils.cossim(model1.show_topic(23), model2.show_topic(23))"
   ]
  }
 ],
 "metadata": {
  "kernelspec": {
   "display_name": "Python 3",
   "language": "python",
   "name": "python3"
  },
  "language_info": {
   "codemirror_mode": {
    "name": "ipython",
    "version": 3
   },
   "file_extension": ".py",
   "mimetype": "text/x-python",
   "name": "python",
   "nbconvert_exporter": "python",
   "pygments_lexer": "ipython3",
   "version": "3.5.1"
  }
 },
 "nbformat": 4,
 "nbformat_minor": 0
}
