{
 "cells": [
  {
   "cell_type": "code",
   "execution_count": null,
   "metadata": {
    "collapsed": true
   },
   "outputs": [],
   "source": [
    "def clean_topics(model):\n",
    "    clean = []\n",
    "    for i, topics in model:\n",
    "        topic_list = []\n",
    "        for topic in topics.split('+'):\n",
    "            topic_list.append(tuple(topic.strip().split('*')))\n",
    "        clean.append(topic_list)\n",
    "    return clean\n",
    "\n",
    "def top_topics(topics):\n",
    "    flat = [l for inner in topics for l in inner]\n",
    "    trends = defaultdict(float)\n",
    "    for p, trend in flat:\n",
    "        trends[trend] += float(p)\n",
    "    top_topics = sorted(trends.items(), key=lambda item: -item[1])\n",
    "    return top_topics"
   ]
  }
 ],
 "metadata": {
  "kernelspec": {
   "display_name": "Python 3",
   "language": "python",
   "name": "python3"
  },
  "language_info": {
   "codemirror_mode": {
    "name": "ipython",
    "version": 3
   },
   "file_extension": ".py",
   "mimetype": "text/x-python",
   "name": "python",
   "nbconvert_exporter": "python",
   "pygments_lexer": "ipython3",
   "version": "3.4.3"
  }
 },
 "nbformat": 4,
 "nbformat_minor": 0
}
