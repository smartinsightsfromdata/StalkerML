{
 "cells": [
  {
   "cell_type": "markdown",
   "metadata": {},
   "source": [
    "# Calculate Political Opinion Models"
   ]
  },
  {
   "cell_type": "code",
   "execution_count": null,
   "metadata": {
    "collapsed": false
   },
   "outputs": [],
   "source": [
    "import logging\n",
    "logging.basicConfig(format='%(asctime)s : %(levelname)s : %(message)s')\n",
    "logging.root.level = logging.INFO\n",
    "\n",
    "from os import path\n",
    "from corputil import FileCorpus\n",
    "from corputil.utils import load_stopwords\n",
    "from gensim.models.word2vec import LineSentence, Word2Vec\n",
    "\n",
    "stopwords = load_stopwords(path.join('data', 'german.txt'))"
   ]
  },
  {
   "cell_type": "markdown",
   "metadata": {},
   "source": [
    "## Training the Base Model\n",
    "\n",
    "Calculate the base model (from german wiki), that is later used as a base for training the classification models."
   ]
  },
  {
   "cell_type": "code",
   "execution_count": null,
   "metadata": {
    "collapsed": false,
    "scrolled": true
   },
   "outputs": [],
   "source": [
    "sentences = LineSentence(path.join('data', 'Archive', 'Corpus_Wiki.txt'))\n",
    "base = Word2Vec(sentences, workers=4, size=300, window=10, min_count=5)"
   ]
  },
  {
   "cell_type": "markdown",
   "metadata": {},
   "source": [
    "Save model to disk. Don't finalize the model because we need to train it with new data later!"
   ]
  },
  {
   "cell_type": "code",
   "execution_count": null,
   "metadata": {
    "collapsed": true
   },
   "outputs": [],
   "source": [
    "base.save(path.join('models', 'word2vec', 'base.w2v'))\n",
    "base = None"
   ]
  },
  {
   "cell_type": "markdown",
   "metadata": {},
   "source": [
    "## Training the Classifier"
   ]
  },
  {
   "cell_type": "markdown",
   "metadata": {},
   "source": [
    "Train model for Die Linke.\n",
    "Model is finalized to save RAM."
   ]
  },
  {
   "cell_type": "code",
   "execution_count": null,
   "metadata": {
    "collapsed": false
   },
   "outputs": [],
   "source": [
    "file1 = path.join('data', 'Politics', 'Corpus_Linke.txt')\n",
    "file2 = path.join('data', 'Politics', 'Corpus_Linke_PR.txt')\n",
    "file3 = path.join('data', 'Politics', 'Corpus_Linke_Fraktion.txt')\n",
    "corpus = list(FileCorpus(file1, file2, file3).sentences_token(stopwords=stopwords))\n",
    "\n",
    "linke = Word2Vec.load(path.join('models', 'word2vec', 'base.w2v'))\n",
    "linke.train(corpus, total_examples=len(corpus))\n",
    "# linke.init_sims(replace=True) Doesn't work for now!\n",
    "linke.save(path.join('models', 'word2vec', 'Linke.w2v'))\n",
    "linke = None"
   ]
  },
  {
   "cell_type": "markdown",
   "metadata": {},
   "source": [
    "Train model for SPD.\n",
    "Model is finalized to save RAM."
   ]
  },
  {
   "cell_type": "code",
   "execution_count": null,
   "metadata": {
    "collapsed": false
   },
   "outputs": [],
   "source": [
    "file = path.join('data', 'Politics', 'Corpus_SPD_Fraktion.txt')\n",
    "corpus = list(FileCorpus(file).sentences_token(stopwords=stopwords))\n",
    "\n",
    "spd = Word2Vec.load(path.join('models', 'word2vec', 'base.w2v'))\n",
    "spd.train(corpus, total_examples=len(corpus))\n",
    "# spd.init_sims(replace=True) Doesn't work for now!\n",
    "spd.save(path.join('models', 'word2vec', 'SPD.w2v'))\n",
    "spd = None"
   ]
  },
  {
   "cell_type": "markdown",
   "metadata": {},
   "source": [
    "Train model for Die Grünen.\n",
    "Model is finalized to save RAM."
   ]
  },
  {
   "cell_type": "code",
   "execution_count": null,
   "metadata": {
    "collapsed": false
   },
   "outputs": [],
   "source": [
    "file = path.join('data', 'Politics', 'Corpus_Grüne_Fraktion.txt')\n",
    "corpus = list(FileCorpus(file).sentences_token(stopwords=stopwords))\n",
    "\n",
    "gruene = Word2Vec.load(path.join('models', 'word2vec', 'base.w2v'))\n",
    "gruene.train(corpus, total_examples=len(corpus))\n",
    "# gruene.init_sims(replace=True) Doesn't work for now!\n",
    "gruene.save(path.join('models', 'word2vec', 'Grüne.w2v'))\n",
    "gruene = None"
   ]
  },
  {
   "cell_type": "markdown",
   "metadata": {},
   "source": [
    "Train model for FDP. Model is finalized to save RAM."
   ]
  },
  {
   "cell_type": "code",
   "execution_count": null,
   "metadata": {
    "collapsed": false
   },
   "outputs": [],
   "source": [
    "file1 = path.join('data', 'Politics', 'Corpus_FDP.txt')\n",
    "file2 = path.join('data', 'Politics', 'Corpus_FDP_Fraktion.txt')\n",
    "corpus = list(FileCorpus(file1, file2).sentences_token(stopwords=stopwords))\n",
    "\n",
    "fdp = Word2Vec.load(path.join('models', 'word2vec', 'base.w2v'))\n",
    "fdp.train(corpus, total_examples=len(corpus))\n",
    "# fdp.init_sims(replace=True) Doesn't work for now!\n",
    "fdp.save(path.join('models', 'word2vec', 'FDP.w2v'))\n",
    "fdp = None"
   ]
  },
  {
   "cell_type": "markdown",
   "metadata": {},
   "source": [
    "Train model for CDU. Model is finalized to save RAM."
   ]
  },
  {
   "cell_type": "code",
   "execution_count": null,
   "metadata": {
    "collapsed": false
   },
   "outputs": [],
   "source": [
    "file = path.join('data', 'Politics', 'Corpus_CDU_Fraktion.txt')\n",
    "corpus = list(FileCorpus(file).sentences_token(stopwords=stopwords))\n",
    "\n",
    "cdu = Word2Vec.load(path.join('models', 'word2vec', 'base.w2v'))\n",
    "cdu.train(corpus, total_examples=len(corpus))\n",
    "# cdu.init_sims(replace=True) Doesn't work for now!\n",
    "cdu.save(path.join('models', 'word2vec', 'CDU.w2v'))\n",
    "cdu = None"
   ]
  },
  {
   "cell_type": "markdown",
   "metadata": {},
   "source": [
    "Train model for NPD. Model is finalized to save RAM."
   ]
  },
  {
   "cell_type": "code",
   "execution_count": null,
   "metadata": {
    "collapsed": false
   },
   "outputs": [],
   "source": [
    "file1 = path.join('data', 'Politics', 'Corpus_NPD_MV.txt')\n",
    "file2 = path.join('data', 'Politics', 'Corpus_NPD_Sachsen.txt')\n",
    "corpus = list(FileCorpus(file1, file2).sentences_token(stopwords=stopwords))\n",
    "\n",
    "npd = Word2Vec.load(path.join('models', 'word2vec', 'base.w2v'))\n",
    "npd.train(corpus, total_examples=len(corpus))\n",
    "# npd.init_sims(replace=True) Doesn't work for now!\n",
    "npd.save(path.join('models', 'word2vec', 'NPD.w2v'))\n",
    "npd = None"
   ]
  },
  {
   "cell_type": "markdown",
   "metadata": {},
   "source": [
    "## Classification"
   ]
  },
  {
   "cell_type": "markdown",
   "metadata": {},
   "source": [
    "Load models and documents into memory."
   ]
  },
  {
   "cell_type": "code",
   "execution_count": null,
   "metadata": {
    "collapsed": false
   },
   "outputs": [],
   "source": [
    "models = [path.join('models', 'word2vec', 'SPD.w2v'),\n",
    "          path.join('models', 'word2vec', 'Linke.w2v'),\n",
    "          path.join('models', 'word2vec', 'Grüne.w2v'),\n",
    "          path.join('models', 'word2vec', 'FDP.w2v'),\n",
    "          path.join('models', 'word2vec', 'CDU.w2v'),\n",
    "          path.join('models', 'word2vec', 'NPD.w2v')]"
   ]
  },
  {
   "cell_type": "code",
   "execution_count": null,
   "metadata": {
    "collapsed": false
   },
   "outputs": [],
   "source": [
    "import pandas as pd\n",
    "import numpy as np\n",
    "\n",
    "\n",
    "def calc_score(doc, mod):\n",
    "    model = Word2Vec.load(mod)\n",
    "    score = model.score(doc, len(doc))\n",
    "    return score\n",
    "\n",
    "def calc_probability(docs, mods):\n",
    "    sentlist = [s for d in docs for s in d]\n",
    "    llhd = np.array( [ calc_score(sentlist, m) for m in mods ] )\n",
    "    lhd = np.exp(llhd - llhd.max(axis=0))\n",
    "    prob = pd.DataFrame( (lhd/lhd.sum(axis=0)).transpose() )\n",
    "    prob[\"doc\"] = [i for i,d in enumerate(docs) for s in d]\n",
    "    prob = prob.groupby(\"doc\").mean()\n",
    "    prob = prob.sum()\n",
    "    return prob/prob.sum()\n",
    "\n",
    "file = path.join('data', 'CurrentNews', 'Corpus_2015KW44.txt')\n",
    "corpus = list(FileCorpus(file).doc_sentences_token())\n",
    "print(calc_probability(corpus, models))"
   ]
  }
 ],
 "metadata": {
  "kernelspec": {
   "display_name": "Python 3",
   "language": "python",
   "name": "python3"
  },
  "language_info": {
   "codemirror_mode": {
    "name": "ipython",
    "version": 3
   },
   "file_extension": ".py",
   "mimetype": "text/x-python",
   "name": "python",
   "nbconvert_exporter": "python",
   "pygments_lexer": "ipython3",
   "version": "3.5.1"
  }
 },
 "nbformat": 4,
 "nbformat_minor": 0
}
