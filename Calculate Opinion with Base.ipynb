{
 "cells": [
  {
   "cell_type": "markdown",
   "metadata": {},
   "source": [
    "# Calculate Political Opinion Models"
   ]
  },
  {
   "cell_type": "code",
   "execution_count": null,
   "metadata": {
    "collapsed": true
   },
   "outputs": [],
   "source": [
    "import logging\n",
    "from os import path\n",
    "from corputil import FileCorpus\n",
    "from gensim.models.word2vec import LineSentence, Word2Vec"
   ]
  },
  {
   "cell_type": "markdown",
   "metadata": {},
   "source": [
    "## Training the Base Model\n",
    "\n",
    "Calculate the base model (from german wiki), that is later used as a base for training the classification models."
   ]
  },
  {
   "cell_type": "code",
   "execution_count": null,
   "metadata": {
    "collapsed": false
   },
   "outputs": [],
   "source": [
    "# sentences = LineSentence(path.join('data', 'Corpus_Wiki.txt'))\n",
    "# base = Word2Vec(sentences, workers=4)"
   ]
  },
  {
   "cell_type": "markdown",
   "metadata": {},
   "source": [
    "Save model to disk. Don't finalize the model because we need to train it with new data later!"
   ]
  },
  {
   "cell_type": "code",
   "execution_count": null,
   "metadata": {
    "collapsed": true
   },
   "outputs": [],
   "source": [
    "# base.save(path.join('models', 'base.w2v'))\n",
    "# base = None"
   ]
  },
  {
   "cell_type": "markdown",
   "metadata": {},
   "source": [
    "## Training the Classifier"
   ]
  },
  {
   "cell_type": "markdown",
   "metadata": {},
   "source": [
    "Train model for Die Linke.\n",
    "Model is finalized to save RAM."
   ]
  },
  {
   "cell_type": "code",
   "execution_count": null,
   "metadata": {
    "collapsed": false
   },
   "outputs": [],
   "source": [
    "file1 = path.join('data', 'Corpus_Linke.txt')\n",
    "file2 = path.join('data', 'Corpus_Linke_PR.txt')\n",
    "file3 = path.join('data', 'Corpus_Linke_Fraktion.txt')\n",
    "corpus = list(FileCorpus(file1, file2, file3).sentences_token())\n",
    "\n",
    "linke = Word2Vec.load(path.join('models', 'word2vec', 'base.w2v'))\n",
    "linke.train(corpus, total_examples=len(corpus))\n",
    "# linke.init_sims(replace=True) Doesn't work for now!\n",
    "linke.save(path.join('models', 'word2vec', 'Linke.w2v'))\n",
    "linke = None"
   ]
  },
  {
   "cell_type": "markdown",
   "metadata": {},
   "source": [
    "Train model for SPD.\n",
    "Model is finalized to save RAM."
   ]
  },
  {
   "cell_type": "code",
   "execution_count": null,
   "metadata": {
    "collapsed": false
   },
   "outputs": [],
   "source": [
    "file = path.join('data', 'Corpus_SPD_Fraktion.txt')\n",
    "corpus = list(FileCorpus(file).sentences_token())\n",
    "\n",
    "spd = Word2Vec.load(path.join('models', 'word2vec', 'base.w2v'))\n",
    "spd.train(corpus, total_examples=len(corpus))\n",
    "# spd.init_sims(replace=True) Doesn't work for now!\n",
    "spd.save(path.join('models', 'word2vec', 'SPD.w2v'))\n",
    "spd = None"
   ]
  },
  {
   "cell_type": "markdown",
   "metadata": {},
   "source": [
    "Train model for Die Grünen.\n",
    "Model is finalized to save RAM."
   ]
  },
  {
   "cell_type": "code",
   "execution_count": null,
   "metadata": {
    "collapsed": false
   },
   "outputs": [],
   "source": [
    "file = path.join('data', 'Corpus_Grüne_Fraktion.txt')\n",
    "corpus = list(FileCorpus(file).sentences_token())\n",
    "\n",
    "gruene = Word2Vec.load(path.join('models', 'word2vec', 'base.w2v'))\n",
    "gruene.train(corpus, total_examples=len(corpus))\n",
    "# gruene.init_sims(replace=True) Doesn't work for now!\n",
    "gruene.save(path.join('models', 'word2vec', 'Grüne.w2v'))\n",
    "gruene = None"
   ]
  },
  {
   "cell_type": "markdown",
   "metadata": {},
   "source": [
    "Train model for FDP. Model is finalized to save RAM."
   ]
  },
  {
   "cell_type": "code",
   "execution_count": null,
   "metadata": {
    "collapsed": true
   },
   "outputs": [],
   "source": [
    "file1 = path.join('data', 'Corpus_FDP.txt')\n",
    "file2 = path.join('data', 'Corpus_FDP_Fraktion.txt')\n",
    "corpus = list(FileCorpus(file1, file2).sentences_token())\n",
    "\n",
    "fdp = Word2Vec.load(path.join('models', 'word2vec', 'base.w2v'))\n",
    "fdp.train(corpus, total_examples=len(corpus))\n",
    "# fdp.init_sims(replace=True) Doesn't work for now!\n",
    "fdp.save(path.join('models', 'word2vec', 'FDP.w2v'))\n",
    "fdp = None"
   ]
  },
  {
   "cell_type": "markdown",
   "metadata": {},
   "source": [
    "Train model for CDU. Model is finalized to save RAM."
   ]
  },
  {
   "cell_type": "code",
   "execution_count": null,
   "metadata": {
    "collapsed": true
   },
   "outputs": [],
   "source": [
    "file = path.join('data', 'Corpus_CDU_Fraktion.txt')\n",
    "corpus = list(FileCorpus(file).sentences_token())\n",
    "\n",
    "cdu = Word2Vec.load(path.join('models', 'word2vec', 'base.w2v'))\n",
    "cdu.train(corpus, total_examples=len(corpus))\n",
    "# cdu.init_sims(replace=True) Doesn't work for now!\n",
    "cdu.save(path.join('models', 'word2vec', 'CDU.w2v'))\n",
    "cdu = None"
   ]
  },
  {
   "cell_type": "markdown",
   "metadata": {},
   "source": [
    "Train model for NPD. Model is finalized to save RAM."
   ]
  },
  {
   "cell_type": "code",
   "execution_count": null,
   "metadata": {
    "collapsed": true
   },
   "outputs": [],
   "source": [
    "file1 = path.join('data', 'Corpus_NPD_MV.txt')\n",
    "file2 = path.join('data', 'Corpus_NPD_Jung.txt')\n",
    "corpus = list(FileCorpus(file1, file2).sentences_token())\n",
    "\n",
    "npd = Word2Vec.load(path.join('models', 'word2vec', 'base.w2v'))\n",
    "npd.train(corpus, total_examples=len(corpus))\n",
    "# npd.init_sims(replace=True) Doesn't work for now!\n",
    "npd.save(path.join('models', 'word2vec', 'NPD.w2v'))\n",
    "npd = None"
   ]
  },
  {
   "cell_type": "markdown",
   "metadata": {},
   "source": [
    "Train model for AFD. Model is finalized to save RAM."
   ]
  },
  {
   "cell_type": "code",
   "execution_count": null,
   "metadata": {
    "collapsed": true
   },
   "outputs": [],
   "source": [
    "file = path.join('data', 'Corpus_AFD_PR.txt')\n",
    "corpus = list(FileCorpus(file).sentences_token())\n",
    "\n",
    "afd = Word2Vec.load(path.join('models', 'word2vec', 'base.w2v'))\n",
    "afd.train(corpus, total_examples=len(corpus))\n",
    "# afd.init_sims(replace=True) Doesn't work for now!\n",
    "afd.save(path.join('models', 'word2vec', 'AFD.w2v'))\n",
    "afd = None"
   ]
  },
  {
   "cell_type": "markdown",
   "metadata": {},
   "source": [
    "## Classification"
   ]
  },
  {
   "cell_type": "markdown",
   "metadata": {},
   "source": [
    "Load models and documents into memory."
   ]
  },
  {
   "cell_type": "code",
   "execution_count": 1,
   "metadata": {
    "collapsed": false
   },
   "outputs": [],
   "source": [
    "from os import path\n",
    "from corputil import FileCorpus\n",
    "from gensim.models.word2vec import Word2Vec"
   ]
  },
  {
   "cell_type": "code",
   "execution_count": 2,
   "metadata": {
    "collapsed": false
   },
   "outputs": [],
   "source": [
    "SPD = Word2Vec.load(path.join('models', 'word2vec', 'SPD.w2v'))\n",
    "Linke = Word2Vec.load(path.join('models', 'word2vec', 'Linke.w2v'))\n",
    "Gruene = Word2Vec.load(path.join('models', 'word2vec', 'Grüne.w2v'))\n",
    "FDP = Word2Vec.load(path.join('models', 'word2vec', 'FDP.w2v'))\n",
    "CDU = Word2Vec.load(path.join('models', 'word2vec', 'CDU.w2v'))\n",
    "NPD = Word2Vec.load(path.join('models', 'word2vec', 'NPD.w2v'))\n",
    "AFD = Word2Vec.load(path.join('models', 'word2vec', 'AFD.w2v'))"
   ]
  },
  {
   "cell_type": "code",
   "execution_count": 14,
   "metadata": {
    "collapsed": false
   },
   "outputs": [],
   "source": [
    "import pandas as pd\n",
    "import numpy as np\n",
    "\n",
    "models = [SPD, Linke, Gruene, FDP, CDU, NPD, AFD]\n",
    "\n",
    "def calc_probability(docs, mods):\n",
    "    sentlist = [s for d in docs for s in d]\n",
    "    llhd = np.array( [ m.score(sentlist, len(sentlist)) for m in mods ] )\n",
    "    lhd = np.exp(llhd - llhd.max(axis=0))\n",
    "    prob = pd.DataFrame( (lhd/lhd.sum(axis=0)).transpose() )\n",
    "    prob[\"doc\"] = [i for i,d in enumerate(docs) for s in d]\n",
    "    prob = prob.groupby(\"doc\").mean()\n",
    "    return prob\n",
    "\n",
    "test_corpus = list(FileCorpus(path.join('data', 'Corpus_KW49.txt')).doc_sentences_token())\n",
    "prob = calc_probability(test_corpus, models)"
   ]
  },
  {
   "cell_type": "code",
   "execution_count": 11,
   "metadata": {
    "collapsed": false
   },
   "outputs": [
    {
     "data": {
      "text/plain": [
       "0     356.114349\n",
       "1    1290.480347\n",
       "2     800.287415\n",
       "3     888.977539\n",
       "4     704.970398\n",
       "5    3032.422607\n",
       "6    1450.739624\n",
       "dtype: float32"
      ]
     },
     "execution_count": 11,
     "metadata": {},
     "output_type": "execute_result"
    }
   ],
   "source": [
    "np.sum(prob) # KW44"
   ]
  },
  {
   "cell_type": "code",
   "execution_count": 13,
   "metadata": {
    "collapsed": false
   },
   "outputs": [
    {
     "data": {
      "text/plain": [
       "0     289.920593\n",
       "1    1025.069214\n",
       "2     661.608582\n",
       "3     679.683899\n",
       "4     537.478271\n",
       "5    2311.323730\n",
       "6    1090.905640\n",
       "dtype: float32"
      ]
     },
     "execution_count": 13,
     "metadata": {},
     "output_type": "execute_result"
    }
   ],
   "source": [
    "np.sum(prob) # KW45"
   ]
  },
  {
   "cell_type": "code",
   "execution_count": 15,
   "metadata": {
    "collapsed": false
   },
   "outputs": [
    {
     "data": {
      "text/plain": [
       "0     301.310791\n",
       "1    1196.630249\n",
       "2     744.377502\n",
       "3     687.696655\n",
       "4     596.287354\n",
       "5    2502.203857\n",
       "6    1164.485962\n",
       "dtype: float32"
      ]
     },
     "execution_count": 15,
     "metadata": {},
     "output_type": "execute_result"
    }
   ],
   "source": [
    "np.sum(prob)"
   ]
  },
  {
   "cell_type": "code",
   "execution_count": null,
   "metadata": {
    "collapsed": true
   },
   "outputs": [],
   "source": [
    "import matplotlib.pyplot as plt\n",
    "\n",
    "labels = ['SPD', 'Linke', 'Grüne', 'FDP', 'CDU', 'NPD', 'AFD']"
   ]
  }
 ],
 "metadata": {
  "kernelspec": {
   "display_name": "Python 3",
   "language": "python",
   "name": "python3"
  },
  "language_info": {
   "codemirror_mode": {
    "name": "ipython",
    "version": 3
   },
   "file_extension": ".py",
   "mimetype": "text/x-python",
   "name": "python",
   "nbconvert_exporter": "python",
   "pygments_lexer": "ipython3",
   "version": "3.4.3"
  }
 },
 "nbformat": 4,
 "nbformat_minor": 0
}
