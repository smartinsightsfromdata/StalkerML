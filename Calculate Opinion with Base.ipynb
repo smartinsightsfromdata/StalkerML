{
 "cells": [
  {
   "cell_type": "markdown",
   "metadata": {},
   "source": [
    "# Calculate Political Opinion Models"
   ]
  },
  {
   "cell_type": "code",
   "execution_count": null,
   "metadata": {
    "collapsed": true
   },
   "outputs": [],
   "source": [
    "import logging\n",
    "from os import path\n",
    "from corputil import FileCorpus\n",
    "from gensim.models.word2vec import LineSentence, Word2Vec"
   ]
  },
  {
   "cell_type": "markdown",
   "metadata": {},
   "source": [
    "## Training the Base Model\n",
    "\n",
    "Calculate the base model (from german wiki), that is later used as a base for training the classification models."
   ]
  },
  {
   "cell_type": "code",
   "execution_count": null,
   "metadata": {
    "collapsed": false
   },
   "outputs": [],
   "source": [
    "# sentences = LineSentence(path.join('data', 'Corpus_Wiki.txt'))\n",
    "# base = Word2Vec(sentences, workers=4)"
   ]
  },
  {
   "cell_type": "markdown",
   "metadata": {},
   "source": [
    "Save model to disk. Don't finalize the model because we need to train it with new data later!"
   ]
  },
  {
   "cell_type": "code",
   "execution_count": null,
   "metadata": {
    "collapsed": true
   },
   "outputs": [],
   "source": [
    "# base.save(path.join('models', 'base.w2v'))\n",
    "# base = None"
   ]
  },
  {
   "cell_type": "markdown",
   "metadata": {},
   "source": [
    "## Training the Classifier"
   ]
  },
  {
   "cell_type": "markdown",
   "metadata": {},
   "source": [
    "Train model for Die Linke.\n",
    "Model is finalized to save RAM."
   ]
  },
  {
   "cell_type": "code",
   "execution_count": null,
   "metadata": {
    "collapsed": false
   },
   "outputs": [],
   "source": [
    "file1 = path.join('data', 'Corpus_Linke.txt')\n",
    "file2 = path.join('data', 'Corpus_Linke_PR.txt')\n",
    "file3 = path.join('data', 'Corpus_Linke_Fraktion.txt')\n",
    "corpus = list(FileCorpus(file1, file2, file3).sentences_token())\n",
    "\n",
    "linke = Word2Vec.load(path.join('models', 'word2vec', 'base.w2v'))\n",
    "linke.train(corpus, total_examples=len(corpus))\n",
    "# linke.init_sims(replace=True) Doesn't work for now!\n",
    "linke.save(path.join('models', 'word2vec', 'Linke.w2v'))\n",
    "linke = None"
   ]
  },
  {
   "cell_type": "markdown",
   "metadata": {},
   "source": [
    "Train model for SPD.\n",
    "Model is finalized to save RAM."
   ]
  },
  {
   "cell_type": "code",
   "execution_count": null,
   "metadata": {
    "collapsed": false
   },
   "outputs": [],
   "source": [
    "file = path.join('data', 'Corpus_SPD_Fraktion.txt')\n",
    "corpus = list(FileCorpus(file).sentences_token())\n",
    "\n",
    "spd = Word2Vec.load(path.join('models', 'word2vec', 'base.w2v'))\n",
    "spd.train(corpus, total_examples=len(corpus))\n",
    "# spd.init_sims(replace=True) Doesn't work for now!\n",
    "spd.save(path.join('models', 'word2vec', 'SPD.w2v'))\n",
    "spd = None"
   ]
  },
  {
   "cell_type": "markdown",
   "metadata": {},
   "source": [
    "Train model for Die Grünen.\n",
    "Model is finalized to save RAM."
   ]
  },
  {
   "cell_type": "code",
   "execution_count": null,
   "metadata": {
    "collapsed": false
   },
   "outputs": [],
   "source": [
    "file = path.join('data', 'Corpus_Grüne_Fraktion.txt')\n",
    "corpus = list(FileCorpus(file).sentences_token())\n",
    "\n",
    "gruene = Word2Vec.load(path.join('models', 'word2vec', 'base.w2v'))\n",
    "gruene.train(corpus, total_examples=len(corpus))\n",
    "# gruene.init_sims(replace=True) Doesn't work for now!\n",
    "gruene.save(path.join('models', 'word2vec', 'Grüne.w2v'))\n",
    "gruene = None"
   ]
  },
  {
   "cell_type": "markdown",
   "metadata": {},
   "source": [
    "Train model for FDP. Model is finalized to save RAM."
   ]
  },
  {
   "cell_type": "code",
   "execution_count": null,
   "metadata": {
    "collapsed": true
   },
   "outputs": [],
   "source": [
    "file1 = path.join('data', 'Corpus_FDP.txt')\n",
    "file2 = path.join('data', 'Corpus_FDP_Fraktion.txt')\n",
    "corpus = list(FileCorpus(file1, file2).sentences_token())\n",
    "\n",
    "fdp = Word2Vec.load(path.join('models', 'word2vec', 'base.w2v'))\n",
    "fdp.train(corpus, total_examples=len(corpus))\n",
    "# fdp.init_sims(replace=True) Doesn't work for now!\n",
    "fdp.save(path.join('models', 'word2vec', 'FDP.w2v'))\n",
    "fdp = None"
   ]
  },
  {
   "cell_type": "markdown",
   "metadata": {},
   "source": [
    "Train model for CDU. Model is finalized to save RAM."
   ]
  },
  {
   "cell_type": "code",
   "execution_count": null,
   "metadata": {
    "collapsed": true
   },
   "outputs": [],
   "source": [
    "file = path.join('data', 'Corpus_CDU_Fraktion.txt')\n",
    "corpus = list(FileCorpus(file).sentences_token())\n",
    "\n",
    "cdu = Word2Vec.load(path.join('models', 'word2vec', 'base.w2v'))\n",
    "cdu.train(corpus, total_examples=len(corpus))\n",
    "# cdu.init_sims(replace=True) Doesn't work for now!\n",
    "cdu.save(path.join('models', 'word2vec', 'CDU.w2v'))\n",
    "cdu = None"
   ]
  },
  {
   "cell_type": "markdown",
   "metadata": {},
   "source": [
    "Train model for NPD. Model is finalized to save RAM."
   ]
  },
  {
   "cell_type": "code",
   "execution_count": null,
   "metadata": {
    "collapsed": true
   },
   "outputs": [],
   "source": [
    "file1 = path.join('data', 'Corpus_NPD_MV.txt')\n",
    "file2 = path.join('data', 'Corpus_NPD_Jung.txt')\n",
    "corpus = list(FileCorpus(file1, file2).sentences_token())\n",
    "\n",
    "npd = Word2Vec.load(path.join('models', 'word2vec', 'base.w2v'))\n",
    "npd.train(corpus, total_examples=len(corpus))\n",
    "# npd.init_sims(replace=True) Doesn't work for now!\n",
    "npd.save(path.join('models', 'word2vec', 'NPD.w2v'))\n",
    "npd = None"
   ]
  },
  {
   "cell_type": "markdown",
   "metadata": {},
   "source": [
    "Train model for AFD. Model is finalized to save RAM."
   ]
  },
  {
   "cell_type": "code",
   "execution_count": null,
   "metadata": {
    "collapsed": true
   },
   "outputs": [],
   "source": [
    "file = path.join('data', 'Corpus_AFD_PR.txt')\n",
    "corpus = list(FileCorpus(file).sentences_token())\n",
    "\n",
    "afd = Word2Vec.load(path.join('models', 'word2vec', 'base.w2v'))\n",
    "afd.train(corpus, total_examples=len(corpus))\n",
    "# afd.init_sims(replace=True) Doesn't work for now!\n",
    "afd.save(path.join('models', 'word2vec', 'AFD.w2v'))\n",
    "afd = None"
   ]
  },
  {
   "cell_type": "markdown",
   "metadata": {},
   "source": [
    "## Classification"
   ]
  },
  {
   "cell_type": "markdown",
   "metadata": {},
   "source": [
    "Load models and documents into memory."
   ]
  },
  {
   "cell_type": "code",
   "execution_count": 1,
   "metadata": {
    "collapsed": false
   },
   "outputs": [],
   "source": [
    "from os import path\n",
    "from corputil import FileCorpus\n",
    "from gensim.models.word2vec import Word2Vec"
   ]
  },
  {
   "cell_type": "code",
   "execution_count": 2,
   "metadata": {
    "collapsed": false
   },
   "outputs": [],
   "source": [
    "SPD = Word2Vec.load(path.join('models', 'word2vec', 'SPD.w2v'))\n",
    "Linke = Word2Vec.load(path.join('models', 'word2vec', 'Linke.w2v'))\n",
    "Gruene = Word2Vec.load(path.join('models', 'word2vec', 'Grüne.w2v'))\n",
    "FDP = Word2Vec.load(path.join('models', 'word2vec', 'FDP.w2v'))\n",
    "CDU = Word2Vec.load(path.join('models', 'word2vec', 'CDU.w2v'))\n",
    "# NPD = Word2Vec.load(path.join('models', 'word2vec', 'NPD.w2v'))\n",
    "# AFD = Word2Vec.load(path.join('models', 'word2vec', 'AFD.w2v'))\n",
    "\n",
    "models = [SPD, Linke, Gruene, FDP, CDU]"
   ]
  },
  {
   "cell_type": "code",
   "execution_count": 10,
   "metadata": {
    "collapsed": false
   },
   "outputs": [
    {
     "name": "stdout",
     "output_type": "stream",
     "text": [
      "0    0.384260\n",
      "1    0.202781\n",
      "2    0.230964\n",
      "3    0.167671\n",
      "4    0.014324\n",
      "dtype: float32\n"
     ]
    }
   ],
   "source": [
    "import pandas as pd\n",
    "import numpy as np\n",
    "\n",
    "def calc_probability(docs, mods):\n",
    "    sentlist = [s for d in docs for s in d]\n",
    "    llhd = np.array( [ m.score(sentlist, len(sentlist)) for m in mods ] )\n",
    "    lhd = np.exp(llhd - llhd.max(axis=0))\n",
    "    prob = pd.DataFrame( (lhd/lhd.sum(axis=0)).transpose() )\n",
    "    prob[\"doc\"] = [i for i,d in enumerate(docs) for s in d]\n",
    "    prob = prob.groupby(\"doc\").mean()\n",
    "    prob = prob.sum()\n",
    "    return prob/prob.sum()\n",
    "\n",
    "# site = 'Spiegel'\n",
    "# labels = ['KW44', 'KW45', 'KW46', 'KW47', 'KW48', 'KW49']\n",
    "# files = [path.join('data', 'Corpus_{}_{}.txt'.format(label, site)) for label in labels]\n",
    "# for file in files:\n",
    "#     corpus = list(FileCorpus(file).doc_sentences_token())\n",
    "#     print(calc_probability(corpus, models))\n",
    "\n",
    "file = path.join('data', 'Test.txt')\n",
    "corpus = list(FileCorpus(file).doc_sentences_token())\n",
    "print(calc_probability(corpus, models))"
   ]
  }
 ],
 "metadata": {
  "kernelspec": {
   "display_name": "Python 3",
   "language": "python",
   "name": "python3"
  },
  "language_info": {
   "codemirror_mode": {
    "name": "ipython",
    "version": 3
   },
   "file_extension": ".py",
   "mimetype": "text/x-python",
   "name": "python",
   "nbconvert_exporter": "python",
   "pygments_lexer": "ipython3",
   "version": "3.4.3"
  }
 },
 "nbformat": 4,
 "nbformat_minor": 0
}
