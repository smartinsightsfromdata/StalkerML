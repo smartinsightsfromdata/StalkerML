{
 "cells": [
  {
   "cell_type": "markdown",
   "metadata": {},
   "source": [
    "# Calculate Political Opinion Models"
   ]
  },
  {
   "cell_type": "code",
   "execution_count": 2,
   "metadata": {
    "collapsed": false
   },
   "outputs": [],
   "source": [
    "# import logging\n",
    "# logging.basicConfig(format='%(asctime)s : %(levelname)s : %(message)s')\n",
    "# logging.root.level = logging.INFO\n",
    "\n",
    "from os import path\n",
    "from random import shuffle\n",
    "from corputil import FileCorpus, ListCorpus\n",
    "from corputil.utils import load_stopwords\n",
    "from gensim.models.word2vec import LineSentence, Word2Vec\n",
    "\n",
    "stopwords = load_stopwords(path.join('data', 'german.txt'))"
   ]
  },
  {
   "cell_type": "code",
   "execution_count": 3,
   "metadata": {
    "collapsed": false
   },
   "outputs": [],
   "source": [
    "spd = [\n",
    "    path.join('data', 'Politics', 'SPD.txt'),\n",
    "    path.join('data', 'Politics', 'SPD_EU.txt'),\n",
    "    path.join('data', 'Politics', 'SPD_Fraktion.txt')\n",
    "]\n",
    "\n",
    "linke = [\n",
    "    path.join('data', 'Politics', 'Linke.txt'),\n",
    "    path.join('data', 'Politics', 'Linke_EU.txt'),\n",
    "    path.join('data', 'Politics', 'Linke_Fraktion.txt')\n",
    "]\n",
    "\n",
    "gruene = [\n",
    "    path.join('data', 'Politics', 'Grüne.txt'),\n",
    "    path.join('data', 'Politics', 'Grüne_EU.txt'),\n",
    "    path.join('data', 'Politics', 'Grüne_Fraktion.txt')\n",
    "]\n",
    "\n",
    "fdp = [\n",
    "    path.join('data', 'Politics', 'FDP.txt'),\n",
    "    path.join('data', 'Politics', 'FDP_EU.txt'),\n",
    "    path.join('data', 'Politics', 'FDP_Fraktion.txt')\n",
    "]\n",
    "\n",
    "cdu = [\n",
    "    path.join('data', 'Politics', 'CDU.txt'),\n",
    "    path.join('data', 'Politics', 'CDU_EU.txt'),\n",
    "    path.join('data', 'Politics', 'CDU_Fraktion.txt')\n",
    "]\n",
    "\n",
    "npd = [\n",
    "    path.join('data', 'Politics', 'NPD_Fraktion_MV.txt'),\n",
    "    path.join('data', 'Politics', 'NPD_Fraktion_Sachsen.txt')\n",
    "    path.join('data', 'Politics', 'NPD_Jung.txt')\n",
    "]\n",
    "\n",
    "corpora = [\n",
    "    FileCorpus(linke),\n",
    "    FileCorpus(spd),\n",
    "    FileCorpus(gruene), \n",
    "    FileCorpus(fdp), \n",
    "    FileCorpus(cdu), \n",
    "    FileCorpus(npd)\n",
    "]\n",
    "\n",
    "parties = [\n",
    "    'Linke',\n",
    "    'SPD',\n",
    "    'Gruene',\n",
    "    'FDP',\n",
    "    'CDU',\n",
    "    'NPD'\n",
    "]"
   ]
  },
  {
   "cell_type": "markdown",
   "metadata": {},
   "source": [
    "## Training the Base Model\n",
    "\n",
    "Calculate the base model (from german wiki), that is later used as a base for training the classification models."
   ]
  },
  {
   "cell_type": "code",
   "execution_count": null,
   "metadata": {
    "collapsed": false,
    "scrolled": true
   },
   "outputs": [],
   "source": [
    "sentences = LineSentence(path.join('data', 'Archive', 'Cropped_Wiki.txt'))\n",
    "base = Word2Vec(sentences, workers=4, iter=4, size=100, window=3)"
   ]
  },
  {
   "cell_type": "markdown",
   "metadata": {},
   "source": [
    "Save model to disk. Don't finalize the model because we need to train it with new data later!"
   ]
  },
  {
   "cell_type": "code",
   "execution_count": null,
   "metadata": {
    "collapsed": false
   },
   "outputs": [],
   "source": [
    "base.save(path.join('models', 'word2vec', 'Base.w2v'))\n",
    "base = None\n",
    "sentences = None"
   ]
  },
  {
   "cell_type": "markdown",
   "metadata": {},
   "source": [
    "## Training the Classifier"
   ]
  },
  {
   "cell_type": "code",
   "execution_count": null,
   "metadata": {
    "collapsed": false,
    "scrolled": true
   },
   "outputs": [],
   "source": [
    "for party, corpus in zip(parties, corpora):\n",
    "    sentences = list(corpus.sentences_token(stopwords=stopwords))\n",
    "    shuffle(sentences)\n",
    "    model = Word2Vec.load(path.join('models', 'word2vec', 'Base.w2v'))\n",
    "    model.train(sentences, total_examples=len(sentences))\n",
    "    model.save(path.join('models', 'word2vec', '{}.w2v'.format(party)))"
   ]
  },
  {
   "cell_type": "markdown",
   "metadata": {},
   "source": [
    "## Political Ideology Detection"
   ]
  },
  {
   "cell_type": "markdown",
   "metadata": {},
   "source": [
    "Load models and documents into memory."
   ]
  },
  {
   "cell_type": "code",
   "execution_count": 7,
   "metadata": {
    "collapsed": false
   },
   "outputs": [],
   "source": [
    "models = [path.join('models', 'word2vec', '{}.w2v'.format(party)) for party in parties]\n",
    "labels = ['2015-44', '2015-45', '2015-46', '2015-47', '2015-48', '2015-49', '2015-50', '2015-51', \n",
    "          '2015-52', '2015-53', '2016-01', '2016-02', '2016-03', '2016-04']\n",
    "files = [path.join('data', 'CurrentNews', '{}.csv').format(label) for label in labels]\n",
    "out = [path.join('data', 'CurrentNews', 's_{}.csv').format(label) for label in labels]"
   ]
  },
  {
   "cell_type": "code",
   "execution_count": 8,
   "metadata": {
    "collapsed": false,
    "scrolled": true
   },
   "outputs": [],
   "source": [
    "import pandas as pd\n",
    "import numpy as np\n",
    "\n",
    "\n",
    "def calc_score(doc, mod):\n",
    "    model = Word2Vec.load(mod)\n",
    "    score = model.score(doc, len(doc))\n",
    "    return score\n",
    "\n",
    "def calc_probability(df, mods):\n",
    "    docs = list(ListCorpus(list(df.loc[:, 'text'])).doc_sentences_token(stopwords=stopwords))\n",
    "    sentlist = [s for d in docs for s in d]\n",
    "    llhd = np.array( [ calc_score(sentlist, m) for m in mods ] )\n",
    "    lhd = np.exp(llhd - llhd.max(axis=0))\n",
    "    prob = pd.DataFrame( (lhd/lhd.sum(axis=0)).transpose() )\n",
    "    prob[\"doc\"] = [i for i,d in enumerate(docs) for s in d]\n",
    "    prob = prob.groupby(\"doc\").mean()\n",
    "    return prob\n",
    "\n",
    "# raw = pd.concat([pd.read_csv(file, sep='|', encoding='utf-8') for file in files], ignore_index=True)\n",
    "# prob = calc_probability(raw, models)\n",
    "# data = pd.concat([raw, prob], axis=1)\n",
    "\n",
    "for file, o in zip(files, out):\n",
    "    data = pd.read_csv(file, sep='|', encoding='utf-8')\n",
    "    sentiment = calc_probability(data, models)\n",
    "    csv = pd.concat([data, sentiment], axis=1)\n",
    "    csv.rename(columns={ 0: 'LINKE', 1: 'SPD', 2: 'GRÜNE', 3: 'FDP', 4: 'CDU', 5: 'NPD'  }, inplace=True)\n",
    "    csv.to_csv(o, index=False, encoding='utf-8', sep='|')"
   ]
  },
  {
   "cell_type": "code",
   "execution_count": null,
   "metadata": {
    "collapsed": false
   },
   "outputs": [],
   "source": [
    "data.groupby('site').mean()"
   ]
  }
 ],
 "metadata": {
  "kernelspec": {
   "display_name": "Python 3",
   "language": "python",
   "name": "python3"
  },
  "language_info": {
   "codemirror_mode": {
    "name": "ipython",
    "version": 3
   },
   "file_extension": ".py",
   "mimetype": "text/x-python",
   "name": "python",
   "nbconvert_exporter": "python",
   "pygments_lexer": "ipython3",
   "version": "3.5.1"
  }
 },
 "nbformat": 4,
 "nbformat_minor": 0
}
