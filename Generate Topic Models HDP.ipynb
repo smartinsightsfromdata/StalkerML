{
 "cells": [
  {
   "cell_type": "code",
   "execution_count": null,
   "metadata": {
    "collapsed": true
   },
   "outputs": [],
   "source": [
    "from os import path\n",
    "from pprint import pprint\n",
    "from corputil import FileCorpus\n",
    "from gensim.corpora import Dictionary, MmCorpus\n",
    "from gensim.models import HdpModel\n",
    "from gensim.models.phrases import Phrases"
   ]
  },
  {
   "cell_type": "code",
   "execution_count": null,
   "metadata": {
    "collapsed": true
   },
   "outputs": [],
   "source": [
    "chunksize = 256\n",
    "labels = ['KW44', 'KW45', 'KW46', 'KW47', 'KW48', 'KW49']\n",
    "files = [path.join('data', 'Corpus_{}.txt').format(label) for label in labels]\n",
    "output_model = [path.join('models', 'hdp', '{}.hdp').format(label) for label in labels]\n",
    "output_dict = [path.join('models', 'hdp', '{}.dict').format(label) for label in labels]\n",
    "output_mm = [path.join('models', 'hdp', '{}.mm').format(label) for label in labels]\n",
    "corpora = [FileCorpus(file) for file in files]\n",
    "\n",
    "def train_hdp(train):\n",
    "    corpus = [trigram[bigram[doc]] for doc in train]\n",
    "\n",
    "    dictionary = Dictionary(corpus)\n",
    "    dictionary.filter_extremes()\n",
    "    dictionary.compactify()\n",
    "\n",
    "    mmCorpus = [dictionary.doc2bow(doc) for doc in corpus]\n",
    "    hdp = HdpModel(mmCorpus, id2word=dictionary, chunksize=chunksize)\n",
    "    return (dictionary, mmCorpus, hdp)"
   ]
  },
  {
   "cell_type": "code",
   "execution_count": null,
   "metadata": {
    "collapsed": false
   },
   "outputs": [],
   "source": [
    "bigram = Phrases.load(path.join('models', 'phrase', 'Bigram.phrase'))\n",
    "trigram = Phrases.load(path.join('models', 'phrase', 'Trigram.phrase'))\n",
    "\n",
    "for i, corpus in enumerate(corpora[:1]):\n",
    "    dictionary, mmCorpus, model = train_hdp(corpus.doc_token(stopwords='german'))\n",
    "#     model.save(output_model[i])\n",
    "#     dictionary.save(output_dict[i])\n",
    "#     MmCorpus.serialize(output_mm[i], mmCorpus)\n",
    "    model.print_topics()"
   ]
  },
  {
   "cell_type": "code",
   "execution_count": null,
   "metadata": {
    "collapsed": false
   },
   "outputs": [],
   "source": [
    "print(model.show_topics())"
   ]
  }
 ],
 "metadata": {
  "kernelspec": {
   "display_name": "Python 3",
   "language": "python",
   "name": "python3"
  },
  "language_info": {
   "codemirror_mode": {
    "name": "ipython",
    "version": 3
   },
   "file_extension": ".py",
   "mimetype": "text/x-python",
   "name": "python",
   "nbconvert_exporter": "python",
   "pygments_lexer": "ipython3",
   "version": "3.4.3"
  }
 },
 "nbformat": 4,
 "nbformat_minor": 0
}
