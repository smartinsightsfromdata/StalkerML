{
 "cells": [
  {
   "cell_type": "code",
   "execution_count": 1,
   "metadata": {
    "collapsed": true
   },
   "outputs": [],
   "source": [
    "import logging\n",
    "logging.basicConfig(format='%(asctime)s : %(levelname)s : %(message)s')\n",
    "logging.root.level = logging.INFO\n",
    "\n",
    "from os import path\n",
    "import numpy as np\n",
    "from corputil import FileCorpus\n",
    "from gensim.models import Doc2Vec\n",
    "from gensim.models.doc2vec import LabeledSentence\n",
    "from sklearn.linear_model import LogisticRegression"
   ]
  },
  {
   "cell_type": "code",
   "execution_count": null,
   "metadata": {
    "collapsed": true
   },
   "outputs": [],
   "source": [
    "def link(file):\n",
    "    return path.join('data', 'Politics', file)\n",
    "\n",
    "sources = { 'Linke' : [link('Linke.txt'), link('Linke_PR.txt'), link('Linke_Fraktion.txt')],\n",
    "            'SPD' : [link('SPD_Fraktion.txt')],\n",
    "            'Grüne' : [link('Grüne.txt'), link('Grüne_Fraktion.txt')],\n",
    "            'FDP' : [link('FDP.txt'), link('FDP_Fraktion.txt')],\n",
    "            'CDU' : [link('CDU_Fraktion.txt')],\n",
    "            'NPD' : [link('NPD_Fraktion_Sachsen.txt'), link('NPD_Fraktion_MV.txt'), link('NPD_Jung.txt')] }\n",
    "\n"
   ]
  }
 ],
 "metadata": {
  "kernelspec": {
   "display_name": "Python 3",
   "language": "python",
   "name": "python3"
  },
  "language_info": {
   "codemirror_mode": {
    "name": "ipython",
    "version": 3
   },
   "file_extension": ".py",
   "mimetype": "text/x-python",
   "name": "python",
   "nbconvert_exporter": "python",
   "pygments_lexer": "ipython3",
   "version": "3.5.1"
  }
 },
 "nbformat": 4,
 "nbformat_minor": 0
}
