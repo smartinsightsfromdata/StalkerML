{
 "cells": [
  {
   "cell_type": "markdown",
   "metadata": {},
   "source": [
    "Currently the script traverses the corpus two times. One time for the generation of the dictionary and then another time to transform the documents in the corpus into a bag of words vector. There is probably a better way to do that."
   ]
  },
  {
   "cell_type": "code",
   "execution_count": null,
   "metadata": {
    "collapsed": false,
    "scrolled": true
   },
   "outputs": [],
   "source": [
    "import logging\n",
    "import os.path as path\n",
    "\n",
    "from treetaggerwrapper import TreeTagger, make_tags\n",
    "from gensim import corpora, models, similarities\n",
    "\n",
    "logging.basicConfig(format='%(asctime)s : %(levelname)s : %(message)s', level=logging.INFO)\n",
    "\n",
    "corpus_file = path.join('..', 'Crawler', 'Data', 'Corpus.txt')\n",
    "stopwords_file = path.join('..', 'Crawler', 'Data', 'Stopwords.txt')\n",
    "wanted_tags = set(['NN', 'VVPP', 'ADJD'])\n",
    "\n",
    "class StreamCorpus(object):\n",
    "    def __init__(self, filename):\n",
    "        self.filename = filename\n",
    "    def __iter__(self):\n",
    "        for document in open(self.filename, encoding='UTF-8'):\n",
    "            keywords = extract_keywords(document)\n",
    "            yield dictionary.doc2bow(keywords)\n",
    "\n",
    "def extract_keywords(document):\n",
    "    tagged = tagger.tag_text(document)\n",
    "    tags = make_tags(tagged, exclude_nottags=True)\n",
    "    keywords = [lemma.lower() for word, tag, lemma in tags if tag in wanted_tags]\n",
    "    return keywords\n",
    "\n",
    "def load_stopwords(filename):\n",
    "    with open(filename, 'r', encoding='UTF-8') as f:\n",
    "        data = f.read()\n",
    "        return set(data.split('\\n'))\n",
    "\n",
    "corpus = StreamCorpus(corpus_file)\n",
    "stoplist = load_stopwords(stopwords_file)\n",
    "\n",
    "tagger = TreeTagger(TAGLANG='de')\n",
    "\n",
    "dictionary = corpora.Dictionary(extract_keywords(document) for document in open(corpus_file, encoding='UTF-8'))\n",
    "stop_ids = [dictionary.token2id[stopword] for stopword in stoplist\n",
    "                                          if stopword in dictionary.token2id]\n",
    "once_ids = [tokenid for tokenid, docfreq in dictionary.dfs.items() if docfreq == 1]\n",
    "dictionary.filter_tokens(stop_ids + once_ids)\n",
    "dictionary.filter_extremes(no_below=10)\n",
    "dictionary.compactify()\n",
    "\n",
    "dictionary.save('corpus.dict')\n",
    "corpora.MmCorpus.serialize('corpus.mm', corpus)"
   ]
  }
 ],
 "metadata": {
  "kernelspec": {
   "display_name": "Python 3",
   "language": "python",
   "name": "python3"
  },
  "language_info": {
   "codemirror_mode": {
    "name": "ipython",
    "version": 3
   },
   "file_extension": ".py",
   "mimetype": "text/x-python",
   "name": "python",
   "nbconvert_exporter": "python",
   "pygments_lexer": "ipython3",
   "version": "3.4.3"
  }
 },
 "nbformat": 4,
 "nbformat_minor": 0
}
