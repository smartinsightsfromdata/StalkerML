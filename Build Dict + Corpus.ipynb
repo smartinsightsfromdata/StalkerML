{
 "cells": [
  {
   "cell_type": "code",
   "execution_count": 1,
   "metadata": {
    "collapsed": false,
    "scrolled": true
   },
   "outputs": [],
   "source": [
    "from gensim import corpora, models, similarities\n",
    "import logging\n",
    "\n",
    "logging.basicConfig(format='%(asctime)s : %(levelname)s : %(message)s', level=logging.INFO)\n",
    "\n",
    "class StreamCorpus(object):\n",
    "    def __init__(self, filename):\n",
    "        self.filename = filename\n",
    "    def __iter__(self):\n",
    "        for line in open(self.filename, encoding='UTF-8'):\n",
    "            yield dictionary.doc2bow(line.lower().split())\n",
    "\n",
    "def load_stopwords(filename):\n",
    "    data = ''\n",
    "    with open(filename, 'r', encoding='UTF-8') as f:\n",
    "        data = f.read()\n",
    "    return set(data.split('\\n'))\n",
    "\n",
    "corpus_file = '../Crawler/Data/Corpus.txt'\n",
    "corpus = StreamCorpus(corpus_file)\n",
    "\n",
    "dictionary = corpora.Dictionary(line.lower().split() for line in open(corpus_file, encoding='UTF-8'))\n",
    "stoplist = load_stopwords('../Crawler/Data/Stopwords.txt')\n",
    "stop_ids = [dictionary.token2id[stopword] for stopword in stoplist\n",
    "                                          if stopword in dictionary.token2id]\n",
    "once_ids = [tokenid for tokenid, docfreq in dictionary.dfs.items() if docfreq == 1]\n",
    "dictionary.filter_tokens(stop_ids + once_ids)\n",
    "dictionary.filter_extremes()\n",
    "dictionary.compactify()\n",
    "\n",
    "dictionary.save('corpus.dict')\n",
    "corpora.MmCorpus.serialize('corpus.mm', corpus)"
   ]
  }
 ],
 "metadata": {
  "kernelspec": {
   "display_name": "Python 3",
   "language": "python",
   "name": "python3"
  },
  "language_info": {
   "codemirror_mode": {
    "name": "ipython",
    "version": 3
   },
   "file_extension": ".py",
   "mimetype": "text/x-python",
   "name": "python",
   "nbconvert_exporter": "python",
   "pygments_lexer": "ipython3",
   "version": "3.4.3"
  }
 },
 "nbformat": 4,
 "nbformat_minor": 0
}
