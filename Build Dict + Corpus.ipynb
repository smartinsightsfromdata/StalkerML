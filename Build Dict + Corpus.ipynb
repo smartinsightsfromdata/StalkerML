{
 "cells": [
  {
   "cell_type": "code",
   "execution_count": null,
   "metadata": {
    "collapsed": false,
    "scrolled": true
   },
   "outputs": [],
   "source": [
    "import logging\n",
    "import os\n",
    "import os.path as path\n",
    "from gensim import corpora, models, similarities\n",
    "from textblob_de import PatternParser, PatternParserLemmatizer, Word, TextBlobDE as TextBlob\n",
    "from nltk.tag import StanfordNERTagger, StanfordPOSTagger\n",
    "\n",
    "os.environ['JAVAHOME'] = 'C:/Development/Java/bin'\n",
    "logging.basicConfig(format='%(asctime)s : %(levelname)s : %(message)s', level=logging.INFO)\n",
    "\n",
    "pos_model = path.join('Models', 'Stanford', 'german-hgc.tagger')\n",
    "pos_jar = path.join('Dependencies', 'stanford-postagger.jar')\n",
    "ner_model = path.join('Models', 'Stanford', 'german.hgc_175m_600.crf.ser.gz')\n",
    "ner_jar = path.join('Dependencies', 'stanford-ner.jar')\n",
    "\n",
    "pos = StanfordPOSTagger(pos_model, pos_jar, encoding = 'UTF-8')\n",
    "ner = StanfordNERTagger(ner_model, ner_jar, encoding = 'UTF-8')\n",
    "\n",
    "class StreamCorpus(object):\n",
    "    def __init__(self, filename):\n",
    "        self.filename = filename\n",
    "    def __iter__(self):\n",
    "        for line in open(self.filename, encoding='UTF-8'):\n",
    "            text = TextBlob(document).words\n",
    "            entity_tag = ner.tag(text)\n",
    "            pos_tag = pos.tag(text)\n",
    "            entities = [word for word, tag in entity_tag if tag not in set(['O', 'I-MISC'])]\n",
    "            keywords = [word.lower() for word, tag in pos_tag if tag in set(['NN', 'NE', 'VVPP']) and word not in set(entities)]\n",
    "            yield dictionary.doc2bow(keywords)\n",
    "\n",
    "def load_stopwords(filename):\n",
    "    with open(filename, 'r', encoding='UTF-8') as f:\n",
    "        data = f.read()\n",
    "        return set(data.split('\\n'))\n",
    "\n",
    "corpus_file = path.join('..', 'Crawler', 'Data', 'Corpus.txt')\n",
    "stopwords_file = path.join('..', 'Crawler', 'Data', 'Stopwords.txt')\n",
    "\n",
    "corpus = StreamCorpus(corpus_file)\n",
    "stoplist = load_stopwords(stopwords_file)\n",
    "\n",
    "dictionary = corpora.Dictionary(TextBlob(line.lower()).words for line in open(corpus_file, encoding='UTF-8'))\n",
    "stop_ids = [dictionary.token2id[stopword] for stopword in stoplist\n",
    "                                          if stopword in dictionary.token2id]\n",
    "once_ids = [tokenid for tokenid, docfreq in dictionary.dfs.items() if docfreq == 1]\n",
    "dictionary.filter_tokens(stop_ids + once_ids)\n",
    "dictionary.filter_extremes(no_below=10)\n",
    "dictionary.compactify()\n",
    "\n",
    "dictionary.save('corpus.dict')\n",
    "corpora.MmCorpus.serialize('corpus.mm', corpus)"
   ]
  }
 ],
 "metadata": {
  "kernelspec": {
   "display_name": "Python 3",
   "language": "python",
   "name": "python3"
  },
  "language_info": {
   "codemirror_mode": {
    "name": "ipython",
    "version": 3
   },
   "file_extension": ".py",
   "mimetype": "text/x-python",
   "name": "python",
   "nbconvert_exporter": "python",
   "pygments_lexer": "ipython3",
   "version": "3.4.3"
  }
 },
 "nbformat": 4,
 "nbformat_minor": 0
}
