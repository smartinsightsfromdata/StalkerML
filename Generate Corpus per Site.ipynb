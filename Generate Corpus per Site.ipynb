{
 "cells": [
  {
   "cell_type": "code",
   "execution_count": 4,
   "metadata": {
    "collapsed": true
   },
   "outputs": [],
   "source": [
    "import sqlite3\n",
    "from os import path\n",
    "from time import time\n",
    "from html2corpus import HTML2Corpus\n",
    "from html2corpus.extractors import ReadabilityExtractor"
   ]
  },
  {
   "cell_type": "code",
   "execution_count": 5,
   "metadata": {
    "collapsed": true
   },
   "outputs": [],
   "source": [
    "site = 'Junge Freiheit'\n",
    "labels = ['KW44', 'KW45', 'KW46', 'KW47', 'KW48', 'KW49']\n",
    "files = [path.join('data', 'Corpus_{}_{}.txt'.format(label, site)) for label in labels]\n",
    "dates = [('2015-10-26', '2015-11-02', site),\n",
    "         ('2015-11-02', '2015-11-09', site),\n",
    "         ('2015-11-09', '2015-11-16', site),\n",
    "         ('2015-11-16', '2015-11-23', site),\n",
    "         ('2015-11-23', '2015-11-30', site),\n",
    "         ('2015-11-30', '2015-12-07', site)]\n",
    "\n",
    "db_file = path.join('..', 'Crawler', 'data', 'de_news.sqlite')\n",
    "conn = sqlite3.connect(db_file)\n",
    "cursor = conn.cursor()"
   ]
  },
  {
   "cell_type": "code",
   "execution_count": 6,
   "metadata": {
    "collapsed": true
   },
   "outputs": [],
   "source": [
    "def get_data(kw):\n",
    "    query = '''SELECT title, html \n",
    "               FROM Articles \n",
    "               LEFT JOIN Sources ON Articles.source = Sources.id \n",
    "               WHERE date BETWEEN ? and ?\n",
    "               AND site = ?'''\n",
    "    cursor.execute(query, kw)\n",
    "\n",
    "    data = cursor.fetchmany(100)\n",
    "    \n",
    "    while len(data) > 0:\n",
    "        for row in data:\n",
    "            title, html = row\n",
    "            yield html\n",
    "        data = cursor.fetchmany(100)\n",
    "\n",
    "for file, date in zip(files, dates):\n",
    "    HTML2Corpus(get_data(date), extractor=ReadabilityExtractor(min_len=100)).save(file)\n",
    "\n",
    "\n",
    "conn.close()"
   ]
  }
 ],
 "metadata": {
  "kernelspec": {
   "display_name": "Python 3",
   "language": "python",
   "name": "python3"
  },
  "language_info": {
   "codemirror_mode": {
    "name": "ipython",
    "version": 3
   },
   "file_extension": ".py",
   "mimetype": "text/x-python",
   "name": "python",
   "nbconvert_exporter": "python",
   "pygments_lexer": "ipython3",
   "version": "3.4.3"
  }
 },
 "nbformat": 4,
 "nbformat_minor": 0
}
