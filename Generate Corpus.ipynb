{
 "cells": [
  {
   "cell_type": "code",
   "execution_count": 1,
   "metadata": {
    "collapsed": true
   },
   "outputs": [],
   "source": [
    "import sqlite3\n",
    "from os import path\n",
    "from time import time\n",
    "from html2corpus import HTML2Corpus\n",
    "from html2corpus.extractors import ReadabilityExtractor\n",
    "\n",
    "KW44 = ('2015-10-26', '2015-11-02')\n",
    "KW45 = ('2015-11-02', '2015-11-09')\n",
    "KW46 = ('2015-11-09', '2015-11-16')\n",
    "KW47 = ('2015-11-16', '2015-11-23')\n",
    "\n",
    "db_file = path.join('..', 'Crawler', 'data', 'de_news.sqlite')\n",
    "conn = sqlite3.connect(db_file)\n",
    "cursor = conn.cursor()"
   ]
  },
  {
   "cell_type": "code",
   "execution_count": null,
   "metadata": {
    "collapsed": false,
    "scrolled": false
   },
   "outputs": [],
   "source": [
    "def get_data(kw):\n",
    "    query = 'SELECT title, html FROM Articles LEFT JOIN Sources ON Articles.source = Sources.id WHERE date BETWEEN ? and ?'\n",
    "    cursor.execute(query, kw)\n",
    "\n",
    "    data = cursor.fetchmany(100)\n",
    "    \n",
    "    while len(data) > 0:\n",
    "        for row in data:\n",
    "            title, html = row\n",
    "            yield html\n",
    "        data = cursor.fetchmany(100)\n",
    "\n",
    "corpus = HTML2Corpus(get_data(KW44), extractor=ReadabilityExtractor(min_len=100)).save(path.join('data', 'Corpus_KW44.txt'))\n",
    "corpus = HTML2Corpus(get_data(KW45), extractor=ReadabilityExtractor(min_len=100)).save(path.join('data', 'Corpus_KW45.txt'))\n",
    "corpus = HTML2Corpus(get_data(KW46), extractor=ReadabilityExtractor(min_len=100)).save(path.join('data', 'Corpus_KW46.txt'))\n",
    "corpus = HTML2Corpus(get_data(KW47), extractor=ReadabilityExtractor(min_len=100)).save(path.join('data', 'Corpus_KW47.txt'))\n",
    "\n",
    "conn.close()"
   ]
  }
 ],
 "metadata": {
  "kernelspec": {
   "display_name": "Python 3",
   "language": "python",
   "name": "python3"
  },
  "language_info": {
   "codemirror_mode": {
    "name": "ipython",
    "version": 3
   },
   "file_extension": ".py",
   "mimetype": "text/x-python",
   "name": "python",
   "nbconvert_exporter": "python",
   "pygments_lexer": "ipython3",
   "version": "3.4.3"
  }
 },
 "nbformat": 4,
 "nbformat_minor": 0
}
