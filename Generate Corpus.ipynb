{
 "cells": [
  {
   "cell_type": "code",
   "execution_count": null,
   "metadata": {
    "collapsed": true
   },
   "outputs": [],
   "source": [
    "import sqlite3\n",
    "from os import path\n",
    "from time import time\n",
    "import pandas as pd\n",
    "from html2corpus import HTML2Corpus\n",
    "from html2corpus.extractors import ReadabilityExtractor"
   ]
  },
  {
   "cell_type": "code",
   "execution_count": null,
   "metadata": {
    "collapsed": true
   },
   "outputs": [],
   "source": [
    "labels = ['2015KW44', '2015KW45', '2015KW46', '2015KW47', '2015KW48', '2015KW49', '2015KW50']\n",
    "files = [path.join('data', 'CurrentNews', '{}.txt'.format(label)) for label in labels]\n",
    "dates = [#('2015-10-26', '2015-11-02'),\n",
    "#          ('2015-11-02', '2015-11-09'),\n",
    "#          ('2015-11-09', '2015-11-16'),\n",
    "#          ('2015-11-16', '2015-11-23'),\n",
    "#          ('2015-11-23', '2015-11-30'),\n",
    "#          ('2015-11-30', '2015-12-07'),\n",
    "         ('2015-12-07', '2015-12-14')]\n",
    "\n",
    "db_file = path.join('..', 'Crawler', 'data', 'de_news.sqlite')\n",
    "conn = sqlite3.connect(db_file)\n",
    "cursor = conn.cursor()"
   ]
  },
  {
   "cell_type": "code",
   "execution_count": null,
   "metadata": {
    "collapsed": false,
    "scrolled": false
   },
   "outputs": [],
   "source": [
    "def get_data(kw):\n",
    "    query = '''SELECT title, html \n",
    "               FROM Articles \n",
    "               LEFT JOIN Sources ON Articles.source = Sources.id \n",
    "               WHERE date BETWEEN ? and ?'''\n",
    "    cursor.execute(query, kw)\n",
    "\n",
    "    data = cursor.fetchmany(100)\n",
    "    \n",
    "    while len(data) > 0:\n",
    "        for row in data:\n",
    "            title, html = row\n",
    "            yield html\n",
    "        data = cursor.fetchmany(100)\n",
    "\n",
    "for file, date in zip(files, dates):\n",
    "    HTML2Corpus(get_data(date), extractor=ReadabilityExtractor(min_len=150)).save(file)\n",
    "\n",
    "conn.close()"
   ]
  }
 ],
 "metadata": {
  "kernelspec": {
   "display_name": "Python 3",
   "language": "python",
   "name": "python3"
  },
  "language_info": {
   "codemirror_mode": {
    "name": "ipython",
    "version": 3
   },
   "file_extension": ".py",
   "mimetype": "text/x-python",
   "name": "python",
   "nbconvert_exporter": "python",
   "pygments_lexer": "ipython3",
   "version": "3.5.1"
  }
 },
 "nbformat": 4,
 "nbformat_minor": 0
}
