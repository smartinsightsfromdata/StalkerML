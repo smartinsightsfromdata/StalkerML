{
 "cells": [
  {
   "cell_type": "code",
   "execution_count": null,
   "metadata": {
    "collapsed": true
   },
   "outputs": [],
   "source": [
    "import sqlite3\n",
    "from os import path\n",
    "from time import time\n",
    "from html2corpus import HTML2Corpus\n",
    "from html2corpus.extractors import ReadabilityExtractor, ParagraphExtractor\n",
    "\n",
    "KW44 = ('2015-10-26', '2015-11-02')\n",
    "KW45 = ('2015-11-02', '2015-11-09')\n",
    "KW46 = ('2015-11-09', '2015-11-16')\n",
    "KW47 = ('2015-11-16', '2015-11-23')\n",
    "\n",
    "db_file = path.join('..', 'Crawler', 'data', 'de_news.sqlite')\n",
    "conn = sqlite3.connect(db_file)\n",
    "cursor = conn.cursor()"
   ]
  },
  {
   "cell_type": "code",
   "execution_count": null,
   "metadata": {
    "collapsed": false,
    "scrolled": false
   },
   "outputs": [],
   "source": [
    "def to_file(label, corpus):\n",
    "    with open(path.join('data', 'Corpus_{}.txt'.format(label)), 'w', encoding='UTF-8') as f:\n",
    "        for doc in corpus:\n",
    "            f.write(doc + '\\n')\n",
    "\n",
    "def get_data(kw):\n",
    "    query = 'SELECT title, html FROM Articles LEFT JOIN Sources ON Articles.source = Sources.id WHERE date BETWEEN ? and ?'\n",
    "    cursor.execute(query, kw)\n",
    "\n",
    "    data = cursor.fetchmany(100)\n",
    "    \n",
    "    while len(data) > 0:\n",
    "        for row in data:\n",
    "            title, html = row\n",
    "            yield html\n",
    "        data = cursor.fetchmany(100)\n",
    "\n",
    "start = time()\n",
    "corpus = HTML2Corpus(get_data(KW47), extractor=ParagraphExtractor(min_len=100))\n",
    "to_file('KW47_P', corpus)\n",
    "print(time() - start)\n",
    "start = time()\n",
    "corpus = HTML2Corpus(get_data(KW47), extractor=ReadabilityExtractor(min_len=100))\n",
    "to_file('KW47_R', corpus)\n",
    "print(time() - start)\n",
    "\n",
    "conn.close()"
   ]
  }
 ],
 "metadata": {
  "kernelspec": {
   "display_name": "Python 3",
   "language": "python",
   "name": "python3"
  },
  "language_info": {
   "codemirror_mode": {
    "name": "ipython",
    "version": 3
   },
   "file_extension": ".py",
   "mimetype": "text/x-python",
   "name": "python",
   "nbconvert_exporter": "python",
   "pygments_lexer": "ipython3",
   "version": "3.4.3"
  }
 },
 "nbformat": 4,
 "nbformat_minor": 0
}
