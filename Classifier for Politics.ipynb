{
 "cells": [
  {
   "cell_type": "code",
   "execution_count": 1,
   "metadata": {
    "collapsed": true
   },
   "outputs": [],
   "source": [
    "from os import path\n",
    "import pandas as pd\n",
    "import numpy as np\n",
    "from corputil import FileCorpus\n",
    "from corputil.utils import load_stopwords\n",
    "from sklearn.manifold import TSNE\n",
    "from sklearn.cluster import KMeans\n",
    "from sklearn.decomposition import PCA\n",
    "from gensim.corpora import Dictionary\n",
    "from sklearn.decomposition import TruncatedSVD\n",
    "from sklearn.feature_extraction.text import TfidfVectorizer\n",
    "from sklearn.svm import LinearSVC\n",
    "from sklearn.externals import joblib\n",
    "import matplotlib.pyplot as plt\n",
    "\n",
    "stopwords = load_stopwords(path.join('data', 'german.txt'))"
   ]
  },
  {
   "cell_type": "code",
   "execution_count": null,
   "metadata": {
    "collapsed": true
   },
   "outputs": [],
   "source": [
    "files = [\n",
    "    path.join('data', 'Archive', 'Spiegel_Politik.txt'),\n",
    "    path.join('data', 'Archive', 'Spiegel_Wirtschaft.txt'),\n",
    "    path.join('data', 'Archive', 'Spiegel_Wissenschaft.txt'),\n",
    "    path.join('data', 'Archive', 'Spiegel_Auto.txt'),\n",
    "    path.join('data', 'Archive', 'Spiegel_Bildung.txt'),\n",
    "    path.join('data', 'Archive', 'Spiegel_Geschichte.txt'),\n",
    "    path.join('data', 'Archive', 'Spiegel_Kultur.txt'),\n",
    "    path.join('data', 'Archive', 'Spiegel_Panorama.txt'),\n",
    "    path.join('data', 'Archive', 'Spiegel_Reise.txt'),\n",
    "    path.join('data', 'Archive', 'Spiegel_Sport.txt'),\n",
    "    path.join('data', 'Archive', 'Spiegel_Technik.txt'),\n",
    "    path.join('data', 'Archive', 'Stern_Politik.txt'),\n",
    "    path.join('data', 'Archive', 'Stern_Panorama.txt'),\n",
    "    path.join('data', 'Archive', 'Stern_Wirtschaft.txt')]\n",
    "tags = [1, 0, 0, 0, 0, 0, 0, 0, 0, 0, 0, 1, 0, 0]"
   ]
  },
  {
   "cell_type": "code",
   "execution_count": null,
   "metadata": {
    "collapsed": true
   },
   "outputs": [],
   "source": [
    "X, y = [], []\n",
    "for file, tag in zip(files, tags):\n",
    "    for doc in FileCorpus(file).doc_token(stopwords=stopwords):\n",
    "        X.append(' '.join(doc))\n",
    "        y.append(tag)\n",
    "\n",
    "df = pd.DataFrame()\n",
    "df['doc'] = X\n",
    "df['tag'] = y"
   ]
  },
  {
   "cell_type": "code",
   "execution_count": null,
   "metadata": {
    "collapsed": true
   },
   "outputs": [],
   "source": [
    "df = df.iloc[np.random.permutation(len(df))]"
   ]
  },
  {
   "cell_type": "code",
   "execution_count": null,
   "metadata": {
    "collapsed": true
   },
   "outputs": [],
   "source": [
    "vectorizer = TfidfVectorizer(min_df=20, max_df=0.5)\n",
    "vectorizer.fit(df['doc'])"
   ]
  },
  {
   "cell_type": "code",
   "execution_count": null,
   "metadata": {
    "collapsed": true
   },
   "outputs": [],
   "source": [
    "training = df[:550000]\n",
    "test = df[550000:]\n",
    "train_tfidf = vectorizer.transform(training['doc'])\n",
    "test_tfidf = vectorizer.transform(test['doc'])"
   ]
  },
  {
   "cell_type": "code",
   "execution_count": null,
   "metadata": {
    "collapsed": true
   },
   "outputs": [],
   "source": [
    "classifier = LinearSVC()\n",
    "classifier.fit(train_tfidf, training['tag'])"
   ]
  },
  {
   "cell_type": "code",
   "execution_count": null,
   "metadata": {
    "collapsed": true
   },
   "outputs": [],
   "source": [
    "classifier.score(test_tfidf, test['tag'])"
   ]
  },
  {
   "cell_type": "code",
   "execution_count": null,
   "metadata": {
    "collapsed": true
   },
   "outputs": [],
   "source": [
    "joblib.dump(vectorizer, path.join('models', 'classifier', 'Vectorizer.pkl'))\n",
    "joblib.dump(classifier, path.join('models', 'classifier', 'Classifier.pkl'))"
   ]
  }
 ],
 "metadata": {
  "kernelspec": {
   "display_name": "Python 3",
   "language": "python",
   "name": "python3"
  },
  "language_info": {
   "codemirror_mode": {
    "name": "ipython",
    "version": 3
   },
   "file_extension": ".py",
   "mimetype": "text/x-python",
   "name": "python",
   "nbconvert_exporter": "python",
   "pygments_lexer": "ipython3",
   "version": "3.5.1"
  }
 },
 "nbformat": 4,
 "nbformat_minor": 0
}
