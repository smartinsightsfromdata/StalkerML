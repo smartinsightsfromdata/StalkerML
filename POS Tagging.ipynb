{
 "cells": [
  {
   "cell_type": "code",
   "execution_count": null,
   "metadata": {
    "collapsed": false
   },
   "outputs": [],
   "source": [
    "import os\n",
    "import os.path as path\n",
    "import treetaggerwrapper\n",
    "from textblob_de import TextBlobDE as TextBlob\n",
    "from pprint import pprint\n",
    "\n",
    "class StreamCorpus(object):\n",
    "    def __init__(self, filename):\n",
    "        self.filename = filename\n",
    "    def __iter__(self):\n",
    "        for document in open(self.filename, encoding='UTF-8'):\n",
    "            yield document\n",
    "            \n",
    "def load_stopwords(filename):\n",
    "    data = ''\n",
    "    with open(filename, 'r', encoding='UTF-8') as f:\n",
    "        data = f.read()\n",
    "    return set(data.split('\\n'))\n",
    "\n",
    "corpus_file = path.join('..', 'Crawler', 'Data', 'Corpus.txt')\n",
    "stopwords_file = path.join('..', 'Crawler', 'Data', 'Stopwords.txt')\n",
    "\n",
    "corpus = StreamCorpus(corpus_file)\n",
    "stopwords = load_stopwords(stopwords_file)\n",
    "\n",
    "tagger = treetaggerwrapper.TreeTagger(TAGLANG='de')"
   ]
  },
  {
   "cell_type": "code",
   "execution_count": null,
   "metadata": {
    "collapsed": false
   },
   "outputs": [],
   "source": [
    "for i, document in enumerate(corpus):\n",
    "    if i is 0:\n",
    "        tagged = tagger.tag_text(document)\n",
    "        tags = treetaggerwrapper.make_tags(tagged)\n",
    "        keywords = [lemma.lower() for word, tag, lemma in tags if tag in set(['NN', 'VVPP', 'ADJD'])]\n",
    "        pprint(set(keywords))"
   ]
  }
 ],
 "metadata": {
  "kernelspec": {
   "display_name": "Python 3",
   "language": "python",
   "name": "python3"
  },
  "language_info": {
   "codemirror_mode": {
    "name": "ipython",
    "version": 3
   },
   "file_extension": ".py",
   "mimetype": "text/x-python",
   "name": "python",
   "nbconvert_exporter": "python",
   "pygments_lexer": "ipython3",
   "version": "3.4.3"
  }
 },
 "nbformat": 4,
 "nbformat_minor": 0
}
