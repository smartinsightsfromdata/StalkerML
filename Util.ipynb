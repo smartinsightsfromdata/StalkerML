{
 "cells": [
  {
   "cell_type": "code",
   "execution_count": null,
   "metadata": {
    "collapsed": true
   },
   "outputs": [],
   "source": [
    "from os import path\n",
    "from corputil import MultiFileCorpus"
   ]
  },
  {
   "cell_type": "code",
   "execution_count": null,
   "metadata": {
    "collapsed": false
   },
   "outputs": [],
   "source": [
    "file1 = path.join('data', 'Corpus_{}.txt'.format('KW44'))\n",
    "file2 = path.join('data', 'Corpus_{}.txt'.format('KW45'))\n",
    "file3 = path.join('data', 'Corpus_{}.txt'.format('KW46'))\n",
    "file4 = path.join('data', 'Corpus_{}.txt'.format('KW47'))\n",
    "\n",
    "corpus = MultiFileCorpus([file1, file2, file3, file4])\n",
    "list_corpus = [sentence for sentence in corpus]\n",
    "\n",
    "print(len(list_corpus) / 4)"
   ]
  }
 ],
 "metadata": {
  "kernelspec": {
   "display_name": "Python 3",
   "language": "python",
   "name": "python3"
  },
  "language_info": {
   "codemirror_mode": {
    "name": "ipython",
    "version": 3
   },
   "file_extension": ".py",
   "mimetype": "text/x-python",
   "name": "python",
   "nbconvert_exporter": "python",
   "pygments_lexer": "ipython3",
   "version": "3.4.3"
  }
 },
 "nbformat": 4,
 "nbformat_minor": 0
}
