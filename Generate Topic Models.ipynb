{
 "cells": [
  {
   "cell_type": "code",
   "execution_count": null,
   "metadata": {
    "collapsed": false
   },
   "outputs": [],
   "source": [
    "from os import path\n",
    "from pprint import pprint\n",
    "from corputil import FileCorpus\n",
    "from gensim.corpora import Dictionary\n",
    "from gensim.models import LdaMulticore\n",
    "from gensim.models.phrases import Phrases"
   ]
  },
  {
   "cell_type": "code",
   "execution_count": null,
   "metadata": {
    "collapsed": false
   },
   "outputs": [],
   "source": [
    "num_topics = 20\n",
    "chunksize, iterations, passes = 500, 500, 20\n",
    "labels = ['KW44', 'KW45', 'KW46', 'KW47', 'KW48', 'KW49']\n",
    "files = [path.join('data', 'Corpus_{}.txt').format(label) for label in labels]\n",
    "output_model = [path.join('models', 'lda', '{}.lda').format(label) for label in labels]\n",
    "output_dict = [path.join('models', 'lda', '{}.dict').format(label) for label in labels]\n",
    "output_mm = [path.join('models', 'lda', '{}.mm').format(label) for label in labels]\n",
    "corpora = [FileCorpus(file) for file in files]\n",
    "\n",
    "def train_lda(train):\n",
    "    corpus = [trigram[bigram[doc]] for doc in train]\n",
    "\n",
    "    dictionary = Dictionary(corpus)\n",
    "    dictionary.filter_extremes()\n",
    "    dictionary.compactify()\n",
    "\n",
    "    mmCorpus = [dictionary.doc2bow(doc) for doc in corpus]\n",
    "    lda = LdaMulticore(mmCorpus, id2word=dictionary, chunksize=chunksize, batch=True,\n",
    "                       num_topics=num_topics, workers=2, passes=passes, iterations=iterations)\n",
    "    return (dictionary, mmCorpus, lda)"
   ]
  },
  {
   "cell_type": "code",
   "execution_count": null,
   "metadata": {
    "collapsed": false
   },
   "outputs": [],
   "source": [
    "bigram = Phrases.load(path.join('models', 'phrase', 'Bigram.phrase'))\n",
    "trigram = Phrases.load(path.join('models', 'phrase', 'Trigram.phrase'))\n",
    "\n",
    "for i, corpus in enumerate(corpora):\n",
    "    dictionary, corpus, model = train_lda(corpus.doc_token(stopwords='german'))\n",
    "    model.save(output_model[i])\n",
    "    dictionary.save(output_dict[i])\n",
    "    corpus.save(output_mm[i])"
   ]
  }
 ],
 "metadata": {
  "kernelspec": {
   "display_name": "Python 3",
   "language": "python",
   "name": "python3"
  },
  "language_info": {
   "codemirror_mode": {
    "name": "ipython",
    "version": 3
   },
   "file_extension": ".py",
   "mimetype": "text/x-python",
   "name": "python",
   "nbconvert_exporter": "python",
   "pygments_lexer": "ipython3",
   "version": "3.4.3"
  }
 },
 "nbformat": 4,
 "nbformat_minor": 0
}
