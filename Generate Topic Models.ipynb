{
 "cells": [
  {
   "cell_type": "code",
   "execution_count": null,
   "metadata": {
    "collapsed": false
   },
   "outputs": [],
   "source": [
    "from time import time\n",
    "from os import path\n",
    "from gensim import corpora, models\n",
    "from gensim.models.phrases import Phrases\n",
    "from corputil import FileCorpus, MultiFileCorpus\n",
    "from corputil.modifiers import to_words_sl, sentence_to_words\n",
    "from pprint import pprint\n",
    "from collections import defaultdict"
   ]
  },
  {
   "cell_type": "code",
   "execution_count": null,
   "metadata": {
    "collapsed": false
   },
   "outputs": [],
   "source": [
    "label = 'KW45'\n",
    "num_topics = 10\n",
    "# chunksize, iterations, passes = 500, 500, 10\n",
    "chunksize, iterations, passes = 200, 500, 20\n",
    "file = path.join('data', 'Corpus_{}.txt'.format(label))\n",
    "\n",
    "train = FileCorpus(file, modifier=to_words_sl)\n",
    "\n",
    "def train_lda(train):\n",
    "    corpus = [trigram[bigram[doc]] for doc in train]\n",
    "\n",
    "    dictionary = corpora.Dictionary(corpus)\n",
    "    dictionary.filter_extremes()\n",
    "    dictionary.compactify()\n",
    "\n",
    "    mmCorpus = [dictionary.doc2bow(doc) for doc in corpus]\n",
    "    lda = models.LdaMulticore(mmCorpus, id2word=dictionary, chunksize=chunksize, batch=True,\n",
    "                              num_topics=num_topics, workers=2, passes=passes, iterations=iterations)\n",
    "    return lda"
   ]
  },
  {
   "cell_type": "code",
   "execution_count": null,
   "metadata": {
    "collapsed": false
   },
   "outputs": [],
   "source": [
    "bigram = Phrases.load(path.join('models', 'Bigram.phrase'))\n",
    "trigram = Phrases.load(path.join('models', 'Trigram.phrase'))\n",
    "model = train_lda(train)"
   ]
  },
  {
   "cell_type": "code",
   "execution_count": null,
   "metadata": {
    "collapsed": false,
    "scrolled": false
   },
   "outputs": [],
   "source": [
    "for topic in model.print_topics(num_topics):\n",
    "    pprint(topic)"
   ]
  }
 ],
 "metadata": {
  "kernelspec": {
   "display_name": "Python 3",
   "language": "python",
   "name": "python3"
  },
  "language_info": {
   "codemirror_mode": {
    "name": "ipython",
    "version": 3
   },
   "file_extension": ".py",
   "mimetype": "text/x-python",
   "name": "python",
   "nbconvert_exporter": "python",
   "pygments_lexer": "ipython3",
   "version": "3.4.3"
  }
 },
 "nbformat": 4,
 "nbformat_minor": 0
}
