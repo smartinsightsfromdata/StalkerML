{
 "cells": [
  {
   "cell_type": "code",
   "execution_count": 2,
   "metadata": {
    "collapsed": false
   },
   "outputs": [],
   "source": [
    "from time import time\n",
    "from os import path\n",
    "from gensim import corpora, models\n",
    "from gensim.models.phrases import Phrases\n",
    "from corputil import FileCorpus, MultiFileCorpus\n",
    "from corputil.modifiers import to_words_sl, sentence_to_words\n",
    "from pprint import pprint\n",
    "from collections import defaultdict"
   ]
  },
  {
   "cell_type": "code",
   "execution_count": null,
   "metadata": {
    "collapsed": false
   },
   "outputs": [],
   "source": [
    "label = 'KW44'\n",
    "num_topics = 50\n",
    "file1 = path.join('data', 'Corpus_{}_{}.txt'.format(label, 'P'))\n",
    "file2 = path.join('data', 'Corpus_{}_{}.txt'.format(label, 'R'))\n",
    "\n",
    "train_corpus_p = FileCorpus(file1, modifier=to_words_sl)\n",
    "train_corpus_r = FileCorpus(file2, modifier=to_words_sl)\n",
    "train_corpus_b = MultiFileCorpus([file1, file2], modifier=to_words_sl)\n",
    "\n",
    "def train_lda(train):\n",
    "    corpus = [bigram[doc] for doc in train]\n",
    "\n",
    "    dictionary = corpora.Dictionary(corpus)\n",
    "    dictionary.filter_extremes()\n",
    "    dictionary.compactify()\n",
    "\n",
    "    mmCorpus = [dictionary.doc2bow(doc) for doc in corpus]\n",
    "    lda = models.LdaMulticore(mmCorpus, id2word=dictionary, chunksize=500, batch=True, \n",
    "                              num_topics=num_topics, workers=2, passes=10, iterations=500)\n",
    "    print(lda.print_topics(50))"
   ]
  },
  {
   "cell_type": "code",
   "execution_count": null,
   "metadata": {
    "collapsed": false
   },
   "outputs": [],
   "source": [
    "bigram = Phrases.load(path.join('models', 'Bigram.phrase'))\n",
    "train_lda(train_corpus_p)\n",
    "print('####################################')\n",
    "train_lda(train_corpus_r)\n",
    "print('####################################')\n",
    "train_lda(train_corpus_b)"
   ]
  },
  {
   "cell_type": "code",
   "execution_count": null,
   "metadata": {
    "collapsed": false
   },
   "outputs": [],
   "source": [
    "# clean_topics = []\n",
    "# for topic_id, topics in lda.print_topics(40):\n",
    "#     topic_list = []\n",
    "#     for topic in topics.split('+'):\n",
    "#         topic_list.append(tuple(topic.strip().split('*')))\n",
    "#     clean_topics.append(topic_list)\n",
    "\n",
    "# flat = [l for inner in clean_topics for l in inner]\n",
    "# trends = defaultdict(float)\n",
    "# for p, trend in flat:\n",
    "#     trends[trend] += float(p)\n",
    "# top_trends = sorted(trends.items(), key=lambda item: -item[1])\n",
    "# pprint(top_trends)"
   ]
  }
 ],
 "metadata": {
  "kernelspec": {
   "display_name": "Python 3",
   "language": "python",
   "name": "python3"
  },
  "language_info": {
   "codemirror_mode": {
    "name": "ipython",
    "version": 3
   },
   "file_extension": ".py",
   "mimetype": "text/x-python",
   "name": "python",
   "nbconvert_exporter": "python",
   "pygments_lexer": "ipython3",
   "version": "3.4.3"
  }
 },
 "nbformat": 4,
 "nbformat_minor": 0
}
