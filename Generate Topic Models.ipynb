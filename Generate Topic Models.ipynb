{
 "cells": [
  {
   "cell_type": "code",
   "execution_count": 22,
   "metadata": {
    "collapsed": false
   },
   "outputs": [],
   "source": [
    "from time import time\n",
    "from os import path\n",
    "from gensim import corpora, models\n",
    "from gensim.models.phrases import Phrases\n",
    "from corputil import FileCorpus, MultiFileCorpus\n",
    "from corputil.modifiers import to_words_sl, sentence_to_words\n",
    "from pprint import pprint\n",
    "from collections import defaultdict"
   ]
  },
  {
   "cell_type": "code",
   "execution_count": 23,
   "metadata": {
    "collapsed": false
   },
   "outputs": [],
   "source": [
    "label = 'KW45'\n",
    "num_topics = 15\n",
    "# chunksize, iterations, passes = 500, 500, 10\n",
    "chunksize, iterations, passes = 200, 500, 20\n",
    "file = path.join('data', 'Corpus_{}.txt'.format(label))\n",
    "\n",
    "train = FileCorpus(file, modifier=to_words_sl)\n",
    "\n",
    "def train_lda(train):\n",
    "    corpus = [trigram[bigram[doc]] for doc in train]\n",
    "\n",
    "    dictionary = corpora.Dictionary(corpus)\n",
    "    dictionary.filter_extremes()\n",
    "    dictionary.compactify()\n",
    "\n",
    "    mmCorpus = [dictionary.doc2bow(doc) for doc in corpus]\n",
    "    lda = models.LdaMulticore(mmCorpus, id2word=dictionary, chunksize=chunksize, batch=True,\n",
    "                              num_topics=num_topics, workers=2, passes=passes, iterations=iterations)\n",
    "    return (dictionary, mmCorpus, lda)"
   ]
  },
  {
   "cell_type": "code",
   "execution_count": 24,
   "metadata": {
    "collapsed": false
   },
   "outputs": [],
   "source": [
    "bigram = Phrases.load(path.join('models', 'Bigram.phrase'))\n",
    "trigram = Phrases.load(path.join('models', 'Trigram.phrase'))\n",
    "dictionary, corpus, model = train_lda(train)"
   ]
  },
  {
   "cell_type": "code",
   "execution_count": 25,
   "metadata": {
    "collapsed": false,
    "scrolled": false
   },
   "outputs": [
    {
     "name": "stdout",
     "output_type": "stream",
     "text": [
      "(0,\n",
      " '0.002*sieg + 0.002*spiel + 0.002*pegida + 0.002*polizei + 0.002*platz + '\n",
      " '0.001*saison + 0.001*team + 0.001*anhänger + 0.001*tor + 0.001*forscher')\n",
      "(1,\n",
      " '0.005*syrien + 0.004*polizei + 0.003*is + 0.003*kunden + 0.002*irak + '\n",
      " '0.002*eu + 0.002*abgeordneten + 0.002*entwurf + 0.002*sterbehilfe + '\n",
      " '0.002*luftangriffe')\n",
      "(2,\n",
      " '0.018*flüchtlinge + 0.005*flüchtlingen + 0.004*berlin + 0.004*zahl + '\n",
      " '0.003*grenze + 0.003*türkei + 0.003*eu + 0.003*europa + 0.003*sprecher + '\n",
      " '0.003*österreich')\n",
      "(3,\n",
      " '0.007*absturz + 0.005*ägypten + 0.005*bord + 0.005*bombe + 0.004*sinai + '\n",
      " '0.004*russland + 0.004*flüge + 0.004*is + 0.003*maschine + '\n",
      " '0.003*großbritannien')\n",
      "(4,\n",
      " '0.007*unternehmen + 0.003*google + 0.002*frauen + 0.002*us + 0.002*bond + '\n",
      " '0.002*kunden + 0.002*internet + 0.002*film + 0.002*gerät + 0.002*projekt')\n",
      "(5,\n",
      " '0.006*dfb + 0.005*niersbach + 0.003*staatsanwaltschaft + '\n",
      " '0.002*ermittlungen + 0.002*zwanziger + 0.002*unternehmen + 0.002*bachmann '\n",
      " '+ 0.002*schmidt + 0.002*geld + 0.002*facebook')\n",
      "(6,\n",
      " '0.004*flugzeug + 0.004*maschine + 0.004*absturz + 0.003*airbus + '\n",
      " '0.003*spieler + 0.002*usa + 0.002*spiel + 0.002*bord + 0.002*kunden + '\n",
      " '0.002*konzern')\n",
      "(7,\n",
      " '0.005*polizei + 0.003*stadt + 0.002*rossi + 0.002*flüchtlinge + '\n",
      " '0.002*platz + 0.002*mutter + 0.001*folgen + 0.001*kinder + 0.001*vater + '\n",
      " '0.001*geld')\n",
      "(8,\n",
      " '0.018*lufthansa + 0.007*ufo + 0.005*flugbegleiter + 0.005*streik + '\n",
      " '0.004*streiks + 0.004*passagiere + 0.004*gewerkschaft + 0.003*frankfurt + '\n",
      " '0.003*betroffen + 0.003*polizei')\n",
      "(9,\n",
      " '0.014*flüchtlinge + 0.003*flüchtlingen + 0.003*schweden + '\n",
      " '0.003*asylbewerber + 0.003*kinder + 0.003*berlin + 0.002*polizei + '\n",
      " '0.002*geld + 0.002*journalisten + 0.002*sprecher')\n",
      "(10,\n",
      " '0.021*flüchtlinge + 0.008*transitzonen + 0.007*merkel + 0.006*flüchtlingen '\n",
      " '+ 0.005*seehofer + 0.005*koalition + 0.005*flüchtlingskrise + '\n",
      " '0.004*treffen + 0.004*asylbewerber + 0.004*de_maizière')\n",
      "(11,\n",
      " '0.006*türkei + 0.005*akp + 0.004*wahl + 0.004*partei + 0.004*regierung + '\n",
      " '0.003*eu + 0.003*erdogan + 0.003*parlament + 0.002*stimmen + '\n",
      " '0.002*flüchtlinge')\n",
      "(12,\n",
      " '0.003*mutter + 0.003*spiel + 0.003*bayern + 0.002*buch + 0.002*familie + '\n",
      " '0.002*tor + 0.002*ball + 0.002*mannschaft + 0.002*usa + 0.002*serie')\n",
      "(13,\n",
      " '0.006*flüchtlinge + 0.004*kinder + 0.003*sterbehilfe + 0.003*ärzte + '\n",
      " '0.002*bundestag + 0.002*partei + 0.002*recht + 0.002*gesetz + '\n",
      " '0.002*familiennachzug + 0.002*syrien')\n",
      "(14,\n",
      " '0.015*vw + 0.011*volkswagen + 0.006*autos + 0.005*usa + 0.004*betroffen + '\n",
      " '0.004*fahrzeuge + 0.004*unternehmen + 0.004*porsche + 0.003*konzern + '\n",
      " '0.003*epa')\n",
      "-9197625.31428\n"
     ]
    }
   ],
   "source": [
    "for topic in model.print_topics(num_topics):\n",
    "    pprint(topic)\n",
    "    \n",
    "print(model.bound(corpus))"
   ]
  }
 ],
 "metadata": {
  "kernelspec": {
   "display_name": "Python 3",
   "language": "python",
   "name": "python3"
  },
  "language_info": {
   "codemirror_mode": {
    "name": "ipython",
    "version": 3
   },
   "file_extension": ".py",
   "mimetype": "text/x-python",
   "name": "python",
   "nbconvert_exporter": "python",
   "pygments_lexer": "ipython3",
   "version": "3.4.3"
  }
 },
 "nbformat": 4,
 "nbformat_minor": 0
}
