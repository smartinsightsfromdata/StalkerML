{
 "cells": [
  {
   "cell_type": "code",
   "execution_count": 1,
   "metadata": {
    "collapsed": true
   },
   "outputs": [],
   "source": [
    "from os import path\n",
    "from corputil import FileCorpus\n",
    "from gensim.models.phrases import Phrases"
   ]
  },
  {
   "cell_type": "code",
   "execution_count": 2,
   "metadata": {
    "collapsed": true
   },
   "outputs": [],
   "source": [
    "labels = ['KW44', 'KW45', 'KW46', 'KW47', 'KW48', 'KW49']\n",
    "files = [path.join('data', 'Corpus_{}.txt').format(label) for label in labels]\n",
    "corpus = FileCorpus(files[0], files[1], files[2], files[3], files[4], files[5])\n",
    "list_corpus = [sentence for sentence in corpus.sentences_token()]"
   ]
  },
  {
   "cell_type": "code",
   "execution_count": 3,
   "metadata": {
    "collapsed": true
   },
   "outputs": [],
   "source": [
    "bigram = Phrases(list_corpus)\n",
    "trigram = Phrases(bigram[list_corpus])\n",
    "bigram.save(path.join('models', 'phrase', 'Bigram.phrase'))\n",
    "trigram.save(path.join('models', 'phrase','Trigram.phrase'))"
   ]
  }
 ],
 "metadata": {
  "kernelspec": {
   "display_name": "Python 3",
   "language": "python",
   "name": "python3"
  },
  "language_info": {
   "codemirror_mode": {
    "name": "ipython",
    "version": 3
   },
   "file_extension": ".py",
   "mimetype": "text/x-python",
   "name": "python",
   "nbconvert_exporter": "python",
   "pygments_lexer": "ipython3",
   "version": "3.4.3"
  }
 },
 "nbformat": 4,
 "nbformat_minor": 0
}
