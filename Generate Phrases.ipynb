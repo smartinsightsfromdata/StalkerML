{
 "cells": [
  {
   "cell_type": "code",
   "execution_count": 2,
   "metadata": {
    "collapsed": true
   },
   "outputs": [],
   "source": [
    "from os import path\n",
    "from gensim.models.phrases import Phrases\n",
    "from corputil import MultiFileCorpus\n",
    "from corputil.modifiers import sentence_to_words"
   ]
  },
  {
   "cell_type": "code",
   "execution_count": 3,
   "metadata": {
    "collapsed": true
   },
   "outputs": [],
   "source": [
    "file1 = path.join('data', 'Corpus_{}_{}.txt'.format('KW44', 'P'))\n",
    "file2 = path.join('data', 'Corpus_{}_{}.txt'.format('KW45', 'P'))\n",
    "file3 = path.join('data', 'Corpus_{}_{}.txt'.format('KW46', 'P'))\n",
    "file4 = path.join('data', 'Corpus_{}_{}.txt'.format('KW47', 'P'))\n",
    "\n",
    "corpus = MultiFileCorpus([file1, file2, file3, file4], modifier=sentence_to_words)"
   ]
  },
  {
   "cell_type": "code",
   "execution_count": 4,
   "metadata": {
    "collapsed": true
   },
   "outputs": [],
   "source": [
    "bigram = Phrases(corpus)\n",
    "bigram.save(path.join('models', 'Bigram.phrase'))"
   ]
  }
 ],
 "metadata": {
  "kernelspec": {
   "display_name": "Python 3",
   "language": "python",
   "name": "python3"
  },
  "language_info": {
   "codemirror_mode": {
    "name": "ipython",
    "version": 3
   },
   "file_extension": ".py",
   "mimetype": "text/x-python",
   "name": "python",
   "nbconvert_exporter": "python",
   "pygments_lexer": "ipython3",
   "version": "3.4.3"
  }
 },
 "nbformat": 4,
 "nbformat_minor": 0
}
