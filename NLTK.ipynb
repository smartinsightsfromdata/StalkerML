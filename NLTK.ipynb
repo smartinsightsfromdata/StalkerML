{
 "cells": [
  {
   "cell_type": "code",
   "execution_count": 6,
   "metadata": {
    "collapsed": false
   },
   "outputs": [
    {
     "data": {
      "text/plain": [
       "[('Heute', 'RB'),\n",
       " ('ist', 'VB'),\n",
       " ('der', 'DT'),\n",
       " ('3.', 'LS'),\n",
       " ('Mai', 'NN'),\n",
       " ('2014', 'CD'),\n",
       " ('und', 'CC'),\n",
       " ('Dr.', 'NN'),\n",
       " ('Meier', 'NN'),\n",
       " ('feiert', 'NN'),\n",
       " ('seinen', 'PRP$'),\n",
       " ('43.', 'CD'),\n",
       " ('Geburtstag', 'NN'),\n",
       " ('Ich', 'PRP'),\n",
       " ('muss', 'VB'),\n",
       " ('unbedingt', 'RB'),\n",
       " ('daran', 'RB'),\n",
       " ('denken', 'VB'),\n",
       " ('Mehl', 'NN'),\n",
       " ('usw.', 'IN'),\n",
       " ('für', 'IN'),\n",
       " ('einen', 'DT'),\n",
       " ('Kuchen', 'JJ'),\n",
       " ('einzukaufen', 'NN'),\n",
       " ('Aber', 'CC'),\n",
       " ('leider', 'VBN'),\n",
       " ('habe', 'VB'),\n",
       " ('ich', 'PRP'),\n",
       " ('nur', 'RB'),\n",
       " ('noch', 'IN'),\n",
       " ('EUR', 'NN'),\n",
       " ('3.50', 'CD'),\n",
       " ('in', 'IN'),\n",
       " ('meiner', 'JJ'),\n",
       " ('Brieftasche', 'NN')]"
      ]
     },
     "execution_count": 6,
     "metadata": {},
     "output_type": "execute_result"
    }
   ],
   "source": [
    "from textblob_de import TextBlobDE as TextBlob\n",
    "\n",
    "text = '''Heute ist der 3. Mai 2014 und Dr. Meier feiert seinen 43. Geburtstag. \n",
    "Ich muss unbedingt daran denken, Mehl, usw. für einen Kuchen einzukaufen. \n",
    "Aber leider habe ich nur noch EUR 3.50 in meiner Brieftasche.'''\n",
    "\n",
    "blob = TextBlob(text)\n",
    "blob.sentences\n",
    "blob.tokens\n",
    "blob.tags"
   ]
  }
 ],
 "metadata": {
  "kernelspec": {
   "display_name": "Python 3",
   "language": "python",
   "name": "python3"
  },
  "language_info": {
   "codemirror_mode": {
    "name": "ipython",
    "version": 3
   },
   "file_extension": ".py",
   "mimetype": "text/x-python",
   "name": "python",
   "nbconvert_exporter": "python",
   "pygments_lexer": "ipython3",
   "version": "3.4.3"
  }
 },
 "nbformat": 4,
 "nbformat_minor": 0
}
