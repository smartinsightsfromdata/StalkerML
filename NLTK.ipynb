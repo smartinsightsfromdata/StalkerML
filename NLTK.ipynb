{
 "cells": [
  {
   "cell_type": "code",
   "execution_count": 18,
   "metadata": {
    "collapsed": false
   },
   "outputs": [
    {
     "name": "stdout",
     "output_type": "stream",
     "text": [
      "['Angela', 'Merkel', 'Ist', 'Deutschland', 'Erst', 'Weiblich', 'Bundeskanzlerin', 'Si', 'Ist', 'Di', 'Nachfolgerin', 'Vo', 'Helmut', 'Kohl']\n",
      "[('Angela', 'NE'), ('Merkel', 'NE'), ('ist', 'VAFIN'), ('Deutschlands', 'NE'), ('erste', 'ADJA'), ('weibliche', 'ADJA'), ('Bundeskanzlerin', 'NN'), ('Sie', 'PPER'), ('ist', 'VAFIN'), ('die', 'ART'), ('Nachfolgerin', 'NN'), ('von', 'APPR'), ('Helmut', 'NE'), ('Kohl', 'NE')]\n",
      "[('Angela', 'NNP'), ('Merkel', 'NNP'), ('sein', 'VB'), ('Deutschlands', 'NNP'), ('erst', 'JJ'), ('weiblich', 'JJ'), ('Bundeskanzlerin', 'NN'), ('Sie', 'PRP'), ('sein', 'VB'), ('die', 'DT'), ('Nachfolgerin', 'NN'), ('von', 'IN'), ('Helmut', 'NNP'), ('Kohl', 'NNP')]\n"
     ]
    }
   ],
   "source": [
    "import os\n",
    "import os.path as path\n",
    "import nltk\n",
    "from textblob_de import TextBlobDE as TextBlob\n",
    "from textblob_de.lemmatizers import PatternParserLemmatizer\n",
    "from nltk.tag import StanfordNERTagger, StanfordPOSTagger\n",
    "\n",
    "os.environ['JAVAHOME'] = \"C:/Development/Java/bin\"\n",
    "\n",
    "corpus_file = path.join('..', 'Crawler', 'Data', 'Corpus.txt')\n",
    "stopwords_file = path.join('..', 'Crawler', 'Data', 'Stopwords.txt')\n",
    "\n",
    "pos_model = path.join('Models', 'Stanford', 'german-hgc.tagger')\n",
    "pos_jar = path.join('Dependencies', 'stanford-postagger.jar')\n",
    "ner_model = path.join('Models', 'Stanford', 'german.hgc_175m_600.crf.ser.gz')\n",
    "ner_jar = path.join('Dependencies', 'stanford-ner.jar')\n",
    "\n",
    "lemma = PatternParserLemmatizer()\n",
    "pos = StanfordPOSTagger(pos_model, pos_jar, encoding = 'UTF-8')\n",
    "ner = StanfordNERTagger(ner_model, ner_jar, encoding = 'UTF-8')\n",
    "\n",
    "test = 'Angela Merkel ist Deutschlands erste weibliche Bundeskanzlerin Sie ist die Nachfolgerin von Helmut Kohl'\n",
    "blob = TextBlob(test)\n",
    "print([word.singularize() for word in blob.words])\n",
    "print(pos.tag(test.split()))\n",
    "print(lemma.lemmatize(test))\n",
    "# with open(corpus_file, encoding='UTF-8') as f:\n",
    "#     for document in f:\n",
    "#         text = lemma.lemmatize(document)\n",
    "#         keywords = [word for word, tag in text if tag in set(['NN'])]\n",
    "#         print(keywords)"
   ]
  }
 ],
 "metadata": {
  "kernelspec": {
   "display_name": "Python 3",
   "language": "python",
   "name": "python3"
  },
  "language_info": {
   "codemirror_mode": {
    "name": "ipython",
    "version": 3
   },
   "file_extension": ".py",
   "mimetype": "text/x-python",
   "name": "python",
   "nbconvert_exporter": "python",
   "pygments_lexer": "ipython3",
   "version": "3.4.3"
  }
 },
 "nbformat": 4,
 "nbformat_minor": 0
}
