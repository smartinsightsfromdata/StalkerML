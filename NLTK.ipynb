{
 "cells": [
  {
   "cell_type": "code",
   "execution_count": null,
   "metadata": {
    "collapsed": false
   },
   "outputs": [],
   "source": [
    "import os\n",
    "import os.path as path\n",
    "from textblob_de import PatternParser, PatternParserLemmatizer, Word, TextBlobDE as TextBlob\n",
    "from nltk.tag import StanfordNERTagger, StanfordPOSTagger\n",
    "\n",
    "os.environ['JAVAHOME'] = \"C:/Development/Java/bin\"\n",
    "\n",
    "class StreamCorpus(object):\n",
    "    def __init__(self, filename):\n",
    "        self.filename = filename\n",
    "    def __iter__(self):\n",
    "        for document in open(self.filename, encoding='UTF-8'):\n",
    "            yield document\n",
    "            \n",
    "def load_stopwords(filename):\n",
    "    data = ''\n",
    "    with open(filename, 'r', encoding='UTF-8') as f:\n",
    "        data = f.read()\n",
    "    return set(data.split('\\n'))\n",
    "\n",
    "corpus_file = path.join('..', 'Crawler', 'Data', 'Corpus.txt')\n",
    "stopwords_file = path.join('..', 'Crawler', 'Data', 'Stopwords.txt')\n",
    "\n",
    "pos_model = path.join('Models', 'Stanford', 'german-hgc.tagger')\n",
    "pos_jar = path.join('Dependencies', 'stanford-postagger.jar')\n",
    "ner_model = path.join('Models', 'Stanford', 'german.hgc_175m_600.crf.ser.gz')\n",
    "ner_jar = path.join('Dependencies', 'stanford-ner.jar')\n",
    "\n",
    "lemma = PatternParserLemmatizer()\n",
    "pos = StanfordPOSTagger(pos_model, pos_jar, encoding = 'UTF-8')\n",
    "ner = StanfordNERTagger(ner_model, ner_jar, encoding = 'UTF-8')\n",
    "\n",
    "corpus = StreamCorpus(corpus_file)\n",
    "stopwords = load_stopwords(stopwords_file)"
   ]
  },
  {
   "cell_type": "code",
   "execution_count": 100,
   "metadata": {
    "collapsed": false
   },
   "outputs": [
    {
     "name": "stdout",
     "output_type": "stream",
     "text": [
      "['gelästert', 'millennium-gau', 'börsencrash', 'dax', 'jahr', 'rekordhoch', 'prozent', 'plus', 'schnitt', 'optimist', 'erwartet', 'sparbuchbesitzer', 'blass', 'neid', 'aktie', 'dax', 'mal', 'folge', 'gassenhauer', 'glücksgriff', 'preises', 'verkauft', 'zugekauft', 'börsenbilanz', 'blick', 'macken', 'schönheitsfehler', 'gedauert', 'dax', 'nemax', 'm-dax', 'jahr', 'touren', 'horror-monat', 'oktober', 'index', 'flügel', 'schönheitsfehler', 'anstieg', 'treibsätzen', 'dax', 'aufschwung', 'rede', 'chancen', 'jahr', 'papiere', 'nachholbedarf', 'autowerte', 'chemiepapiere', 'dritter', 'schönheitsfehler', 'umsatz', 'börsen', 'jahr', 'rekordstände', 'gesunken', 'monat', 'dezember', 'jahresbeginn', 'monat', 'januar', 'börsenjahr', 'beginn', 'jahres', 'vorjahr', 'kapital', 'liquidität', 'kursperspektiven', 'plus', 'wirtschaftswachstum', 'mischung', 'indices', 'kurse', 'jahr', 'neu-emissionen', 'unternehmen', 'börse', 'aktien', 'wert', 'milliarden', 'mark', 'volk', 'mittelpunkt', 'aktien', 'menschen', 'börsenjahr', 'geprägt', 'liste', 'unternehmer', 'politiker', 'mann', 'börse', 'aufatmen', 'brocken', 'hingeworfen', 'geschafft', 'politiker', 'minuten', 'dax', 'handelstag', 'rücktritt', 'punkte', 'name', 'börsenjahres', 'gekannt', 'brötchen', 'bäckerei-kette', 'bäcker', 'börse', 'jahr', 'brötchen', 'dax-werten', 'geschlagen', 'handys', 'software', 'autos', 'chemie', 'aktie', 'prozent', 'mannesmann-ergebnis', 'stichwort', 'namen', 'börsenwort', 'jahres', 'übernahme', 'brite', 'chef', 'tweed-jacket', 'hornbrille', 'kassenwart', 'sparclub', 'übernahmeversuch', 'mannesmann', 'coup', 'jahres', 'gestartet', 'ausblick', 'aktienmarkt', 'aktionär', 'appetitanreger', 'anleger', 'jahr', 'menge', 'namen', 'kurszettel', 't-aktie', 'p-aktie', 'herbst', 'börse', 'wort', 'brüssel', 'gesprochen', 'gang', 'parkett', 'börsengang', 'börsengeschichte', 'briefträger', 'logistikunternehmen', 'aufgestellt', 'musterkonzern', 'beschäftigte', 'jahren', 'prozent', 'umsatz', 'börsengang', 'jahr', 'namen', 'infineon', 'halbleitertochter', 'shooting-star', 'unternehmen', 'dax', 'jahr', 'tal', 'vergessenen', 'herausgeklettert', 'kraft', 'blick', 'boom-branchen', 'börsenjahres', 'zugpferde', 'internet', 'software', 'beobachtung', 'internetwerte', 'hierzulande', 'musterbeispiel', 'aktie', 'broad', 'vision', 'laden', 'handel', 'internet', 'prozent', 'wertsteigerung', 'jahr', 'visitenkarte', 'internet-wertes', 'markt', 'tränen', 'augen', 'branche', 'medienwerte', 'jahr', 'aktionäre', 'beispiel', 'rtv-family', 'schlappe', 'prozent', 'aktie', 'erstnotierung', 'juni', 'jahres', 'zyklikern', 'branchen', 'autobauer', 'chemie', 'pharmatitel', 'telekommunikation', 'handys', 'stichwort', 'klassikern', 'stichwort', 'wall-street', 'jahr', 'prozent', 'plus', 'dax', 'nastaq', 'jahren', 'kurse', 'schnitt', 'prozent', 'analysten', 'kurs', 'börsenjahr']\n",
      "236\n"
     ]
    }
   ],
   "source": [
    "for i, document in enumerate(corpus):\n",
    "    if i is 11:\n",
    "        text = TextBlob(document).words\n",
    "        entity_tag = ner.tag(text)\n",
    "        pos_tag = pos.tag(text)\n",
    "        entities = [word for word, tag in entity_tag if tag not in set(['O', 'I-MISC'])]\n",
    "        keywords = [word.lower() for word, tag in pos_tag if tag in set(['NN', 'NE', 'VVPP']) and word not in set(entities)]\n",
    "        print(keywords)\n",
    "        print(len(keywords))"
   ]
  }
 ],
 "metadata": {
  "kernelspec": {
   "display_name": "Python 3",
   "language": "python",
   "name": "python3"
  },
  "language_info": {
   "codemirror_mode": {
    "name": "ipython",
    "version": 3
   },
   "file_extension": ".py",
   "mimetype": "text/x-python",
   "name": "python",
   "nbconvert_exporter": "python",
   "pygments_lexer": "ipython3",
   "version": "3.4.3"
  }
 },
 "nbformat": 4,
 "nbformat_minor": 0
}
