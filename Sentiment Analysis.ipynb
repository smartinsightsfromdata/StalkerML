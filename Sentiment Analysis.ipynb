{
 "cells": [
  {
   "cell_type": "code",
   "execution_count": 19,
   "metadata": {
    "collapsed": false
   },
   "outputs": [],
   "source": [
    "import os.path as path\n",
    "import pandas as pd\n",
    "from bs4 import BeautifulSoup\n",
    "import re\n",
    "from nltk.corpus import stopwords\n",
    "\n",
    "DIR = path.join('data')\n",
    "ltrain = path.join(DIR, 'labeledTrainData.tsv')\n",
    "stop = set(stopwords.words('english'))\n",
    "\n",
    "train = pd.read_csv(ltrain, header=0, delimiter='\\t', quoting=3)\n",
    "\n",
    "def review_to_words(raw_review):\n",
    "    text = BeautifulSoup(raw_review).text\n",
    "    letters_only = re.sub(r'[^a-zA-Z]', ' ', text)\n",
    "    words = letters_only.lower().split()\n",
    "    words = [w for w in words if not w in stop]\n",
    "    return ' '.join(words)\n",
    "\n",
    "num_reviews = len(train['review'])\n",
    "reviews = []\n",
    "\n",
    "for i in range(0, num_reviews):\n",
    "    reviews.append(review_to_words(train['review'][i]))"
   ]
  },
  {
   "cell_type": "code",
   "execution_count": 23,
   "metadata": {
    "collapsed": false
   },
   "outputs": [
    {
     "name": "stdout",
     "output_type": "stream",
     "text": [
      "(25000, 5000)\n"
     ]
    }
   ],
   "source": [
    "from sklearn.feature_extraction.text import CountVectorizer\n",
    "\n",
    "vectorizer = CountVectorizer(analyzer= 'word', tokenizer = None, preprocessor = None, stop_words = None, max_features = 5000)\n",
    "train_features = vectorizer.fit_transform(reviews)\n",
    "train_features = train_features.toarray()\n",
    "print(train_features.shape)"
   ]
  },
  {
   "cell_type": "code",
   "execution_count": 25,
   "metadata": {
    "collapsed": false
   },
   "outputs": [],
   "source": [
    "vocab = vectorizer.get_feature_names()\n",
    "\n",
    "from sklearn.ensemble import RandomForestClassifier\n",
    "\n",
    "forest = RandomForestClassifier(n_estimators = 100)\n",
    "forest = forest.fit(train_features, train['sentiment'])"
   ]
  },
  {
   "cell_type": "code",
   "execution_count": 26,
   "metadata": {
    "collapsed": true
   },
   "outputs": [],
   "source": [
    "ltest = path.join(DIR, 'testData.tsv')\n",
    "test = pd.read_csv(ltest, header=0, delimiter='\\t', quoting=3)\n",
    "\n",
    "num_test = len(test['review'])\n",
    "tests = []\n",
    "\n",
    "for i in range(0, num_reviews):\n",
    "    tests.append(review_to_words(test['review'][i]))\n",
    "    \n",
    "test_features = vectorizer.transform(tests)\n",
    "test_features = test_features.toarray()\n",
    "\n",
    "result = forest.predict(test_features)\n",
    "\n",
    "output = pd.DataFrame(data={'id':test['id'], 'sentiment': result})\n",
    "output.to_csv('BoW_Model.csv', index=False, quoting=3)"
   ]
  }
 ],
 "metadata": {
  "kernelspec": {
   "display_name": "Python 3",
   "language": "python",
   "name": "python3"
  },
  "language_info": {
   "codemirror_mode": {
    "name": "ipython",
    "version": 3
   },
   "file_extension": ".py",
   "mimetype": "text/x-python",
   "name": "python",
   "nbconvert_exporter": "python",
   "pygments_lexer": "ipython3",
   "version": "3.4.3"
  }
 },
 "nbformat": 4,
 "nbformat_minor": 0
}
