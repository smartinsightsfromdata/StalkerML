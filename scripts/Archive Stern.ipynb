{
 "cells": [
  {
   "cell_type": "code",
   "execution_count": 14,
   "metadata": {
    "collapsed": true
   },
   "outputs": [],
   "source": [
    "import sqlite3\n",
    "import logging\n",
    "import requests\n",
    "from requests.exceptions import RequestException\n",
    "import pandas as pd\n",
    "import datetime as dt\n",
    "from pprint import pprint\n",
    "from bs4 import BeautifulSoup\n",
    "from os import path\n",
    "import time"
   ]
  },
  {
   "cell_type": "code",
   "execution_count": 15,
   "metadata": {
    "collapsed": true
   },
   "outputs": [],
   "source": [
    "logger = logging.getLogger()\n",
    "logger.setLevel(logging.ERROR)\n",
    "fh = logging.FileHandler(path.join('..', 'logs', 'stern_crawler.log'))\n",
    "fh.setLevel(logging.ERROR)\n",
    "formatter = logging.Formatter('%(asctime)s - %(name)s - %(levelname)s - %(message)s')\n",
    "fh.setFormatter(formatter)\n",
    "logger.addHandler(fh)"
   ]
  },
  {
   "cell_type": "code",
   "execution_count": 16,
   "metadata": {
    "collapsed": true
   },
   "outputs": [],
   "source": [
    "db_file = path.join('..', '..', 'Crawler', 'data', 'archive_stern.sqlite')\n",
    "conn = sqlite3.connect(db_file)\n",
    "cursor = conn.cursor()\n",
    "\n",
    "sql_insert = 'INSERT INTO Stern (title, date, tag, url, html) VALUES (?, ?, ?, ?, ?)'"
   ]
  },
  {
   "cell_type": "code",
   "execution_count": 17,
   "metadata": {
    "collapsed": false
   },
   "outputs": [],
   "source": [
    "def generate_date(datestring):\n",
    "    if datestring:\n",
    "        return dt.datetime.strptime(datestring, '%Y-%m-%d %H:%M')\n",
    "    else:\n",
    "        return None"
   ]
  },
  {
   "cell_type": "code",
   "execution_count": 18,
   "metadata": {
    "collapsed": false
   },
   "outputs": [],
   "source": [
    "date = dt.datetime.now()\n",
    "domain = 'http://www.stern.de/politik'\n",
    "tag = 'Politik'\n",
    "\n",
    "urls = ['{}/archiv/?month={}&year={}'.format(domain, month, year) for month in range(1, 13) for year in range(2002, 2016)]"
   ]
  },
  {
   "cell_type": "code",
   "execution_count": 19,
   "metadata": {
    "collapsed": false,
    "scrolled": true
   },
   "outputs": [],
   "source": [
    "def get_articles(soup):\n",
    "    data = []\n",
    "    articles = soup.find('div', class_='article-content')\n",
    "    for article in articles.find_all('div', class_='o-teaser-catchline'):\n",
    "        article_url = article.a.get('href')\n",
    "        title = article.a.get('title')\n",
    "        date = generate_date(article.time.get('datetime').strip())\n",
    "        try:\n",
    "            html = requests.get(article_url, stream=True, timeout=10).content\n",
    "            data.append( (title, date, tag, article_url, html) )\n",
    "        except RequestException as error:\n",
    "            logger.error('ARTICLE FAIL: %s : %s, %s', error, article_url, date)\n",
    "    cursor.executemany(sql_insert, data)\n",
    "    conn.commit()\n",
    "    \n",
    "def scrape_site(url):\n",
    "    req = requests.get(url, timeout=10)\n",
    "    soup = BeautifulSoup(req.content)\n",
    "    get_articles(soup)\n",
    "    next_page = soup.find('li', class_='page-next')\n",
    "    if next_page and next_page.a.get('href'):\n",
    "        scrape_site(next_page.a.get('href'))\n",
    "        \n",
    "for url in urls:\n",
    "    try:\n",
    "        scrape_site(url)\n",
    "    except RequestException as error:\n",
    "        logger.error('MONTH FAIL: %s : %s, %s', error, url, date)\n",
    "    except AttributeError as error:\n",
    "        logger.error('MONTH FAIL: %s : %s, %s', error, url, date)\n",
    "    else:\n",
    "        logger.debug('Successfully crawled articles from: %s', date)\n",
    "    time.sleep(2)\n",
    "conn.close()"
   ]
  }
 ],
 "metadata": {
  "kernelspec": {
   "display_name": "Python 3",
   "language": "python",
   "name": "python3"
  },
  "language_info": {
   "codemirror_mode": {
    "name": "ipython",
    "version": 3
   },
   "file_extension": ".py",
   "mimetype": "text/x-python",
   "name": "python",
   "nbconvert_exporter": "python",
   "pygments_lexer": "ipython3",
   "version": "3.4.3"
  }
 },
 "nbformat": 4,
 "nbformat_minor": 0
}
