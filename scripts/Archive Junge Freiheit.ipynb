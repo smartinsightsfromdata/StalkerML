{
 "cells": [
  {
   "cell_type": "code",
   "execution_count": null,
   "metadata": {
    "collapsed": true
   },
   "outputs": [],
   "source": [
    "import logging\n",
    "import requests\n",
    "from pprint import pprint\n",
    "from requests import RequestException\n",
    "from os import path\n",
    "from bs4 import BeautifulSoup\n",
    "\n",
    "from html2corpus import HTML2Corpus\n",
    "from html2corpus.extractors import ReadabilityExtractor, ParagraphExtractor\n",
    "\n",
    "def check(link, blackwords):\n",
    "    return all([blackword not in link for blackword in blackwords])"
   ]
  },
  {
   "cell_type": "code",
   "execution_count": null,
   "metadata": {
    "collapsed": true
   },
   "outputs": [],
   "source": [
    "domain = 'http://www.fdp.de'\n",
    "keyword = '/content/'\n",
    "blackwords = set(['datenschutz', 'impressum'])\n",
    "site = 'http://www.fdp.de/pressemitteilungen'\n",
    "pages = ['{}?page={}'.format(site, i) for i in range(1, 97)]\n",
    "pages.append(site)\n",
    "\n",
    "def get_data():\n",
    "    for page in pages:\n",
    "        try:\n",
    "            req = requests.get(page, timeout=10)\n",
    "            soup = BeautifulSoup(req.content)\n",
    "            links = set([link['href'] for link in soup.findAll('a')\n",
    "                     if keyword in link['href'] and check(link['href'], blackwords)])\n",
    "            links = map(lambda x: '{}/{}'.format(domain, x), links)\n",
    "            for article in list(links):\n",
    "                article_req = requests.get(article)\n",
    "                yield article_req.content\n",
    "        except RequestException as error:\n",
    "            logging.error('Error: %s', error)\n",
    "            \n",
    "HTML2Corpus(get_data(), extractor=ParagraphExtractor(min_len=100)).save(path.join('data', 'Corpus_FDP.txt'))"
   ]
  }
 ],
 "metadata": {
  "kernelspec": {
   "display_name": "Python 3",
   "language": "python",
   "name": "python3"
  },
  "language_info": {
   "codemirror_mode": {
    "name": "ipython",
    "version": 3
   },
   "file_extension": ".py",
   "mimetype": "text/x-python",
   "name": "python",
   "nbconvert_exporter": "python",
   "pygments_lexer": "ipython3",
   "version": "3.4.3"
  }
 },
 "nbformat": 4,
 "nbformat_minor": 0
}
